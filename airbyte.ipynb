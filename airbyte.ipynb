{
 "cells": [
  {
   "cell_type": "markdown",
   "metadata": {},
   "source": [
    "# Sticker Sales Forecasting with Modal and BentoML\n",
    "\n",
    "## Background\n",
    "\n",
    "In January 2025, [Kaggle](https://www.kaggle.com/competitions/playground-series-s5e1/overview) ran a playground series competition to forecast mulitple years worth of sticker sales in different countries. For each id row, you have to predict the num_sold which represents the number of sticker sold.\n",
    "\n",
    "This notebook demonstrates how to build and deploy a machine learning solution for forecasting sticker sales using Modal (for serverless compute) and BentoML (for model management).\n",
    "\n",
    "NB: The data for this comepeition was synthentically generated but was made to contain real world patterns and effects that you might see in real data such as seasonality, weekend and holiday effect, etc.\n",
    "\n",
    "In this project, we'll build an end-to-end solution for forecasting sticker sales across different stores and countries. We'll use:\n",
    "\n",
    "- **XGBoost**: For the regression model\n",
    "- **FastAI**: For data preprocessing\n",
    "- **Modal**: For serverless compute and API hosting\n",
    "- **BentoML**: For model management\n",
    "\n",
    "The solution will allow us to:\n",
    "1. Upload training data to Modal's cloud storage\n",
    "2. Train a model in Modal's cloud environment\n",
    "3. Deploy a prediction API endpoint\n",
    "4. Make forecasts via API calls\n",
    "\n",
    "### Evaluation\n",
    "\n",
    "The competiton submission were evaluated on the [Mean Absolute Percentage Error (MAPE).](https://scikit-learn.org/stable/modules/generated/sklearn.metrics.mean_absolute_percentage_error.html) metric which expresses the average absolute error as a percentage of the actual values, making it easy to understand the relative size of errors For example, if you predict a value of 90 when the actual is 100, the percentage error is 10%, but if you predict 110 when the actual is 100, the percentage error is also 10%. MAPE averages these absolute percentage errors across all observations.\n",
    "\n",
    "Let's get started!\n",
    "\n",
    "### Pip install dependencies\n",
    "\n",
    "Here we install the dependencies needed for us to run our code below"
   ]
  },
  {
   "cell_type": "code",
   "execution_count": 31,
   "metadata": {},
   "outputs": [
    {
     "name": "stdout",
     "output_type": "stream",
     "text": [
      "Defaulting to user installation because normal site-packages is not writeable\n",
      "Requirement already satisfied: catboost in /home/rubanza/.local/lib/python3.10/site-packages (1.2.7)\n",
      "Requirement already satisfied: six in /usr/lib/python3/dist-packages (from catboost) (1.16.0)\n",
      "Requirement already satisfied: matplotlib in /home/rubanza/.local/lib/python3.10/site-packages (from catboost) (3.10.0)\n",
      "Requirement already satisfied: pandas>=0.24 in /home/rubanza/.local/lib/python3.10/site-packages (from catboost) (2.2.3)\n",
      "Requirement already satisfied: scipy in /home/rubanza/.local/lib/python3.10/site-packages (from catboost) (1.15.0)\n",
      "Requirement already satisfied: numpy<2.0,>=1.16.0 in /home/rubanza/.local/lib/python3.10/site-packages (from catboost) (1.26.4)\n",
      "Requirement already satisfied: graphviz in /home/rubanza/.local/lib/python3.10/site-packages (from catboost) (0.20.3)\n",
      "Requirement already satisfied: plotly in /home/rubanza/.local/lib/python3.10/site-packages (from catboost) (5.24.1)\n",
      "Requirement already satisfied: tzdata>=2022.7 in /home/rubanza/.local/lib/python3.10/site-packages (from pandas>=0.24->catboost) (2024.2)\n",
      "Requirement already satisfied: python-dateutil>=2.8.2 in /home/rubanza/.local/lib/python3.10/site-packages (from pandas>=0.24->catboost) (2.9.0.post0)\n",
      "Requirement already satisfied: pytz>=2020.1 in /home/rubanza/.local/lib/python3.10/site-packages (from pandas>=0.24->catboost) (2024.2)\n",
      "Requirement already satisfied: fonttools>=4.22.0 in /home/rubanza/.local/lib/python3.10/site-packages (from matplotlib->catboost) (4.55.3)\n",
      "Requirement already satisfied: kiwisolver>=1.3.1 in /home/rubanza/.local/lib/python3.10/site-packages (from matplotlib->catboost) (1.4.8)\n",
      "Requirement already satisfied: contourpy>=1.0.1 in /home/rubanza/.local/lib/python3.10/site-packages (from matplotlib->catboost) (1.3.1)\n",
      "Requirement already satisfied: packaging>=20.0 in /home/rubanza/.local/lib/python3.10/site-packages (from matplotlib->catboost) (24.2)\n",
      "Requirement already satisfied: cycler>=0.10 in /home/rubanza/.local/lib/python3.10/site-packages (from matplotlib->catboost) (0.12.1)\n",
      "Requirement already satisfied: pillow>=8 in /home/rubanza/.local/lib/python3.10/site-packages (from matplotlib->catboost) (11.1.0)\n",
      "Requirement already satisfied: pyparsing>=2.3.1 in /usr/lib/python3/dist-packages (from matplotlib->catboost) (2.4.7)\n",
      "Requirement already satisfied: tenacity>=6.2.0 in /home/rubanza/.local/lib/python3.10/site-packages (from plotly->catboost) (9.0.0)\n",
      "Note: you may need to restart the kernel to use updated packages.\n",
      "Defaulting to user installation because normal site-packages is not writeable\n",
      "Requirement already satisfied: seaborn in /home/rubanza/.local/lib/python3.10/site-packages (0.13.2)\n",
      "Requirement already satisfied: pandas>=1.2 in /home/rubanza/.local/lib/python3.10/site-packages (from seaborn) (2.2.3)\n",
      "Requirement already satisfied: numpy!=1.24.0,>=1.20 in /home/rubanza/.local/lib/python3.10/site-packages (from seaborn) (1.26.4)\n",
      "Requirement already satisfied: matplotlib!=3.6.1,>=3.4 in /home/rubanza/.local/lib/python3.10/site-packages (from seaborn) (3.10.0)\n",
      "Requirement already satisfied: python-dateutil>=2.7 in /home/rubanza/.local/lib/python3.10/site-packages (from matplotlib!=3.6.1,>=3.4->seaborn) (2.9.0.post0)\n",
      "Requirement already satisfied: pyparsing>=2.3.1 in /usr/lib/python3/dist-packages (from matplotlib!=3.6.1,>=3.4->seaborn) (2.4.7)\n",
      "Requirement already satisfied: kiwisolver>=1.3.1 in /home/rubanza/.local/lib/python3.10/site-packages (from matplotlib!=3.6.1,>=3.4->seaborn) (1.4.8)\n",
      "Requirement already satisfied: cycler>=0.10 in /home/rubanza/.local/lib/python3.10/site-packages (from matplotlib!=3.6.1,>=3.4->seaborn) (0.12.1)\n",
      "Requirement already satisfied: fonttools>=4.22.0 in /home/rubanza/.local/lib/python3.10/site-packages (from matplotlib!=3.6.1,>=3.4->seaborn) (4.55.3)\n",
      "Requirement already satisfied: packaging>=20.0 in /home/rubanza/.local/lib/python3.10/site-packages (from matplotlib!=3.6.1,>=3.4->seaborn) (24.2)\n",
      "Requirement already satisfied: pillow>=8 in /home/rubanza/.local/lib/python3.10/site-packages (from matplotlib!=3.6.1,>=3.4->seaborn) (11.1.0)\n",
      "Requirement already satisfied: contourpy>=1.0.1 in /home/rubanza/.local/lib/python3.10/site-packages (from matplotlib!=3.6.1,>=3.4->seaborn) (1.3.1)\n",
      "Requirement already satisfied: pytz>=2020.1 in /home/rubanza/.local/lib/python3.10/site-packages (from pandas>=1.2->seaborn) (2024.2)\n",
      "Requirement already satisfied: tzdata>=2022.7 in /home/rubanza/.local/lib/python3.10/site-packages (from pandas>=1.2->seaborn) (2024.2)\n",
      "Requirement already satisfied: six>=1.5 in /usr/lib/python3/dist-packages (from python-dateutil>=2.7->matplotlib!=3.6.1,>=3.4->seaborn) (1.16.0)\n",
      "Note: you may need to restart the kernel to use updated packages.\n",
      "Defaulting to user installation because normal site-packages is not writeable\n",
      "Requirement already satisfied: xgboost in /home/rubanza/.local/lib/python3.10/site-packages (2.1.3)\n",
      "Requirement already satisfied: nvidia-nccl-cu12 in /home/rubanza/.local/lib/python3.10/site-packages (from xgboost) (2.21.5)\n",
      "Requirement already satisfied: scipy in /home/rubanza/.local/lib/python3.10/site-packages (from xgboost) (1.15.0)\n",
      "Requirement already satisfied: numpy in /home/rubanza/.local/lib/python3.10/site-packages (from xgboost) (1.26.4)\n",
      "Note: you may need to restart the kernel to use updated packages.\n",
      "Defaulting to user installation because normal site-packages is not writeable\n",
      "Requirement already satisfied: lightgbm in /home/rubanza/.local/lib/python3.10/site-packages (4.6.0)\n",
      "Requirement already satisfied: scipy in /home/rubanza/.local/lib/python3.10/site-packages (from lightgbm) (1.15.0)\n",
      "Requirement already satisfied: numpy>=1.17.0 in /home/rubanza/.local/lib/python3.10/site-packages (from lightgbm) (1.26.4)\n",
      "Note: you may need to restart the kernel to use updated packages.\n",
      "Defaulting to user installation because normal site-packages is not writeable\n",
      "Requirement already satisfied: fastkaggle in /home/rubanza/.local/lib/python3.10/site-packages (0.0.8)\n",
      "Requirement already satisfied: fastcore>=1.4.5 in /home/rubanza/.local/lib/python3.10/site-packages (from fastkaggle) (1.7.28)\n",
      "Requirement already satisfied: kaggle in /home/rubanza/.local/lib/python3.10/site-packages (from fastkaggle) (1.7.4.2)\n",
      "Requirement already satisfied: packaging in /home/rubanza/.local/lib/python3.10/site-packages (from fastcore>=1.4.5->fastkaggle) (24.2)\n",
      "Requirement already satisfied: urllib3>=1.15.1 in /home/rubanza/.local/lib/python3.10/site-packages (from kaggle->fastkaggle) (2.3.0)\n",
      "Requirement already satisfied: protobuf in /home/rubanza/.local/lib/python3.10/site-packages (from kaggle->fastkaggle) (5.29.2)\n",
      "Requirement already satisfied: webencodings in /home/rubanza/.local/lib/python3.10/site-packages (from kaggle->fastkaggle) (0.5.1)\n",
      "Requirement already satisfied: six>=1.10 in /usr/lib/python3/dist-packages (from kaggle->fastkaggle) (1.16.0)\n",
      "Requirement already satisfied: python-dateutil>=2.5.3 in /home/rubanza/.local/lib/python3.10/site-packages (from kaggle->fastkaggle) (2.9.0.post0)\n",
      "Requirement already satisfied: charset-normalizer in /home/rubanza/.local/lib/python3.10/site-packages (from kaggle->fastkaggle) (3.4.1)\n",
      "Requirement already satisfied: bleach in /home/rubanza/.local/lib/python3.10/site-packages (from kaggle->fastkaggle) (6.2.0)\n",
      "Requirement already satisfied: requests in /home/rubanza/.local/lib/python3.10/site-packages (from kaggle->fastkaggle) (2.32.3)\n",
      "Requirement already satisfied: text-unidecode in /home/rubanza/.local/lib/python3.10/site-packages (from kaggle->fastkaggle) (1.3)\n",
      "Requirement already satisfied: python-slugify in /home/rubanza/.local/lib/python3.10/site-packages (from kaggle->fastkaggle) (8.0.4)\n",
      "Requirement already satisfied: tqdm in /home/rubanza/.local/lib/python3.10/site-packages (from kaggle->fastkaggle) (4.67.1)\n",
      "Requirement already satisfied: certifi>=14.05.14 in /home/rubanza/.local/lib/python3.10/site-packages (from kaggle->fastkaggle) (2024.12.14)\n",
      "Requirement already satisfied: setuptools>=21.0.0 in /usr/lib/python3/dist-packages (from kaggle->fastkaggle) (59.6.0)\n",
      "Requirement already satisfied: idna in /home/rubanza/.local/lib/python3.10/site-packages (from kaggle->fastkaggle) (3.10)\n",
      "Note: you may need to restart the kernel to use updated packages.\n",
      "Note: you may need to restart the kernel to use updated packages.\n",
      "Defaulting to user installation because normal site-packages is not writeable\n",
      "Requirement already satisfied: polars in /home/rubanza/.local/lib/python3.10/site-packages (1.22.0)\n",
      "Note: you may need to restart the kernel to use updated packages.\n",
      "Defaulting to user installation because normal site-packages is not writeable\n",
      "Requirement already satisfied: tqdm in /home/rubanza/.local/lib/python3.10/site-packages (4.67.1)\n",
      "Note: you may need to restart the kernel to use updated packages.\n",
      "Defaulting to user installation because normal site-packages is not writeable\n",
      "Requirement already satisfied: gradio in /home/rubanza/.local/lib/python3.10/site-packages (5.12.0)\n",
      "Requirement already satisfied: huggingface-hub>=0.25.1 in /home/rubanza/.local/lib/python3.10/site-packages (from gradio) (0.27.1)\n",
      "Requirement already satisfied: anyio<5.0,>=3.0 in /home/rubanza/.local/lib/python3.10/site-packages (from gradio) (4.7.0)\n",
      "Requirement already satisfied: numpy<3.0,>=1.0 in /home/rubanza/.local/lib/python3.10/site-packages (from gradio) (1.26.4)\n",
      "Requirement already satisfied: tomlkit<0.14.0,>=0.12.0 in /home/rubanza/.local/lib/python3.10/site-packages (from gradio) (0.13.2)\n",
      "Requirement already satisfied: ruff>=0.2.2 in /home/rubanza/.local/lib/python3.10/site-packages (from gradio) (0.9.2)\n",
      "Requirement already satisfied: typer<1.0,>=0.12 in /home/rubanza/.local/lib/python3.10/site-packages (from gradio) (0.15.1)\n",
      "Requirement already satisfied: uvicorn>=0.14.0 in /home/rubanza/.local/lib/python3.10/site-packages (from gradio) (0.34.0)\n",
      "Requirement already satisfied: httpx>=0.24.1 in /home/rubanza/.local/lib/python3.10/site-packages (from gradio) (0.28.1)\n",
      "Requirement already satisfied: jinja2<4.0 in /home/rubanza/.local/lib/python3.10/site-packages (from gradio) (3.1.5)\n",
      "Requirement already satisfied: pydantic>=2.0 in /home/rubanza/.local/lib/python3.10/site-packages (from gradio) (2.10.4)\n",
      "Requirement already satisfied: ffmpy in /home/rubanza/.local/lib/python3.10/site-packages (from gradio) (0.5.0)\n",
      "Requirement already satisfied: pyyaml<7.0,>=5.0 in /usr/lib/python3/dist-packages (from gradio) (5.4.1)\n",
      "Requirement already satisfied: orjson~=3.0 in /home/rubanza/.local/lib/python3.10/site-packages (from gradio) (3.10.15)\n",
      "Requirement already satisfied: markupsafe~=2.0 in /home/rubanza/.local/lib/python3.10/site-packages (from gradio) (2.1.5)\n",
      "Requirement already satisfied: starlette<1.0,>=0.40.0 in /home/rubanza/.local/lib/python3.10/site-packages (from gradio) (0.41.3)\n",
      "Requirement already satisfied: fastapi<1.0,>=0.115.2 in /home/rubanza/.local/lib/python3.10/site-packages (from gradio) (0.115.6)\n",
      "Requirement already satisfied: pillow<12.0,>=8.0 in /home/rubanza/.local/lib/python3.10/site-packages (from gradio) (11.1.0)\n",
      "Requirement already satisfied: semantic-version~=2.0 in /home/rubanza/.local/lib/python3.10/site-packages (from gradio) (2.10.0)\n",
      "Requirement already satisfied: typing-extensions~=4.0 in /home/rubanza/.local/lib/python3.10/site-packages (from gradio) (4.12.2)\n",
      "Requirement already satisfied: packaging in /home/rubanza/.local/lib/python3.10/site-packages (from gradio) (24.2)\n",
      "Requirement already satisfied: python-multipart>=0.0.18 in /home/rubanza/.local/lib/python3.10/site-packages (from gradio) (0.0.20)\n",
      "Requirement already satisfied: pydub in /home/rubanza/.local/lib/python3.10/site-packages (from gradio) (0.25.1)\n",
      "Requirement already satisfied: safehttpx<0.2.0,>=0.1.6 in /home/rubanza/.local/lib/python3.10/site-packages (from gradio) (0.1.6)\n",
      "Requirement already satisfied: gradio-client==1.5.4 in /home/rubanza/.local/lib/python3.10/site-packages (from gradio) (1.5.4)\n",
      "Requirement already satisfied: aiofiles<24.0,>=22.0 in /home/rubanza/.local/lib/python3.10/site-packages (from gradio) (23.2.1)\n",
      "Requirement already satisfied: pandas<3.0,>=1.0 in /home/rubanza/.local/lib/python3.10/site-packages (from gradio) (2.2.3)\n",
      "Requirement already satisfied: websockets<15.0,>=10.0 in /home/rubanza/.local/lib/python3.10/site-packages (from gradio-client==1.5.4->gradio) (14.2)\n",
      "Requirement already satisfied: fsspec in /home/rubanza/.local/lib/python3.10/site-packages (from gradio-client==1.5.4->gradio) (2024.12.0)\n",
      "Requirement already satisfied: idna>=2.8 in /home/rubanza/.local/lib/python3.10/site-packages (from anyio<5.0,>=3.0->gradio) (3.10)\n",
      "Requirement already satisfied: sniffio>=1.1 in /home/rubanza/.local/lib/python3.10/site-packages (from anyio<5.0,>=3.0->gradio) (1.3.1)\n",
      "Requirement already satisfied: exceptiongroup>=1.0.2 in /home/rubanza/.local/lib/python3.10/site-packages (from anyio<5.0,>=3.0->gradio) (1.2.2)\n",
      "Requirement already satisfied: certifi in /home/rubanza/.local/lib/python3.10/site-packages (from httpx>=0.24.1->gradio) (2024.12.14)\n",
      "Requirement already satisfied: httpcore==1.* in /home/rubanza/.local/lib/python3.10/site-packages (from httpx>=0.24.1->gradio) (1.0.7)\n",
      "Requirement already satisfied: h11<0.15,>=0.13 in /home/rubanza/.local/lib/python3.10/site-packages (from httpcore==1.*->httpx>=0.24.1->gradio) (0.14.0)\n",
      "Requirement already satisfied: tqdm>=4.42.1 in /home/rubanza/.local/lib/python3.10/site-packages (from huggingface-hub>=0.25.1->gradio) (4.67.1)\n",
      "Requirement already satisfied: requests in /home/rubanza/.local/lib/python3.10/site-packages (from huggingface-hub>=0.25.1->gradio) (2.32.3)\n",
      "Requirement already satisfied: filelock in /home/rubanza/.local/lib/python3.10/site-packages (from huggingface-hub>=0.25.1->gradio) (3.16.1)\n",
      "Requirement already satisfied: tzdata>=2022.7 in /home/rubanza/.local/lib/python3.10/site-packages (from pandas<3.0,>=1.0->gradio) (2024.2)\n",
      "Requirement already satisfied: pytz>=2020.1 in /home/rubanza/.local/lib/python3.10/site-packages (from pandas<3.0,>=1.0->gradio) (2024.2)\n",
      "Requirement already satisfied: python-dateutil>=2.8.2 in /home/rubanza/.local/lib/python3.10/site-packages (from pandas<3.0,>=1.0->gradio) (2.9.0.post0)\n",
      "Requirement already satisfied: pydantic-core==2.27.2 in /home/rubanza/.local/lib/python3.10/site-packages (from pydantic>=2.0->gradio) (2.27.2)\n",
      "Requirement already satisfied: annotated-types>=0.6.0 in /home/rubanza/.local/lib/python3.10/site-packages (from pydantic>=2.0->gradio) (0.7.0)\n",
      "Requirement already satisfied: shellingham>=1.3.0 in /home/rubanza/.local/lib/python3.10/site-packages (from typer<1.0,>=0.12->gradio) (1.5.4)\n",
      "Requirement already satisfied: click>=8.0.0 in /home/rubanza/.local/lib/python3.10/site-packages (from typer<1.0,>=0.12->gradio) (8.1.8)\n",
      "Requirement already satisfied: rich>=10.11.0 in /home/rubanza/.local/lib/python3.10/site-packages (from typer<1.0,>=0.12->gradio) (13.9.4)\n",
      "Requirement already satisfied: six>=1.5 in /usr/lib/python3/dist-packages (from python-dateutil>=2.8.2->pandas<3.0,>=1.0->gradio) (1.16.0)\n",
      "Requirement already satisfied: markdown-it-py>=2.2.0 in /home/rubanza/.local/lib/python3.10/site-packages (from rich>=10.11.0->typer<1.0,>=0.12->gradio) (3.0.0)\n",
      "Requirement already satisfied: pygments<3.0.0,>=2.13.0 in /home/rubanza/.local/lib/python3.10/site-packages (from rich>=10.11.0->typer<1.0,>=0.12->gradio) (2.18.0)\n",
      "Requirement already satisfied: urllib3<3,>=1.21.1 in /home/rubanza/.local/lib/python3.10/site-packages (from requests->huggingface-hub>=0.25.1->gradio) (2.3.0)\n",
      "Requirement already satisfied: charset-normalizer<4,>=2 in /home/rubanza/.local/lib/python3.10/site-packages (from requests->huggingface-hub>=0.25.1->gradio) (3.4.1)\n",
      "Requirement already satisfied: mdurl~=0.1 in /home/rubanza/.local/lib/python3.10/site-packages (from markdown-it-py>=2.2.0->rich>=10.11.0->typer<1.0,>=0.12->gradio) (0.1.2)\n",
      "Note: you may need to restart the kernel to use updated packages.\n",
      "Defaulting to user installation because normal site-packages is not writeable\n",
      "Requirement already satisfied: dash in /home/rubanza/.local/lib/python3.10/site-packages (2.18.2)\n",
      "Requirement already satisfied: Werkzeug<3.1 in /home/rubanza/.local/lib/python3.10/site-packages (from dash) (3.0.6)\n",
      "Requirement already satisfied: plotly>=5.0.0 in /home/rubanza/.local/lib/python3.10/site-packages (from dash) (5.24.1)\n",
      "Requirement already satisfied: requests in /home/rubanza/.local/lib/python3.10/site-packages (from dash) (2.32.3)\n",
      "Requirement already satisfied: importlib-metadata in /home/rubanza/.local/lib/python3.10/site-packages (from dash) (8.5.0)\n",
      "Requirement already satisfied: retrying in /home/rubanza/.local/lib/python3.10/site-packages (from dash) (1.3.4)\n",
      "Requirement already satisfied: dash-table==5.0.0 in /home/rubanza/.local/lib/python3.10/site-packages (from dash) (5.0.0)\n",
      "Requirement already satisfied: Flask<3.1,>=1.0.4 in /home/rubanza/.local/lib/python3.10/site-packages (from dash) (3.0.3)\n",
      "Requirement already satisfied: dash-core-components==2.0.0 in /home/rubanza/.local/lib/python3.10/site-packages (from dash) (2.0.0)\n",
      "Requirement already satisfied: nest-asyncio in /home/rubanza/.local/lib/python3.10/site-packages (from dash) (1.6.0)\n",
      "Requirement already satisfied: setuptools in /usr/lib/python3/dist-packages (from dash) (59.6.0)\n",
      "Requirement already satisfied: dash-html-components==2.0.0 in /home/rubanza/.local/lib/python3.10/site-packages (from dash) (2.0.0)\n",
      "Requirement already satisfied: typing-extensions>=4.1.1 in /home/rubanza/.local/lib/python3.10/site-packages (from dash) (4.12.2)\n",
      "Requirement already satisfied: itsdangerous>=2.1.2 in /home/rubanza/.local/lib/python3.10/site-packages (from Flask<3.1,>=1.0.4->dash) (2.2.0)\n",
      "Requirement already satisfied: click>=8.1.3 in /home/rubanza/.local/lib/python3.10/site-packages (from Flask<3.1,>=1.0.4->dash) (8.1.8)\n",
      "Requirement already satisfied: blinker>=1.6.2 in /home/rubanza/.local/lib/python3.10/site-packages (from Flask<3.1,>=1.0.4->dash) (1.9.0)\n",
      "Requirement already satisfied: Jinja2>=3.1.2 in /home/rubanza/.local/lib/python3.10/site-packages (from Flask<3.1,>=1.0.4->dash) (3.1.5)\n",
      "Requirement already satisfied: tenacity>=6.2.0 in /home/rubanza/.local/lib/python3.10/site-packages (from plotly>=5.0.0->dash) (9.0.0)\n",
      "Requirement already satisfied: packaging in /home/rubanza/.local/lib/python3.10/site-packages (from plotly>=5.0.0->dash) (24.2)\n",
      "Requirement already satisfied: MarkupSafe>=2.1.1 in /home/rubanza/.local/lib/python3.10/site-packages (from Werkzeug<3.1->dash) (2.1.5)\n",
      "Requirement already satisfied: zipp>=3.20 in /home/rubanza/.local/lib/python3.10/site-packages (from importlib-metadata->dash) (3.21.0)\n",
      "Requirement already satisfied: urllib3<3,>=1.21.1 in /home/rubanza/.local/lib/python3.10/site-packages (from requests->dash) (2.3.0)\n",
      "Requirement already satisfied: certifi>=2017.4.17 in /home/rubanza/.local/lib/python3.10/site-packages (from requests->dash) (2024.12.14)\n",
      "Requirement already satisfied: idna<4,>=2.5 in /home/rubanza/.local/lib/python3.10/site-packages (from requests->dash) (3.10)\n",
      "Requirement already satisfied: charset-normalizer<4,>=2 in /home/rubanza/.local/lib/python3.10/site-packages (from requests->dash) (3.4.1)\n",
      "Requirement already satisfied: six>=1.7.0 in /usr/lib/python3/dist-packages (from retrying->dash) (1.16.0)\n",
      "Note: you may need to restart the kernel to use updated packages.\n",
      "Defaulting to user installation because normal site-packages is not writeable\n",
      "Requirement already satisfied: streamlit in /home/rubanza/.local/lib/python3.10/site-packages (1.41.1)\n",
      "Requirement already satisfied: plotly in /home/rubanza/.local/lib/python3.10/site-packages (5.24.1)\n",
      "Requirement already satisfied: requests in /home/rubanza/.local/lib/python3.10/site-packages (2.32.3)\n",
      "Requirement already satisfied: click<9,>=7.0 in /home/rubanza/.local/lib/python3.10/site-packages (from streamlit) (8.1.8)\n",
      "Requirement already satisfied: numpy<3,>=1.23 in /home/rubanza/.local/lib/python3.10/site-packages (from streamlit) (1.26.4)\n",
      "Requirement already satisfied: packaging<25,>=20 in /home/rubanza/.local/lib/python3.10/site-packages (from streamlit) (24.2)\n",
      "Requirement already satisfied: watchdog<7,>=2.1.5 in /home/rubanza/.local/lib/python3.10/site-packages (from streamlit) (6.0.0)\n",
      "Requirement already satisfied: toml<2,>=0.10.1 in /home/rubanza/.local/lib/python3.10/site-packages (from streamlit) (0.10.2)\n",
      "Requirement already satisfied: rich<14,>=10.14.0 in /home/rubanza/.local/lib/python3.10/site-packages (from streamlit) (13.9.4)\n",
      "Requirement already satisfied: protobuf<6,>=3.20 in /home/rubanza/.local/lib/python3.10/site-packages (from streamlit) (5.29.2)\n",
      "Requirement already satisfied: tornado<7,>=6.0.3 in /home/rubanza/.local/lib/python3.10/site-packages (from streamlit) (6.4.2)\n",
      "Requirement already satisfied: pandas<3,>=1.4.0 in /home/rubanza/.local/lib/python3.10/site-packages (from streamlit) (2.2.3)\n",
      "Requirement already satisfied: typing-extensions<5,>=4.3.0 in /home/rubanza/.local/lib/python3.10/site-packages (from streamlit) (4.12.2)\n",
      "Requirement already satisfied: pydeck<1,>=0.8.0b4 in /home/rubanza/.local/lib/python3.10/site-packages (from streamlit) (0.9.1)\n",
      "Requirement already satisfied: cachetools<6,>=4.0 in /home/rubanza/.local/lib/python3.10/site-packages (from streamlit) (5.5.0)\n",
      "Requirement already satisfied: gitpython!=3.1.19,<4,>=3.0.7 in /home/rubanza/.local/lib/python3.10/site-packages (from streamlit) (3.1.44)\n",
      "Requirement already satisfied: pyarrow>=7.0 in /home/rubanza/.local/lib/python3.10/site-packages (from streamlit) (18.1.0)\n",
      "Requirement already satisfied: blinker<2,>=1.0.0 in /home/rubanza/.local/lib/python3.10/site-packages (from streamlit) (1.9.0)\n",
      "Requirement already satisfied: altair<6,>=4.0 in /home/rubanza/.local/lib/python3.10/site-packages (from streamlit) (5.5.0)\n",
      "Requirement already satisfied: pillow<12,>=7.1.0 in /home/rubanza/.local/lib/python3.10/site-packages (from streamlit) (11.1.0)\n",
      "Requirement already satisfied: tenacity<10,>=8.1.0 in /home/rubanza/.local/lib/python3.10/site-packages (from streamlit) (9.0.0)\n",
      "Requirement already satisfied: charset-normalizer<4,>=2 in /home/rubanza/.local/lib/python3.10/site-packages (from requests) (3.4.1)\n",
      "Requirement already satisfied: urllib3<3,>=1.21.1 in /home/rubanza/.local/lib/python3.10/site-packages (from requests) (2.3.0)\n",
      "Requirement already satisfied: certifi>=2017.4.17 in /home/rubanza/.local/lib/python3.10/site-packages (from requests) (2024.12.14)\n",
      "Requirement already satisfied: idna<4,>=2.5 in /home/rubanza/.local/lib/python3.10/site-packages (from requests) (3.10)\n",
      "Requirement already satisfied: narwhals>=1.14.2 in /home/rubanza/.local/lib/python3.10/site-packages (from altair<6,>=4.0->streamlit) (1.21.1)\n",
      "Requirement already satisfied: jinja2 in /home/rubanza/.local/lib/python3.10/site-packages (from altair<6,>=4.0->streamlit) (3.1.5)\n",
      "Requirement already satisfied: jsonschema>=3.0 in /home/rubanza/.local/lib/python3.10/site-packages (from altair<6,>=4.0->streamlit) (4.23.0)\n",
      "Requirement already satisfied: gitdb<5,>=4.0.1 in /home/rubanza/.local/lib/python3.10/site-packages (from gitpython!=3.1.19,<4,>=3.0.7->streamlit) (4.0.12)\n",
      "Requirement already satisfied: pytz>=2020.1 in /home/rubanza/.local/lib/python3.10/site-packages (from pandas<3,>=1.4.0->streamlit) (2024.2)\n",
      "Requirement already satisfied: tzdata>=2022.7 in /home/rubanza/.local/lib/python3.10/site-packages (from pandas<3,>=1.4.0->streamlit) (2024.2)\n",
      "Requirement already satisfied: python-dateutil>=2.8.2 in /home/rubanza/.local/lib/python3.10/site-packages (from pandas<3,>=1.4.0->streamlit) (2.9.0.post0)\n",
      "Requirement already satisfied: markdown-it-py>=2.2.0 in /home/rubanza/.local/lib/python3.10/site-packages (from rich<14,>=10.14.0->streamlit) (3.0.0)\n",
      "Requirement already satisfied: pygments<3.0.0,>=2.13.0 in /home/rubanza/.local/lib/python3.10/site-packages (from rich<14,>=10.14.0->streamlit) (2.18.0)\n",
      "Requirement already satisfied: smmap<6,>=3.0.1 in /home/rubanza/.local/lib/python3.10/site-packages (from gitdb<5,>=4.0.1->gitpython!=3.1.19,<4,>=3.0.7->streamlit) (5.0.2)\n",
      "Requirement already satisfied: MarkupSafe>=2.0 in /home/rubanza/.local/lib/python3.10/site-packages (from jinja2->altair<6,>=4.0->streamlit) (2.1.5)\n",
      "Requirement already satisfied: rpds-py>=0.7.1 in /home/rubanza/.local/lib/python3.10/site-packages (from jsonschema>=3.0->altair<6,>=4.0->streamlit) (0.22.3)\n",
      "Requirement already satisfied: attrs>=22.2.0 in /home/rubanza/.local/lib/python3.10/site-packages (from jsonschema>=3.0->altair<6,>=4.0->streamlit) (24.3.0)\n",
      "Requirement already satisfied: referencing>=0.28.4 in /home/rubanza/.local/lib/python3.10/site-packages (from jsonschema>=3.0->altair<6,>=4.0->streamlit) (0.35.1)\n",
      "Requirement already satisfied: jsonschema-specifications>=2023.03.6 in /home/rubanza/.local/lib/python3.10/site-packages (from jsonschema>=3.0->altair<6,>=4.0->streamlit) (2024.10.1)\n",
      "Requirement already satisfied: mdurl~=0.1 in /home/rubanza/.local/lib/python3.10/site-packages (from markdown-it-py>=2.2.0->rich<14,>=10.14.0->streamlit) (0.1.2)\n",
      "Requirement already satisfied: six>=1.5 in /usr/lib/python3/dist-packages (from python-dateutil>=2.8.2->pandas<3,>=1.4.0->streamlit) (1.16.0)\n",
      "Note: you may need to restart the kernel to use updated packages.\n",
      "Defaulting to user installation because normal site-packages is not writeable\n",
      "Requirement already satisfied: boto3 in /home/rubanza/.local/lib/python3.10/site-packages (1.37.13)\n",
      "Requirement already satisfied: botocore<1.38.0,>=1.37.13 in /home/rubanza/.local/lib/python3.10/site-packages (from boto3) (1.37.13)\n",
      "Requirement already satisfied: jmespath<2.0.0,>=0.7.1 in /home/rubanza/.local/lib/python3.10/site-packages (from boto3) (1.0.1)\n",
      "Requirement already satisfied: s3transfer<0.12.0,>=0.11.0 in /home/rubanza/.local/lib/python3.10/site-packages (from boto3) (0.11.4)\n",
      "Requirement already satisfied: python-dateutil<3.0.0,>=2.1 in /home/rubanza/.local/lib/python3.10/site-packages (from botocore<1.38.0,>=1.37.13->boto3) (2.9.0.post0)\n",
      "Requirement already satisfied: urllib3!=2.2.0,<3,>=1.25.4 in /home/rubanza/.local/lib/python3.10/site-packages (from botocore<1.38.0,>=1.37.13->boto3) (2.3.0)\n",
      "Requirement already satisfied: six>=1.5 in /usr/lib/python3/dist-packages (from python-dateutil<3.0.0,>=2.1->botocore<1.38.0,>=1.37.13->boto3) (1.16.0)\n",
      "Note: you may need to restart the kernel to use updated packages.\n",
      "Defaulting to user installation because normal site-packages is not writeable\n",
      "Collecting modal\n",
      "  Downloading modal-0.74.15-py3-none-any.whl (563 kB)\n",
      "\u001b[2K     \u001b[90m━━━━━━━━━━━━━━━━━━━━━━━━━━━━━━━━━━━━━\u001b[0m \u001b[32m563.3/563.3 KB\u001b[0m \u001b[31m930.3 kB/s\u001b[0m eta \u001b[36m0:00:00\u001b[0ma \u001b[36m0:00:01\u001b[0m\n",
      "\u001b[?25hRequirement already satisfied: bentoml in /home/rubanza/.local/lib/python3.10/site-packages (1.3.18)\n",
      "Collecting synchronicity~=0.9.10\n",
      "  Downloading synchronicity-0.9.11-py3-none-any.whl (36 kB)\n",
      "Requirement already satisfied: typing_extensions~=4.6 in /home/rubanza/.local/lib/python3.10/site-packages (from modal) (4.12.2)\n",
      "Requirement already satisfied: watchfiles in /home/rubanza/.local/lib/python3.10/site-packages (from modal) (1.0.3)\n",
      "Requirement already satisfied: toml in /home/rubanza/.local/lib/python3.10/site-packages (from modal) (0.10.2)\n",
      "Requirement already satisfied: certifi in /home/rubanza/.local/lib/python3.10/site-packages (from modal) (2024.12.14)\n",
      "Requirement already satisfied: protobuf!=4.24.0,<6.0,>=3.19 in /home/rubanza/.local/lib/python3.10/site-packages (from modal) (5.29.2)\n",
      "Collecting types-certifi\n",
      "  Downloading types_certifi-2021.10.8.3-py3-none-any.whl (2.1 kB)\n",
      "Requirement already satisfied: click>=8.1.0 in /home/rubanza/.local/lib/python3.10/site-packages (from modal) (8.1.8)\n",
      "Requirement already satisfied: typer>=0.9 in /home/rubanza/.local/lib/python3.10/site-packages (from modal) (0.15.1)\n",
      "Requirement already satisfied: rich>=12.0.0 in /home/rubanza/.local/lib/python3.10/site-packages (from modal) (13.9.4)\n",
      "Collecting types-toml\n",
      "  Downloading types_toml-0.10.8.20240310-py3-none-any.whl (4.8 kB)\n",
      "Requirement already satisfied: aiohttp in /home/rubanza/.local/lib/python3.10/site-packages (from modal) (3.11.11)\n",
      "Collecting grpclib==0.4.7\n",
      "  Using cached grpclib-0.4.7-py3-none-any.whl\n",
      "Requirement already satisfied: fastapi in /home/rubanza/.local/lib/python3.10/site-packages (from modal) (0.115.6)\n",
      "Collecting h2<5,>=3.1.0\n",
      "  Downloading h2-4.2.0-py3-none-any.whl (60 kB)\n",
      "\u001b[2K     \u001b[90m━━━━━━━━━━━━━━━━━━━━━━━━━━━━━━━━━━━━━━━\u001b[0m \u001b[32m61.0/61.0 KB\u001b[0m \u001b[31m795.0 kB/s\u001b[0m eta \u001b[36m0:00:00\u001b[0m \u001b[36m0:00:01\u001b[0m\n",
      "\u001b[?25hRequirement already satisfied: multidict in /home/rubanza/.local/lib/python3.10/site-packages (from grpclib==0.4.7->modal) (6.1.0)\n",
      "Requirement already satisfied: httpx-ws>=0.6.0 in /home/rubanza/.local/lib/python3.10/site-packages (from bentoml) (0.7.1)\n",
      "Requirement already satisfied: cattrs<23.2.0,>=22.1.0 in /home/rubanza/.local/lib/python3.10/site-packages (from bentoml) (23.1.2)\n",
      "Requirement already satisfied: simple-di>=0.1.4 in /home/rubanza/.local/lib/python3.10/site-packages (from bentoml) (0.1.5)\n",
      "Requirement already satisfied: opentelemetry-instrumentation-aiohttp-client~=0.41b0 in /home/rubanza/.local/lib/python3.10/site-packages (from bentoml) (0.50b0)\n",
      "Requirement already satisfied: jinja2>=3.0.1 in /home/rubanza/.local/lib/python3.10/site-packages (from bentoml) (3.1.5)\n",
      "Requirement already satisfied: tomli-w in /home/rubanza/.local/lib/python3.10/site-packages (from bentoml) (1.1.0)\n",
      "Requirement already satisfied: packaging>=22.0 in /home/rubanza/.local/lib/python3.10/site-packages (from bentoml) (24.2)\n",
      "Requirement already satisfied: questionary>=2.0.1 in /home/rubanza/.local/lib/python3.10/site-packages (from bentoml) (2.1.0)\n",
      "Requirement already satisfied: fs in /home/rubanza/.local/lib/python3.10/site-packages (from bentoml) (2.4.16)\n",
      "Requirement already satisfied: psutil in /usr/lib/python3/dist-packages (from bentoml) (5.9.0)\n",
      "Requirement already satisfied: python-json-logger in /home/rubanza/.local/lib/python3.10/site-packages (from bentoml) (3.2.1)\n",
      "Requirement already satisfied: pyyaml>=5.0 in /usr/lib/python3/dist-packages (from bentoml) (5.4.1)\n",
      "Requirement already satisfied: attrs>=22.2.0 in /home/rubanza/.local/lib/python3.10/site-packages (from bentoml) (24.3.0)\n",
      "Requirement already satisfied: uv>=0.5 in /home/rubanza/.local/lib/python3.10/site-packages (from bentoml) (0.5.14)\n",
      "Requirement already satisfied: numpy in /home/rubanza/.local/lib/python3.10/site-packages (from bentoml) (1.26.4)\n",
      "Requirement already satisfied: pathspec in /home/rubanza/.local/lib/python3.10/site-packages (from bentoml) (0.12.1)\n",
      "Requirement already satisfied: opentelemetry-sdk~=1.20 in /home/rubanza/.local/lib/python3.10/site-packages (from bentoml) (1.29.0)\n",
      "Requirement already satisfied: starlette>=0.24.0 in /home/rubanza/.local/lib/python3.10/site-packages (from bentoml) (0.41.3)\n",
      "Requirement already satisfied: a2wsgi>=1.10.7 in /home/rubanza/.local/lib/python3.10/site-packages (from bentoml) (1.10.7)\n",
      "Requirement already satisfied: cloudpickle>=2.0.0 in /home/rubanza/.local/lib/python3.10/site-packages (from bentoml) (3.1.0)\n",
      "Requirement already satisfied: kantoku>=0.18.1 in /home/rubanza/.local/lib/python3.10/site-packages (from bentoml) (0.18.1)\n",
      "Requirement already satisfied: inflection in /home/rubanza/.local/lib/python3.10/site-packages (from bentoml) (0.5.1)\n",
      "Requirement already satisfied: nvidia-ml-py in /home/rubanza/.local/lib/python3.10/site-packages (from bentoml) (12.560.30)\n",
      "Requirement already satisfied: python-multipart in /home/rubanza/.local/lib/python3.10/site-packages (from bentoml) (0.0.20)\n",
      "Requirement already satisfied: uvicorn>=0.22.0 in /home/rubanza/.local/lib/python3.10/site-packages (from bentoml) (0.34.0)\n",
      "Requirement already satisfied: deepmerge in /home/rubanza/.local/lib/python3.10/site-packages (from bentoml) (2.0)\n",
      "Requirement already satisfied: schema in /home/rubanza/.local/lib/python3.10/site-packages (from bentoml) (0.7.7)\n",
      "Requirement already satisfied: httpx in /home/rubanza/.local/lib/python3.10/site-packages (from bentoml) (0.28.1)\n",
      "Requirement already satisfied: opentelemetry-instrumentation~=0.41b0 in /home/rubanza/.local/lib/python3.10/site-packages (from bentoml) (0.50b0)\n",
      "Requirement already satisfied: pydantic<3 in /home/rubanza/.local/lib/python3.10/site-packages (from bentoml) (2.10.4)\n",
      "Requirement already satisfied: opentelemetry-api~=1.20 in /home/rubanza/.local/lib/python3.10/site-packages (from bentoml) (1.29.0)\n",
      "Requirement already satisfied: aiosqlite>=0.20.0 in /home/rubanza/.local/lib/python3.10/site-packages (from bentoml) (0.20.0)\n",
      "Requirement already satisfied: pip-requirements-parser>=31.2.0 in /home/rubanza/.local/lib/python3.10/site-packages (from bentoml) (32.0.1)\n",
      "Requirement already satisfied: prometheus-client>=0.10.0 in /home/rubanza/.local/lib/python3.10/site-packages (from bentoml) (0.21.1)\n",
      "Requirement already satisfied: opentelemetry-instrumentation-asgi~=0.41b0 in /home/rubanza/.local/lib/python3.10/site-packages (from bentoml) (0.50b0)\n",
      "Requirement already satisfied: click-option-group in /home/rubanza/.local/lib/python3.10/site-packages (from bentoml) (0.5.6)\n",
      "Requirement already satisfied: tomli>=1.1.0 in /home/rubanza/.local/lib/python3.10/site-packages (from bentoml) (2.2.1)\n",
      "Requirement already satisfied: opentelemetry-semantic-conventions~=0.41b0 in /home/rubanza/.local/lib/python3.10/site-packages (from bentoml) (0.50b0)\n",
      "Requirement already satisfied: python-dotenv>=1.0.1 in /home/rubanza/.local/lib/python3.10/site-packages (from bentoml) (1.0.1)\n",
      "Requirement already satisfied: opentelemetry-util-http~=0.41b0 in /home/rubanza/.local/lib/python3.10/site-packages (from bentoml) (0.50b0)\n",
      "Requirement already satisfied: python-dateutil in /home/rubanza/.local/lib/python3.10/site-packages (from bentoml) (2.9.0.post0)\n",
      "Requirement already satisfied: exceptiongroup in /home/rubanza/.local/lib/python3.10/site-packages (from cattrs<23.2.0,>=22.1.0->bentoml) (1.2.2)\n",
      "Requirement already satisfied: anyio>=4 in /home/rubanza/.local/lib/python3.10/site-packages (from httpx-ws>=0.6.0->bentoml) (4.7.0)\n",
      "Requirement already satisfied: wsproto in /home/rubanza/.local/lib/python3.10/site-packages (from httpx-ws>=0.6.0->bentoml) (1.2.0)\n",
      "Requirement already satisfied: httpcore>=1.0.4 in /home/rubanza/.local/lib/python3.10/site-packages (from httpx-ws>=0.6.0->bentoml) (1.0.7)\n",
      "Requirement already satisfied: idna in /home/rubanza/.local/lib/python3.10/site-packages (from httpx->bentoml) (3.10)\n",
      "Requirement already satisfied: h11<0.15,>=0.13 in /home/rubanza/.local/lib/python3.10/site-packages (from httpcore>=1.0.4->httpx-ws>=0.6.0->bentoml) (0.14.0)\n",
      "Requirement already satisfied: MarkupSafe>=2.0 in /home/rubanza/.local/lib/python3.10/site-packages (from jinja2>=3.0.1->bentoml) (2.1.5)\n",
      "Requirement already satisfied: tornado>=5.0.2 in /home/rubanza/.local/lib/python3.10/site-packages (from kantoku>=0.18.1->bentoml) (6.4.2)\n",
      "Requirement already satisfied: pyzmq>=17.0 in /home/rubanza/.local/lib/python3.10/site-packages (from kantoku>=0.18.1->bentoml) (26.2.0)\n",
      "Requirement already satisfied: deprecated>=1.2.6 in /home/rubanza/.local/lib/python3.10/site-packages (from opentelemetry-api~=1.20->bentoml) (1.2.15)\n",
      "Requirement already satisfied: importlib-metadata<=8.5.0,>=6.0 in /home/rubanza/.local/lib/python3.10/site-packages (from opentelemetry-api~=1.20->bentoml) (8.5.0)\n",
      "Requirement already satisfied: wrapt<2.0.0,>=1.0.0 in /home/rubanza/.local/lib/python3.10/site-packages (from opentelemetry-instrumentation~=0.41b0->bentoml) (1.17.0)\n",
      "Requirement already satisfied: asgiref~=3.0 in /home/rubanza/.local/lib/python3.10/site-packages (from opentelemetry-instrumentation-asgi~=0.41b0->bentoml) (3.8.1)\n",
      "Requirement already satisfied: pyparsing in /usr/lib/python3/dist-packages (from pip-requirements-parser>=31.2.0->bentoml) (2.4.7)\n",
      "Requirement already satisfied: annotated-types>=0.6.0 in /home/rubanza/.local/lib/python3.10/site-packages (from pydantic<3->bentoml) (0.7.0)\n",
      "Requirement already satisfied: pydantic-core==2.27.2 in /home/rubanza/.local/lib/python3.10/site-packages (from pydantic<3->bentoml) (2.27.2)\n",
      "Requirement already satisfied: prompt_toolkit<4.0,>=2.0 in /home/rubanza/.local/lib/python3.10/site-packages (from questionary>=2.0.1->bentoml) (3.0.48)\n",
      "Requirement already satisfied: markdown-it-py>=2.2.0 in /home/rubanza/.local/lib/python3.10/site-packages (from rich>=12.0.0->modal) (3.0.0)\n",
      "Requirement already satisfied: pygments<3.0.0,>=2.13.0 in /home/rubanza/.local/lib/python3.10/site-packages (from rich>=12.0.0->modal) (2.18.0)\n",
      "Collecting sigtools>=4.0.1\n",
      "  Downloading sigtools-4.0.1-py2.py3-none-any.whl (76 kB)\n",
      "\u001b[2K     \u001b[90m━━━━━━━━━━━━━━━━━━━━━━━━━━━━━━━━━━━━━━━━\u001b[0m \u001b[32m76.4/76.4 KB\u001b[0m \u001b[31m1.0 MB/s\u001b[0m eta \u001b[36m0:00:00\u001b[0ma \u001b[36m0:00:01\u001b[0m\n",
      "\u001b[?25hRequirement already satisfied: shellingham>=1.3.0 in /home/rubanza/.local/lib/python3.10/site-packages (from typer>=0.9->modal) (1.5.4)\n",
      "Requirement already satisfied: frozenlist>=1.1.1 in /home/rubanza/.local/lib/python3.10/site-packages (from aiohttp->modal) (1.5.0)\n",
      "Requirement already satisfied: async-timeout<6.0,>=4.0 in /home/rubanza/.local/lib/python3.10/site-packages (from aiohttp->modal) (5.0.1)\n",
      "Requirement already satisfied: aiohappyeyeballs>=2.3.0 in /home/rubanza/.local/lib/python3.10/site-packages (from aiohttp->modal) (2.4.4)\n",
      "Requirement already satisfied: yarl<2.0,>=1.17.0 in /home/rubanza/.local/lib/python3.10/site-packages (from aiohttp->modal) (1.18.3)\n",
      "Requirement already satisfied: propcache>=0.2.0 in /home/rubanza/.local/lib/python3.10/site-packages (from aiohttp->modal) (0.2.1)\n",
      "Requirement already satisfied: aiosignal>=1.1.2 in /home/rubanza/.local/lib/python3.10/site-packages (from aiohttp->modal) (1.3.2)\n",
      "Requirement already satisfied: setuptools in /usr/lib/python3/dist-packages (from fs->bentoml) (59.6.0)\n",
      "Requirement already satisfied: six~=1.10 in /usr/lib/python3/dist-packages (from fs->bentoml) (1.16.0)\n",
      "Requirement already satisfied: appdirs~=1.4.3 in /home/rubanza/.local/lib/python3.10/site-packages (from fs->bentoml) (1.4.4)\n",
      "Requirement already satisfied: sniffio>=1.1 in /home/rubanza/.local/lib/python3.10/site-packages (from anyio>=4->httpx-ws>=0.6.0->bentoml) (1.3.1)\n",
      "Collecting hpack<5,>=4.1\n",
      "  Downloading hpack-4.1.0-py3-none-any.whl (34 kB)\n",
      "Collecting hyperframe<7,>=6.1\n",
      "  Downloading hyperframe-6.1.0-py3-none-any.whl (13 kB)\n",
      "Requirement already satisfied: zipp>=3.20 in /home/rubanza/.local/lib/python3.10/site-packages (from importlib-metadata<=8.5.0,>=6.0->opentelemetry-api~=1.20->bentoml) (3.21.0)\n",
      "Requirement already satisfied: mdurl~=0.1 in /home/rubanza/.local/lib/python3.10/site-packages (from markdown-it-py>=2.2.0->rich>=12.0.0->modal) (0.1.2)\n",
      "Requirement already satisfied: wcwidth in /home/rubanza/.local/lib/python3.10/site-packages (from prompt_toolkit<4.0,>=2.0->questionary>=2.0.1->bentoml) (0.2.13)\n",
      "Installing collected packages: types-certifi, types-toml, sigtools, hyperframe, hpack, synchronicity, h2, grpclib, modal\n",
      "Successfully installed grpclib-0.4.7 h2-4.2.0 hpack-4.1.0 hyperframe-6.1.0 modal-0.74.15 sigtools-4.0.1 synchronicity-0.9.11 types-certifi-2021.10.8.3 types-toml-0.10.8.20240310\n",
      "Note: you may need to restart the kernel to use updated packages.\n",
      "Defaulting to user installation because normal site-packages is not writeable\n",
      "Requirement already satisfied: streamlit in /home/rubanza/.local/lib/python3.10/site-packages (1.41.1)\n",
      "Requirement already satisfied: pandas in /home/rubanza/.local/lib/python3.10/site-packages (2.2.3)\n",
      "Requirement already satisfied: requests in /home/rubanza/.local/lib/python3.10/site-packages (2.32.3)\n",
      "Requirement already satisfied: plotly in /home/rubanza/.local/lib/python3.10/site-packages (5.24.1)\n",
      "Requirement already satisfied: toml<2,>=0.10.1 in /home/rubanza/.local/lib/python3.10/site-packages (from streamlit) (0.10.2)\n",
      "Requirement already satisfied: tenacity<10,>=8.1.0 in /home/rubanza/.local/lib/python3.10/site-packages (from streamlit) (9.0.0)\n",
      "Requirement already satisfied: gitpython!=3.1.19,<4,>=3.0.7 in /home/rubanza/.local/lib/python3.10/site-packages (from streamlit) (3.1.44)\n",
      "Requirement already satisfied: pyarrow>=7.0 in /home/rubanza/.local/lib/python3.10/site-packages (from streamlit) (18.1.0)\n",
      "Requirement already satisfied: blinker<2,>=1.0.0 in /home/rubanza/.local/lib/python3.10/site-packages (from streamlit) (1.9.0)\n",
      "Requirement already satisfied: tornado<7,>=6.0.3 in /home/rubanza/.local/lib/python3.10/site-packages (from streamlit) (6.4.2)\n",
      "Requirement already satisfied: cachetools<6,>=4.0 in /home/rubanza/.local/lib/python3.10/site-packages (from streamlit) (5.5.0)\n",
      "Requirement already satisfied: pillow<12,>=7.1.0 in /home/rubanza/.local/lib/python3.10/site-packages (from streamlit) (11.1.0)\n",
      "Requirement already satisfied: watchdog<7,>=2.1.5 in /home/rubanza/.local/lib/python3.10/site-packages (from streamlit) (6.0.0)\n",
      "Requirement already satisfied: protobuf<6,>=3.20 in /home/rubanza/.local/lib/python3.10/site-packages (from streamlit) (5.29.2)\n",
      "Requirement already satisfied: numpy<3,>=1.23 in /home/rubanza/.local/lib/python3.10/site-packages (from streamlit) (1.26.4)\n",
      "Requirement already satisfied: altair<6,>=4.0 in /home/rubanza/.local/lib/python3.10/site-packages (from streamlit) (5.5.0)\n",
      "Requirement already satisfied: typing-extensions<5,>=4.3.0 in /home/rubanza/.local/lib/python3.10/site-packages (from streamlit) (4.12.2)\n",
      "Requirement already satisfied: rich<14,>=10.14.0 in /home/rubanza/.local/lib/python3.10/site-packages (from streamlit) (13.9.4)\n",
      "Requirement already satisfied: click<9,>=7.0 in /home/rubanza/.local/lib/python3.10/site-packages (from streamlit) (8.1.8)\n",
      "Requirement already satisfied: pydeck<1,>=0.8.0b4 in /home/rubanza/.local/lib/python3.10/site-packages (from streamlit) (0.9.1)\n",
      "Requirement already satisfied: packaging<25,>=20 in /home/rubanza/.local/lib/python3.10/site-packages (from streamlit) (24.2)\n",
      "Requirement already satisfied: python-dateutil>=2.8.2 in /home/rubanza/.local/lib/python3.10/site-packages (from pandas) (2.9.0.post0)\n",
      "Requirement already satisfied: tzdata>=2022.7 in /home/rubanza/.local/lib/python3.10/site-packages (from pandas) (2024.2)\n",
      "Requirement already satisfied: pytz>=2020.1 in /home/rubanza/.local/lib/python3.10/site-packages (from pandas) (2024.2)\n",
      "Requirement already satisfied: charset-normalizer<4,>=2 in /home/rubanza/.local/lib/python3.10/site-packages (from requests) (3.4.1)\n",
      "Requirement already satisfied: certifi>=2017.4.17 in /home/rubanza/.local/lib/python3.10/site-packages (from requests) (2024.12.14)\n",
      "Requirement already satisfied: idna<4,>=2.5 in /home/rubanza/.local/lib/python3.10/site-packages (from requests) (3.10)\n",
      "Requirement already satisfied: urllib3<3,>=1.21.1 in /home/rubanza/.local/lib/python3.10/site-packages (from requests) (2.3.0)\n",
      "Requirement already satisfied: jsonschema>=3.0 in /home/rubanza/.local/lib/python3.10/site-packages (from altair<6,>=4.0->streamlit) (4.23.0)\n",
      "Requirement already satisfied: jinja2 in /home/rubanza/.local/lib/python3.10/site-packages (from altair<6,>=4.0->streamlit) (3.1.5)\n",
      "Requirement already satisfied: narwhals>=1.14.2 in /home/rubanza/.local/lib/python3.10/site-packages (from altair<6,>=4.0->streamlit) (1.21.1)\n",
      "Requirement already satisfied: gitdb<5,>=4.0.1 in /home/rubanza/.local/lib/python3.10/site-packages (from gitpython!=3.1.19,<4,>=3.0.7->streamlit) (4.0.12)\n",
      "Requirement already satisfied: six>=1.5 in /usr/lib/python3/dist-packages (from python-dateutil>=2.8.2->pandas) (1.16.0)\n",
      "Requirement already satisfied: pygments<3.0.0,>=2.13.0 in /home/rubanza/.local/lib/python3.10/site-packages (from rich<14,>=10.14.0->streamlit) (2.18.0)\n",
      "Requirement already satisfied: markdown-it-py>=2.2.0 in /home/rubanza/.local/lib/python3.10/site-packages (from rich<14,>=10.14.0->streamlit) (3.0.0)\n",
      "Requirement already satisfied: smmap<6,>=3.0.1 in /home/rubanza/.local/lib/python3.10/site-packages (from gitdb<5,>=4.0.1->gitpython!=3.1.19,<4,>=3.0.7->streamlit) (5.0.2)\n",
      "Requirement already satisfied: MarkupSafe>=2.0 in /home/rubanza/.local/lib/python3.10/site-packages (from jinja2->altair<6,>=4.0->streamlit) (2.1.5)\n",
      "Requirement already satisfied: referencing>=0.28.4 in /home/rubanza/.local/lib/python3.10/site-packages (from jsonschema>=3.0->altair<6,>=4.0->streamlit) (0.35.1)\n",
      "Requirement already satisfied: attrs>=22.2.0 in /home/rubanza/.local/lib/python3.10/site-packages (from jsonschema>=3.0->altair<6,>=4.0->streamlit) (24.3.0)\n",
      "Requirement already satisfied: jsonschema-specifications>=2023.03.6 in /home/rubanza/.local/lib/python3.10/site-packages (from jsonschema>=3.0->altair<6,>=4.0->streamlit) (2024.10.1)\n",
      "Requirement already satisfied: rpds-py>=0.7.1 in /home/rubanza/.local/lib/python3.10/site-packages (from jsonschema>=3.0->altair<6,>=4.0->streamlit) (0.22.3)\n",
      "Requirement already satisfied: mdurl~=0.1 in /home/rubanza/.local/lib/python3.10/site-packages (from markdown-it-py>=2.2.0->rich<14,>=10.14.0->streamlit) (0.1.2)\n",
      "Note: you may need to restart the kernel to use updated packages.\n"
     ]
    }
   ],
   "source": [
    "#| code-fold: true\n",
    "#| output: false\n",
    "#| code-summary: \"Library Installation\"\n",
    "\n",
    "\n",
    "%pip install catboost\n",
    "#%pip install optuna\n",
    "#%pip install optuna_distributed\n",
    "#%pip install openfe\n",
    "%pip install seaborn\n",
    "%pip install xgboost\n",
    "%pip install lightgbm\n",
    "%pip install fastkaggle\n",
    "#%pip install h2o\n",
    "%pip install -Uqq fastbook\n",
    "%pip install polars\n",
    "%pip install tqdm\n",
    "#%pip install wandb\n",
    "#%pip install sweetviz\n",
    "#%pip install --upgrade scipy\n",
    "%pip install gradio\n",
    "%pip install dash\n",
    "%pip install streamlit plotly requests\n",
    "%pip install boto3\n",
    "%pip install modal bentoml \n",
    "%pip install streamlit pandas requests plotly"
   ]
  },
  {
   "cell_type": "markdown",
   "metadata": {},
   "source": [
    "### Imports"
   ]
  },
  {
   "cell_type": "code",
   "execution_count": 32,
   "metadata": {},
   "outputs": [],
   "source": [
    "#|include: false \n",
    "#|hide_metadata\n",
    "#| code-fold: true\n",
    "#| output: false\n",
    "#| code-summary: \"Library Import\"\n",
    "\n",
    "import fastbook\n",
    "fastbook.setup_book()\n",
    "from fastbook import *\n",
    "from fastai.tabular.all import *\n",
    "import pandas as pd\n",
    "import matplotlib.pyplot as plt\n",
    "import seaborn as sns\n",
    "import numpy as np\n",
    "from numpy import random\n",
    "from tqdm import tqdm\n",
    "from ipywidgets import interact\n",
    "\n",
    "from fastai.imports import *\n",
    "#from fastkaggle import setup_comp\n",
    "np.set_printoptions(linewidth=130)\n",
    "\n",
    "\n",
    "from pathlib import Path\n",
    "import os\n",
    "\n",
    "\n",
    "from sklearn.ensemble import RandomForestRegressor\n",
    "from sklearn.metrics import mean_absolute_percentage_error\n",
    "from sklearn.ensemble import VotingRegressor,StackingRegressor\n",
    "from sklearn.preprocessing import StandardScaler\n",
    "from sklearn.model_selection import KFold, cross_val_score,train_test_split\n",
    "from sklearn.linear_model import LinearRegression\n",
    "\n",
    "#transformers and pipeline\n",
    "from sklearn.compose import ColumnTransformer, make_column_transformer\n",
    "from sklearn.pipeline import Pipeline, make_pipeline\n",
    "from sklearn import set_config\n",
    "\n",
    "import xgboost as xgb\n",
    "from xgboost import plot_importance\n",
    "from xgboost import XGBClassifier\n",
    "import lightgbm as lgb\n",
    "from lightgbm import LGBMClassifier\n",
    "from catboost import CatBoostRegressor,Pool, metrics, cv\n",
    "\n",
    "\n",
    "import warnings\n",
    "\n",
    "\n",
    "matplotlib.rc('image', cmap='Greys')\n",
    "import scipy.stats as stats\n",
    "\n",
    "\n",
    "\n",
    "#import h2o\n",
    "#from h2o.automl import H2OAutoML\n",
    "\n",
    "import gc\n",
    "#import wandb\n",
    "\n",
    "import pickle\n",
    "from joblib import dump, load\n",
    "#import sweetviz as sv\n",
    "#from IPython.display import FileLink\n",
    "\n",
    "import dash\n",
    "from dash import dcc, html, dash_table\n",
    "\n",
    "import boto3\n",
    "import io\n",
    "import getpass\n",
    "import json\n",
    "\n",
    "from joblib import dump, load\n",
    "import typing as t\n",
    "import bentoml\n",
    "from bentoml.validators import DataframeSchema\n",
    "\n",
    "import modal"
   ]
  },
  {
   "attachments": {
    "airbyte-screenshot.png": {
     "image/png": "[encoded data removed]"
    }
   },
   "cell_type": "markdown",
   "metadata": {},
   "source": [
    "# Extract, Load and Transform\n",
    "\n",
    "I use [airbyte](https://airbyte.com/) which is an open source tool that can be used to extract and load data from one source to another, building data pipelines.\n",
    "\n",
    "![airbyte-screenshot.png](attachment:airbyte-screenshot.png)\n",
    "\n",
    "To demonstrate this in our example, we uploaded our training csv data into a google sheet and then pulled it aws s3. After this, we load this dataset into our training enviroment as shown below."
   ]
  },
  {
   "cell_type": "code",
   "execution_count": 7,
   "metadata": {},
   "outputs": [],
   "source": [
    "#| include: false\n",
    "#| code-fold: true\n",
    "#| output: false\n",
    "#| code-summary: \"AWS Authentication\"\n",
    "\n",
    "# Get AWS credentials securely through interactive input\n",
    "aws_access_key = input(\"Enter your AWS access key: \")\n",
    "aws_secret_key = getpass.getpass(\"Enter your AWS secret key: \")\n",
    "\n",
    "# Create S3 client with user-provided credentials\n",
    "s3_client = boto3.client(\n",
    "    's3',\n",
    "    aws_access_key_id=aws_access_key,\n",
    "    aws_secret_access_key=aws_secret_key\n",
    ")\n",
    "\n",
    "# Now you can use s3_client as before\n",
    "# For example:\n",
    "# response = s3_client.get_object(Bucket='your-bucket', Key='your-file.csv')\n",
    "# df = pd.read_csv(io.BytesIO(response['Body'].read()))"
   ]
  },
  {
   "cell_type": "code",
   "execution_count": null,
   "metadata": {},
   "outputs": [],
   "source": [
    "# Method 1: Download file to local and then read\n",
    "s3_client.download_file('flexible-functions', 'sticker-sales/train.csv/ss_train.csv', 'local_filename_ss.csv')\n",
    "df = pd.read_csv('local_filename_ss.csv')"
   ]
  },
  {
   "cell_type": "code",
   "execution_count": null,
   "metadata": {},
   "outputs": [
    {
     "name": "stdout",
     "output_type": "stream",
     "text": [
      "LICENSE\t\tdata\t\t       s05e01-gbms-fastai-preprocessing.ipynb\n",
      "README.md\tgradio_ui\t       service.py\n",
      "__pycache__\tload_save.py\t       streamlit_ui\n",
      "airbyte.ipynb\tlocal_filename_ss.csv  test.py\n",
      "bentofile.yaml\trequirements.txt\n"
     ]
    }
   ],
   "source": [
    "!ls"
   ]
  },
  {
   "cell_type": "code",
   "execution_count": null,
   "metadata": {},
   "outputs": [],
   "source": [
    "train_df = pd.read_csv('local_filename_ss.csv')"
   ]
  },
  {
   "cell_type": "code",
   "execution_count": null,
   "metadata": {},
   "outputs": [
    {
     "data": {
      "application/vnd.microsoft.datawrangler.viewer.v0+json": {
       "columns": [
        {
         "name": "index",
         "rawType": "int64",
         "type": "integer"
        },
        {
         "name": "_airbyte_raw_id",
         "rawType": "object",
         "type": "string"
        },
        {
         "name": "_airbyte_extracted_at",
         "rawType": "int64",
         "type": "integer"
        },
        {
         "name": "_airbyte_meta",
         "rawType": "object",
         "type": "string"
        },
        {
         "name": "_airbyte_generation_id",
         "rawType": "int64",
         "type": "integer"
        },
        {
         "name": "_airbyte_data",
         "rawType": "object",
         "type": "string"
        }
       ],
       "conversionMethod": "pd.DataFrame",
       "ref": "126246ff-4a33-4340-a86b-f521046a0aaa",
       "rows": [
        [
         "0",
         "6d6c8062-482a-4b5a-aaa6-dea1c916be45",
         "1742174334284",
         "{\"sync_id\":30952774,\"changes\":[]}",
         "1",
         "{\"id\":\"0\",\"date\":\"2010-01-01\",\"country\":\"Canada\",\"store\":\"Discount Stickers\",\"product\":\"Holographic Goose\"}"
        ],
        [
         "1",
         "8d798e53-1322-4db0-a88b-e4eeb7357bb4",
         "1742174334284",
         "{\"sync_id\":30952774,\"changes\":[]}",
         "1",
         "{\"id\":\"1\",\"date\":\"2010-01-01\",\"country\":\"Canada\",\"store\":\"Discount Stickers\",\"product\":\"Kaggle\",\"num_sold\":\"973\"}"
        ],
        [
         "2",
         "33e1611d-353c-4de3-bc18-4ba1dc512679",
         "1742174334284",
         "{\"sync_id\":30952774,\"changes\":[]}",
         "1",
         "{\"id\":\"2\",\"date\":\"2010-01-01\",\"country\":\"Canada\",\"store\":\"Discount Stickers\",\"product\":\"Kaggle Tiers\",\"num_sold\":\"906\"}"
        ],
        [
         "3",
         "240d36b1-a1c8-4c3f-8d9d-63a65f7312e8",
         "1742174334284",
         "{\"sync_id\":30952774,\"changes\":[]}",
         "1",
         "{\"id\":\"3\",\"date\":\"2010-01-01\",\"country\":\"Canada\",\"store\":\"Discount Stickers\",\"product\":\"Kerneler\",\"num_sold\":\"423\"}"
        ],
        [
         "4",
         "6587ddb0-75ca-42cb-8b32-e884e31421e0",
         "1742174334284",
         "{\"sync_id\":30952774,\"changes\":[]}",
         "1",
         "{\"id\":\"4\",\"date\":\"2010-01-01\",\"country\":\"Canada\",\"store\":\"Discount Stickers\",\"product\":\"Kerneler Dark Mode\",\"num_sold\":\"491\"}"
        ],
        [
         "5",
         "93fd50fc-15a8-425a-ab77-3cc4958f1005",
         "1742174334285",
         "{\"sync_id\":30952774,\"changes\":[]}",
         "1",
         "{\"id\":\"5\",\"date\":\"2010-01-01\",\"country\":\"Canada\",\"store\":\"Stickers for Less\",\"product\":\"Holographic Goose\",\"num_sold\":\"300\"}"
        ],
        [
         "6",
         "bf1b2bfc-b943-4380-977d-76a2c56db886",
         "1742174334285",
         "{\"sync_id\":30952774,\"changes\":[]}",
         "1",
         "{\"id\":\"6\",\"date\":\"2010-01-01\",\"country\":\"Canada\",\"store\":\"Stickers for Less\",\"product\":\"Kaggle\",\"num_sold\":\"1837\"}"
        ],
        [
         "7",
         "b0515785-7d9b-4b2a-893d-ff8f31a57abf",
         "1742174334285",
         "{\"sync_id\":30952774,\"changes\":[]}",
         "1",
         "{\"id\":\"7\",\"date\":\"2010-01-01\",\"country\":\"Canada\",\"store\":\"Stickers for Less\",\"product\":\"Kaggle Tiers\",\"num_sold\":\"1659\"}"
        ],
        [
         "8",
         "d6d1733f-fd39-475a-ab86-e46a2231dad1",
         "1742174334285",
         "{\"sync_id\":30952774,\"changes\":[]}",
         "1",
         "{\"id\":\"8\",\"date\":\"2010-01-01\",\"country\":\"Canada\",\"store\":\"Stickers for Less\",\"product\":\"Kerneler\",\"num_sold\":\"807\"}"
        ],
        [
         "9",
         "9a483c13-7ed1-4144-b988-2ac9a0ae5a4c",
         "1742174334285",
         "{\"sync_id\":30952774,\"changes\":[]}",
         "1",
         "{\"id\":\"9\",\"date\":\"2010-01-01\",\"country\":\"Canada\",\"store\":\"Stickers for Less\",\"product\":\"Kerneler Dark Mode\",\"num_sold\":\"940\"}"
        ],
        [
         "10",
         "f95fb862-0749-41b8-a726-2af3b4002d4a",
         "1742174334285",
         "{\"sync_id\":30952774,\"changes\":[]}",
         "1",
         "{\"id\":\"10\",\"date\":\"2010-01-01\",\"country\":\"Canada\",\"store\":\"Premium Sticker Mart\",\"product\":\"Holographic Goose\",\"num_sold\":\"375\"}"
        ],
        [
         "11",
         "2dcb2b9f-27a4-45dc-ac62-25505fc4dd2d",
         "1742174334285",
         "{\"sync_id\":30952774,\"changes\":[]}",
         "1",
         "{\"id\":\"11\",\"date\":\"2010-01-01\",\"country\":\"Canada\",\"store\":\"Premium Sticker Mart\",\"product\":\"Kaggle\",\"num_sold\":\"2212\"}"
        ],
        [
         "12",
         "b3fc7760-681c-4f6e-9919-f9d94d4e539e",
         "1742174334285",
         "{\"sync_id\":30952774,\"changes\":[]}",
         "1",
         "{\"id\":\"12\",\"date\":\"2010-01-01\",\"country\":\"Canada\",\"store\":\"Premium Sticker Mart\",\"product\":\"Kaggle Tiers\",\"num_sold\":\"2013\"}"
        ],
        [
         "13",
         "6d32e3a6-04ae-4635-807d-049f65b48f9a",
         "1742174334285",
         "{\"sync_id\":30952774,\"changes\":[]}",
         "1",
         "{\"id\":\"13\",\"date\":\"2010-01-01\",\"country\":\"Canada\",\"store\":\"Premium Sticker Mart\",\"product\":\"Kerneler\",\"num_sold\":\"950\"}"
        ],
        [
         "14",
         "0a7fd14c-a661-4794-8d9d-f4b5e0f9a6fa",
         "1742174334285",
         "{\"sync_id\":30952774,\"changes\":[]}",
         "1",
         "{\"id\":\"14\",\"date\":\"2010-01-01\",\"country\":\"Canada\",\"store\":\"Premium Sticker Mart\",\"product\":\"Kerneler Dark Mode\",\"num_sold\":\"1213\"}"
        ],
        [
         "15",
         "a063eb6a-e64a-4964-bd34-45e311589077",
         "1742174334285",
         "{\"sync_id\":30952774,\"changes\":[]}",
         "1",
         "{\"id\":\"15\",\"date\":\"2010-01-01\",\"country\":\"Finland\",\"store\":\"Discount Stickers\",\"product\":\"Holographic Goose\",\"num_sold\":\"150\"}"
        ],
        [
         "16",
         "e89669c4-d9c4-4a6e-8690-80f223e4967b",
         "1742174334285",
         "{\"sync_id\":30952774,\"changes\":[]}",
         "1",
         "{\"id\":\"16\",\"date\":\"2010-01-01\",\"country\":\"Finland\",\"store\":\"Discount Stickers\",\"product\":\"Kaggle\",\"num_sold\":\"926\"}"
        ],
        [
         "17",
         "d703e843-3809-4fbd-9dcd-80da89acbc59",
         "1742174334285",
         "{\"sync_id\":30952774,\"changes\":[]}",
         "1",
         "{\"id\":\"17\",\"date\":\"2010-01-01\",\"country\":\"Finland\",\"store\":\"Discount Stickers\",\"product\":\"Kaggle Tiers\",\"num_sold\":\"774\"}"
        ],
        [
         "18",
         "80296b92-4137-48f9-8dd2-2fde74a10ea0",
         "1742174334285",
         "{\"sync_id\":30952774,\"changes\":[]}",
         "1",
         "{\"id\":\"18\",\"date\":\"2010-01-01\",\"country\":\"Finland\",\"store\":\"Discount Stickers\",\"product\":\"Kerneler\",\"num_sold\":\"424\"}"
        ],
        [
         "19",
         "bc9e54cb-dab6-4dc4-9478-79357b1aa45e",
         "1742174334285",
         "{\"sync_id\":30952774,\"changes\":[]}",
         "1",
         "{\"id\":\"19\",\"date\":\"2010-01-01\",\"country\":\"Finland\",\"store\":\"Discount Stickers\",\"product\":\"Kerneler Dark Mode\",\"num_sold\":\"450\"}"
        ],
        [
         "20",
         "ec32e4d3-da94-4dd8-8b34-ff5bc8e2e05e",
         "1742174334291",
         "{\"sync_id\":30952774,\"changes\":[]}",
         "1",
         "{\"id\":\"20\",\"date\":\"2010-01-01\",\"country\":\"Finland\",\"store\":\"Stickers for Less\",\"product\":\"Holographic Goose\",\"num_sold\":\"311\"}"
        ],
        [
         "21",
         "3dcddf2a-3c5c-4a97-a99a-50c62de11f02",
         "1742174334291",
         "{\"sync_id\":30952774,\"changes\":[]}",
         "1",
         "{\"id\":\"21\",\"date\":\"2010-01-01\",\"country\":\"Finland\",\"store\":\"Stickers for Less\",\"product\":\"Kaggle\",\"num_sold\":\"1948\"}"
        ],
        [
         "22",
         "c00f7af9-fca7-4c48-b9c5-9eec5bccfcf5",
         "1742174334291",
         "{\"sync_id\":30952774,\"changes\":[]}",
         "1",
         "{\"id\":\"22\",\"date\":\"2010-01-01\",\"country\":\"Finland\",\"store\":\"Stickers for Less\",\"product\":\"Kaggle Tiers\",\"num_sold\":\"1632\"}"
        ],
        [
         "23",
         "7f8910de-b15d-49e3-81a5-63e2e945be28",
         "1742174334291",
         "{\"sync_id\":30952774,\"changes\":[]}",
         "1",
         "{\"id\":\"23\",\"date\":\"2010-01-01\",\"country\":\"Finland\",\"store\":\"Stickers for Less\",\"product\":\"Kerneler\",\"num_sold\":\"878\"}"
        ],
        [
         "24",
         "19e03638-34fd-493b-8ba5-00c4c4175533",
         "1742174334291",
         "{\"sync_id\":30952774,\"changes\":[]}",
         "1",
         "{\"id\":\"24\",\"date\":\"2010-01-01\",\"country\":\"Finland\",\"store\":\"Stickers for Less\",\"product\":\"Kerneler Dark Mode\",\"num_sold\":\"950\"}"
        ],
        [
         "25",
         "ab9b5333-f7df-4c51-b4aa-663fc89a8492",
         "1742174334291",
         "{\"sync_id\":30952774,\"changes\":[]}",
         "1",
         "{\"id\":\"25\",\"date\":\"2010-01-01\",\"country\":\"Finland\",\"store\":\"Premium Sticker Mart\",\"product\":\"Holographic Goose\",\"num_sold\":\"362\"}"
        ],
        [
         "26",
         "2a14414d-a900-4392-b116-842db9bd4af0",
         "1742174334291",
         "{\"sync_id\":30952774,\"changes\":[]}",
         "1",
         "{\"id\":\"26\",\"date\":\"2010-01-01\",\"country\":\"Finland\",\"store\":\"Premium Sticker Mart\",\"product\":\"Kaggle\",\"num_sold\":\"2304\"}"
        ],
        [
         "27",
         "0f5db46d-8a68-4e9b-aa69-633f80688294",
         "1742174334291",
         "{\"sync_id\":30952774,\"changes\":[]}",
         "1",
         "{\"id\":\"27\",\"date\":\"2010-01-01\",\"country\":\"Finland\",\"store\":\"Premium Sticker Mart\",\"product\":\"Kaggle Tiers\",\"num_sold\":\"2070\"}"
        ],
        [
         "28",
         "752e0465-b92a-4285-b621-df616fceace2",
         "1742174334291",
         "{\"sync_id\":30952774,\"changes\":[]}",
         "1",
         "{\"id\":\"28\",\"date\":\"2010-01-01\",\"country\":\"Finland\",\"store\":\"Premium Sticker Mart\",\"product\":\"Kerneler\",\"num_sold\":\"1134\"}"
        ],
        [
         "29",
         "5b13e255-5a06-4283-93b0-5b3ebb78a588",
         "1742174334291",
         "{\"sync_id\":30952774,\"changes\":[]}",
         "1",
         "{\"id\":\"29\",\"date\":\"2010-01-01\",\"country\":\"Finland\",\"store\":\"Premium Sticker Mart\",\"product\":\"Kerneler Dark Mode\",\"num_sold\":\"1047\"}"
        ],
        [
         "30",
         "64d28d23-14b3-4a2c-8bf0-03f0f818edb6",
         "1742174334291",
         "{\"sync_id\":30952774,\"changes\":[]}",
         "1",
         "{\"id\":\"30\",\"date\":\"2010-01-01\",\"country\":\"Italy\",\"store\":\"Discount Stickers\",\"product\":\"Holographic Goose\",\"num_sold\":\"110\"}"
        ],
        [
         "31",
         "8ee8d6db-0e4d-471f-9555-6f753a3ea0e0",
         "1742174334291",
         "{\"sync_id\":30952774,\"changes\":[]}",
         "1",
         "{\"id\":\"31\",\"date\":\"2010-01-01\",\"country\":\"Italy\",\"store\":\"Discount Stickers\",\"product\":\"Kaggle\",\"num_sold\":\"681\"}"
        ],
        [
         "32",
         "de616219-b3af-4b29-979a-4d13d612a458",
         "1742174334291",
         "{\"sync_id\":30952774,\"changes\":[]}",
         "1",
         "{\"id\":\"32\",\"date\":\"2010-01-01\",\"country\":\"Italy\",\"store\":\"Discount Stickers\",\"product\":\"Kaggle Tiers\",\"num_sold\":\"627\"}"
        ],
        [
         "33",
         "aa5c0a68-a74c-482c-8af3-8072de069cb7",
         "1742174334291",
         "{\"sync_id\":30952774,\"changes\":[]}",
         "1",
         "{\"id\":\"33\",\"date\":\"2010-01-01\",\"country\":\"Italy\",\"store\":\"Discount Stickers\",\"product\":\"Kerneler\",\"num_sold\":\"340\"}"
        ],
        [
         "34",
         "d52c3e52-1e53-4b0b-bb30-56f358238240",
         "1742174334291",
         "{\"sync_id\":30952774,\"changes\":[]}",
         "1",
         "{\"id\":\"34\",\"date\":\"2010-01-01\",\"country\":\"Italy\",\"store\":\"Discount Stickers\",\"product\":\"Kerneler Dark Mode\",\"num_sold\":\"406\"}"
        ],
        [
         "35",
         "75debe92-a2ba-4b2d-8a46-f5d3eb4536c0",
         "1742174334292",
         "{\"sync_id\":30952774,\"changes\":[]}",
         "1",
         "{\"id\":\"35\",\"date\":\"2010-01-01\",\"country\":\"Italy\",\"store\":\"Stickers for Less\",\"product\":\"Holographic Goose\",\"num_sold\":\"228\"}"
        ],
        [
         "36",
         "8834d945-37ee-419a-bd18-98a8eab9d60e",
         "1742174334292",
         "{\"sync_id\":30952774,\"changes\":[]}",
         "1",
         "{\"id\":\"36\",\"date\":\"2010-01-01\",\"country\":\"Italy\",\"store\":\"Stickers for Less\",\"product\":\"Kaggle\",\"num_sold\":\"1424\"}"
        ],
        [
         "37",
         "1cfbcc4b-0422-4055-87ee-75525b2335a2",
         "1742174334292",
         "{\"sync_id\":30952774,\"changes\":[]}",
         "1",
         "{\"id\":\"37\",\"date\":\"2010-01-01\",\"country\":\"Italy\",\"store\":\"Stickers for Less\",\"product\":\"Kaggle Tiers\",\"num_sold\":\"1281\"}"
        ],
        [
         "38",
         "574c6e98-2de1-4553-afd1-b1062895a36a",
         "1742174334292",
         "{\"sync_id\":30952774,\"changes\":[]}",
         "1",
         "{\"id\":\"38\",\"date\":\"2010-01-01\",\"country\":\"Italy\",\"store\":\"Stickers for Less\",\"product\":\"Kerneler\",\"num_sold\":\"637\"}"
        ],
        [
         "39",
         "d805405e-3599-497b-9fed-3ff59a6cb07a",
         "1742174334292",
         "{\"sync_id\":30952774,\"changes\":[]}",
         "1",
         "{\"id\":\"39\",\"date\":\"2010-01-01\",\"country\":\"Italy\",\"store\":\"Stickers for Less\",\"product\":\"Kerneler Dark Mode\",\"num_sold\":\"778\"}"
        ],
        [
         "40",
         "82503653-6b53-4f07-80f2-00a57346a702",
         "1742174334297",
         "{\"sync_id\":30952774,\"changes\":[]}",
         "1",
         "{\"id\":\"40\",\"date\":\"2010-01-01\",\"country\":\"Italy\",\"store\":\"Premium Sticker Mart\",\"product\":\"Holographic Goose\",\"num_sold\":\"269\"}"
        ],
        [
         "41",
         "f00b489e-b237-477e-a79c-43e09b64cfd6",
         "1742174334297",
         "{\"sync_id\":30952774,\"changes\":[]}",
         "1",
         "{\"id\":\"41\",\"date\":\"2010-01-01\",\"country\":\"Italy\",\"store\":\"Premium Sticker Mart\",\"product\":\"Kaggle\",\"num_sold\":\"1786\"}"
        ],
        [
         "42",
         "d18b7b56-f870-43e5-9216-57ff08877a5d",
         "1742174334297",
         "{\"sync_id\":30952774,\"changes\":[]}",
         "1",
         "{\"id\":\"42\",\"date\":\"2010-01-01\",\"country\":\"Italy\",\"store\":\"Premium Sticker Mart\",\"product\":\"Kaggle Tiers\",\"num_sold\":\"1434\"}"
        ],
        [
         "43",
         "693cbed2-8b03-4e4e-abdb-acfba900a207",
         "1742174334297",
         "{\"sync_id\":30952774,\"changes\":[]}",
         "1",
         "{\"id\":\"43\",\"date\":\"2010-01-01\",\"country\":\"Italy\",\"store\":\"Premium Sticker Mart\",\"product\":\"Kerneler\",\"num_sold\":\"783\"}"
        ],
        [
         "44",
         "e70e2a98-0965-4103-a04e-29a458537d09",
         "1742174334298",
         "{\"sync_id\":30952774,\"changes\":[]}",
         "1",
         "{\"id\":\"44\",\"date\":\"2010-01-01\",\"country\":\"Italy\",\"store\":\"Premium Sticker Mart\",\"product\":\"Kerneler Dark Mode\",\"num_sold\":\"861\"}"
        ],
        [
         "45",
         "864b7caa-647c-4644-b44b-c3a9dd0f5ebf",
         "1742174334298",
         "{\"sync_id\":30952774,\"changes\":[]}",
         "1",
         "{\"id\":\"45\",\"date\":\"2010-01-01\",\"country\":\"Kenya\",\"store\":\"Discount Stickers\",\"product\":\"Holographic Goose\"}"
        ],
        [
         "46",
         "aeb5c4cf-42c2-4424-b6ae-7b0030bdb797",
         "1742174334298",
         "{\"sync_id\":30952774,\"changes\":[]}",
         "1",
         "{\"id\":\"46\",\"date\":\"2010-01-01\",\"country\":\"Kenya\",\"store\":\"Discount Stickers\",\"product\":\"Kaggle\",\"num_sold\":\"20\"}"
        ],
        [
         "47",
         "4462f387-2a28-4bd0-99a8-858ff6c4feb9",
         "1742174334298",
         "{\"sync_id\":30952774,\"changes\":[]}",
         "1",
         "{\"id\":\"47\",\"date\":\"2010-01-01\",\"country\":\"Kenya\",\"store\":\"Discount Stickers\",\"product\":\"Kaggle Tiers\",\"num_sold\":\"16\"}"
        ],
        [
         "48",
         "1bbb89b5-b369-4b5a-9734-ca9a9de3cb35",
         "1742174334298",
         "{\"sync_id\":30952774,\"changes\":[]}",
         "1",
         "{\"id\":\"48\",\"date\":\"2010-01-01\",\"country\":\"Kenya\",\"store\":\"Discount Stickers\",\"product\":\"Kerneler\",\"num_sold\":\"8\"}"
        ],
        [
         "49",
         "f3fe23c5-9a45-4d8e-bc0e-9467b2e5b82e",
         "1742174334298",
         "{\"sync_id\":30952774,\"changes\":[]}",
         "1",
         "{\"id\":\"49\",\"date\":\"2010-01-01\",\"country\":\"Kenya\",\"store\":\"Discount Stickers\",\"product\":\"Kerneler Dark Mode\",\"num_sold\":\"9\"}"
        ]
       ],
       "shape": {
        "columns": 5,
        "rows": 230130
       }
      },
      "text/html": [
       "<div>\n",
       "<style scoped>\n",
       "    .dataframe tbody tr th:only-of-type {\n",
       "        vertical-align: middle;\n",
       "    }\n",
       "\n",
       "    .dataframe tbody tr th {\n",
       "        vertical-align: top;\n",
       "    }\n",
       "\n",
       "    .dataframe thead th {\n",
       "        text-align: right;\n",
       "    }\n",
       "</style>\n",
       "<table border=\"1\" class=\"dataframe\">\n",
       "  <thead>\n",
       "    <tr style=\"text-align: right;\">\n",
       "      <th></th>\n",
       "      <th>_airbyte_raw_id</th>\n",
       "      <th>_airbyte_extracted_at</th>\n",
       "      <th>_airbyte_meta</th>\n",
       "      <th>_airbyte_generation_id</th>\n",
       "      <th>_airbyte_data</th>\n",
       "    </tr>\n",
       "  </thead>\n",
       "  <tbody>\n",
       "    <tr>\n",
       "      <th>0</th>\n",
       "      <td>6d6c8062-482a-4b5a-aaa6-dea1c916be45</td>\n",
       "      <td>1742174334284</td>\n",
       "      <td>{\"sync_id\":30952774,\"changes\":[]}</td>\n",
       "      <td>1</td>\n",
       "      <td>{\"id\":\"0\",\"date\":\"2010-01-01\",\"country\":\"Canada\",\"store\":\"Discount Stickers\",\"product\":\"Holographic Goose\"}</td>\n",
       "    </tr>\n",
       "    <tr>\n",
       "      <th>1</th>\n",
       "      <td>8d798e53-1322-4db0-a88b-e4eeb7357bb4</td>\n",
       "      <td>1742174334284</td>\n",
       "      <td>{\"sync_id\":30952774,\"changes\":[]}</td>\n",
       "      <td>1</td>\n",
       "      <td>{\"id\":\"1\",\"date\":\"2010-01-01\",\"country\":\"Canada\",\"store\":\"Discount Stickers\",\"product\":\"Kaggle\",\"num_sold\":\"973\"}</td>\n",
       "    </tr>\n",
       "    <tr>\n",
       "      <th>2</th>\n",
       "      <td>33e1611d-353c-4de3-bc18-4ba1dc512679</td>\n",
       "      <td>1742174334284</td>\n",
       "      <td>{\"sync_id\":30952774,\"changes\":[]}</td>\n",
       "      <td>1</td>\n",
       "      <td>{\"id\":\"2\",\"date\":\"2010-01-01\",\"country\":\"Canada\",\"store\":\"Discount Stickers\",\"product\":\"Kaggle Tiers\",\"num_sold\":\"906\"}</td>\n",
       "    </tr>\n",
       "    <tr>\n",
       "      <th>3</th>\n",
       "      <td>240d36b1-a1c8-4c3f-8d9d-63a65f7312e8</td>\n",
       "      <td>1742174334284</td>\n",
       "      <td>{\"sync_id\":30952774,\"changes\":[]}</td>\n",
       "      <td>1</td>\n",
       "      <td>{\"id\":\"3\",\"date\":\"2010-01-01\",\"country\":\"Canada\",\"store\":\"Discount Stickers\",\"product\":\"Kerneler\",\"num_sold\":\"423\"}</td>\n",
       "    </tr>\n",
       "    <tr>\n",
       "      <th>4</th>\n",
       "      <td>6587ddb0-75ca-42cb-8b32-e884e31421e0</td>\n",
       "      <td>1742174334284</td>\n",
       "      <td>{\"sync_id\":30952774,\"changes\":[]}</td>\n",
       "      <td>1</td>\n",
       "      <td>{\"id\":\"4\",\"date\":\"2010-01-01\",\"country\":\"Canada\",\"store\":\"Discount Stickers\",\"product\":\"Kerneler Dark Mode\",\"num_sold\":\"491\"}</td>\n",
       "    </tr>\n",
       "    <tr>\n",
       "      <th>...</th>\n",
       "      <td>...</td>\n",
       "      <td>...</td>\n",
       "      <td>...</td>\n",
       "      <td>...</td>\n",
       "      <td>...</td>\n",
       "    </tr>\n",
       "    <tr>\n",
       "      <th>230125</th>\n",
       "      <td>c7c85a06-c777-475f-b224-8a99bd983e8d</td>\n",
       "      <td>1742174354680</td>\n",
       "      <td>{\"sync_id\":30952774,\"changes\":[]}</td>\n",
       "      <td>1</td>\n",
       "      <td>{\"id\":\"230125\",\"date\":\"2016-12-31\",\"country\":\"Singapore\",\"store\":\"Premium Sticker Mart\",\"product\":\"Holographic Goose\",\"num_sold\":\"466\"}</td>\n",
       "    </tr>\n",
       "    <tr>\n",
       "      <th>230126</th>\n",
       "      <td>af6cbb79-e2a6-45c4-badf-59f069dd3c0a</td>\n",
       "      <td>1742174354680</td>\n",
       "      <td>{\"sync_id\":30952774,\"changes\":[]}</td>\n",
       "      <td>1</td>\n",
       "      <td>{\"id\":\"230126\",\"date\":\"2016-12-31\",\"country\":\"Singapore\",\"store\":\"Premium Sticker Mart\",\"product\":\"Kaggle\",\"num_sold\":\"2907\"}</td>\n",
       "    </tr>\n",
       "    <tr>\n",
       "      <th>230127</th>\n",
       "      <td>9e5a4a1e-a624-40ae-b588-4420f9bcd02a</td>\n",
       "      <td>1742174354680</td>\n",
       "      <td>{\"sync_id\":30952774,\"changes\":[]}</td>\n",
       "      <td>1</td>\n",
       "      <td>{\"id\":\"230127\",\"date\":\"2016-12-31\",\"country\":\"Singapore\",\"store\":\"Premium Sticker Mart\",\"product\":\"Kaggle Tiers\",\"num_sold\":\"2299\"}</td>\n",
       "    </tr>\n",
       "    <tr>\n",
       "      <th>230128</th>\n",
       "      <td>c9688c3f-5feb-47fb-996f-03df6ecfb7e6</td>\n",
       "      <td>1742174354680</td>\n",
       "      <td>{\"sync_id\":30952774,\"changes\":[]}</td>\n",
       "      <td>1</td>\n",
       "      <td>{\"id\":\"230128\",\"date\":\"2016-12-31\",\"country\":\"Singapore\",\"store\":\"Premium Sticker Mart\",\"product\":\"Kerneler\",\"num_sold\":\"1242\"}</td>\n",
       "    </tr>\n",
       "    <tr>\n",
       "      <th>230129</th>\n",
       "      <td>2221a4a6-3930-4d3b-b75c-94d575df9185</td>\n",
       "      <td>1742174354680</td>\n",
       "      <td>{\"sync_id\":30952774,\"changes\":[]}</td>\n",
       "      <td>1</td>\n",
       "      <td>{\"id\":\"230129\",\"date\":\"2016-12-31\",\"country\":\"Singapore\",\"store\":\"Premium Sticker Mart\",\"product\":\"Kerneler Dark Mode\",\"num_sold\":\"1622\"}</td>\n",
       "    </tr>\n",
       "  </tbody>\n",
       "</table>\n",
       "<p>230130 rows × 5 columns</p>\n",
       "</div>"
      ],
      "text/plain": [
       "                             _airbyte_raw_id  _airbyte_extracted_at  \\\n",
       "0       6d6c8062-482a-4b5a-aaa6-dea1c916be45          1742174334284   \n",
       "1       8d798e53-1322-4db0-a88b-e4eeb7357bb4          1742174334284   \n",
       "2       33e1611d-353c-4de3-bc18-4ba1dc512679          1742174334284   \n",
       "3       240d36b1-a1c8-4c3f-8d9d-63a65f7312e8          1742174334284   \n",
       "4       6587ddb0-75ca-42cb-8b32-e884e31421e0          1742174334284   \n",
       "...                                      ...                    ...   \n",
       "230125  c7c85a06-c777-475f-b224-8a99bd983e8d          1742174354680   \n",
       "230126  af6cbb79-e2a6-45c4-badf-59f069dd3c0a          1742174354680   \n",
       "230127  9e5a4a1e-a624-40ae-b588-4420f9bcd02a          1742174354680   \n",
       "230128  c9688c3f-5feb-47fb-996f-03df6ecfb7e6          1742174354680   \n",
       "230129  2221a4a6-3930-4d3b-b75c-94d575df9185          1742174354680   \n",
       "\n",
       "                            _airbyte_meta  _airbyte_generation_id  \\\n",
       "0       {\"sync_id\":30952774,\"changes\":[]}                       1   \n",
       "1       {\"sync_id\":30952774,\"changes\":[]}                       1   \n",
       "2       {\"sync_id\":30952774,\"changes\":[]}                       1   \n",
       "3       {\"sync_id\":30952774,\"changes\":[]}                       1   \n",
       "4       {\"sync_id\":30952774,\"changes\":[]}                       1   \n",
       "...                                   ...                     ...   \n",
       "230125  {\"sync_id\":30952774,\"changes\":[]}                       1   \n",
       "230126  {\"sync_id\":30952774,\"changes\":[]}                       1   \n",
       "230127  {\"sync_id\":30952774,\"changes\":[]}                       1   \n",
       "230128  {\"sync_id\":30952774,\"changes\":[]}                       1   \n",
       "230129  {\"sync_id\":30952774,\"changes\":[]}                       1   \n",
       "\n",
       "                                                                                                                                    _airbyte_data  \n",
       "0                                     {\"id\":\"0\",\"date\":\"2010-01-01\",\"country\":\"Canada\",\"store\":\"Discount Stickers\",\"product\":\"Holographic Goose\"}  \n",
       "1                               {\"id\":\"1\",\"date\":\"2010-01-01\",\"country\":\"Canada\",\"store\":\"Discount Stickers\",\"product\":\"Kaggle\",\"num_sold\":\"973\"}  \n",
       "2                         {\"id\":\"2\",\"date\":\"2010-01-01\",\"country\":\"Canada\",\"store\":\"Discount Stickers\",\"product\":\"Kaggle Tiers\",\"num_sold\":\"906\"}  \n",
       "3                             {\"id\":\"3\",\"date\":\"2010-01-01\",\"country\":\"Canada\",\"store\":\"Discount Stickers\",\"product\":\"Kerneler\",\"num_sold\":\"423\"}  \n",
       "4                   {\"id\":\"4\",\"date\":\"2010-01-01\",\"country\":\"Canada\",\"store\":\"Discount Stickers\",\"product\":\"Kerneler Dark Mode\",\"num_sold\":\"491\"}  \n",
       "...                                                                                                                                           ...  \n",
       "230125    {\"id\":\"230125\",\"date\":\"2016-12-31\",\"country\":\"Singapore\",\"store\":\"Premium Sticker Mart\",\"product\":\"Holographic Goose\",\"num_sold\":\"466\"}  \n",
       "230126              {\"id\":\"230126\",\"date\":\"2016-12-31\",\"country\":\"Singapore\",\"store\":\"Premium Sticker Mart\",\"product\":\"Kaggle\",\"num_sold\":\"2907\"}  \n",
       "230127        {\"id\":\"230127\",\"date\":\"2016-12-31\",\"country\":\"Singapore\",\"store\":\"Premium Sticker Mart\",\"product\":\"Kaggle Tiers\",\"num_sold\":\"2299\"}  \n",
       "230128            {\"id\":\"230128\",\"date\":\"2016-12-31\",\"country\":\"Singapore\",\"store\":\"Premium Sticker Mart\",\"product\":\"Kerneler\",\"num_sold\":\"1242\"}  \n",
       "230129  {\"id\":\"230129\",\"date\":\"2016-12-31\",\"country\":\"Singapore\",\"store\":\"Premium Sticker Mart\",\"product\":\"Kerneler Dark Mode\",\"num_sold\":\"1622\"}  \n",
       "\n",
       "[230130 rows x 5 columns]"
      ]
     },
     "execution_count": 5,
     "metadata": {},
     "output_type": "execute_result"
    }
   ],
   "source": [
    "train_df"
   ]
  },
  {
   "cell_type": "markdown",
   "metadata": {},
   "source": [
    "Our data is in the _airbyte_data column, so lets go ahead and extract it. We have a few ways we can do this."
   ]
  },
  {
   "cell_type": "markdown",
   "metadata": {},
   "source": [
    "# Approach 1"
   ]
  },
  {
   "cell_type": "code",
   "execution_count": null,
   "metadata": {},
   "outputs": [
    {
     "name": "stdout",
     "output_type": "stream",
     "text": [
      "Data successfully extracted and saved to output.csv\n"
     ]
    }
   ],
   "source": [
    "# Assuming train_df is already loaded with your data\n",
    "# Extract the JSON blobs from the '_airbyte_data' column\n",
    "data = train_df['_airbyte_data'].apply(json.loads)\n",
    "\n",
    "# Convert the extracted JSON data into a DataFrame\n",
    "extracted_df = pd.json_normalize(data)\n",
    "\n",
    "# Save the extracted DataFrame to a CSV file\n",
    "extracted_df.to_csv(\"output.csv\", index=False)\n",
    "\n",
    "print(\"Data successfully extracted and saved to output.csv\")\n"
   ]
  },
  {
   "cell_type": "code",
   "execution_count": null,
   "metadata": {},
   "outputs": [
    {
     "data": {
      "application/vnd.microsoft.datawrangler.viewer.v0+json": {
       "columns": [
        {
         "name": "index",
         "rawType": "int64",
         "type": "integer"
        },
        {
         "name": "id",
         "rawType": "int64",
         "type": "integer"
        },
        {
         "name": "date",
         "rawType": "object",
         "type": "string"
        },
        {
         "name": "country",
         "rawType": "object",
         "type": "string"
        },
        {
         "name": "store",
         "rawType": "object",
         "type": "string"
        },
        {
         "name": "product",
         "rawType": "object",
         "type": "string"
        },
        {
         "name": "num_sold",
         "rawType": "float64",
         "type": "float"
        }
       ],
       "conversionMethod": "pd.DataFrame",
       "ref": "4d80e950-1df3-4c61-a90d-7aaaf80eccb2",
       "rows": [
        [
         "0",
         "0",
         "2010-01-01",
         "Canada",
         "Discount Stickers",
         "Holographic Goose",
         null
        ],
        [
         "1",
         "1",
         "2010-01-01",
         "Canada",
         "Discount Stickers",
         "Kaggle",
         "973.0"
        ],
        [
         "2",
         "2",
         "2010-01-01",
         "Canada",
         "Discount Stickers",
         "Kaggle Tiers",
         "906.0"
        ],
        [
         "3",
         "3",
         "2010-01-01",
         "Canada",
         "Discount Stickers",
         "Kerneler",
         "423.0"
        ],
        [
         "4",
         "4",
         "2010-01-01",
         "Canada",
         "Discount Stickers",
         "Kerneler Dark Mode",
         "491.0"
        ]
       ],
       "shape": {
        "columns": 6,
        "rows": 5
       }
      },
      "text/html": [
       "<div>\n",
       "<style scoped>\n",
       "    .dataframe tbody tr th:only-of-type {\n",
       "        vertical-align: middle;\n",
       "    }\n",
       "\n",
       "    .dataframe tbody tr th {\n",
       "        vertical-align: top;\n",
       "    }\n",
       "\n",
       "    .dataframe thead th {\n",
       "        text-align: right;\n",
       "    }\n",
       "</style>\n",
       "<table border=\"1\" class=\"dataframe\">\n",
       "  <thead>\n",
       "    <tr style=\"text-align: right;\">\n",
       "      <th></th>\n",
       "      <th>id</th>\n",
       "      <th>date</th>\n",
       "      <th>country</th>\n",
       "      <th>store</th>\n",
       "      <th>product</th>\n",
       "      <th>num_sold</th>\n",
       "    </tr>\n",
       "  </thead>\n",
       "  <tbody>\n",
       "    <tr>\n",
       "      <th>0</th>\n",
       "      <td>0</td>\n",
       "      <td>2010-01-01</td>\n",
       "      <td>Canada</td>\n",
       "      <td>Discount Stickers</td>\n",
       "      <td>Holographic Goose</td>\n",
       "      <td>NaN</td>\n",
       "    </tr>\n",
       "    <tr>\n",
       "      <th>1</th>\n",
       "      <td>1</td>\n",
       "      <td>2010-01-01</td>\n",
       "      <td>Canada</td>\n",
       "      <td>Discount Stickers</td>\n",
       "      <td>Kaggle</td>\n",
       "      <td>973.0</td>\n",
       "    </tr>\n",
       "    <tr>\n",
       "      <th>2</th>\n",
       "      <td>2</td>\n",
       "      <td>2010-01-01</td>\n",
       "      <td>Canada</td>\n",
       "      <td>Discount Stickers</td>\n",
       "      <td>Kaggle Tiers</td>\n",
       "      <td>906.0</td>\n",
       "    </tr>\n",
       "    <tr>\n",
       "      <th>3</th>\n",
       "      <td>3</td>\n",
       "      <td>2010-01-01</td>\n",
       "      <td>Canada</td>\n",
       "      <td>Discount Stickers</td>\n",
       "      <td>Kerneler</td>\n",
       "      <td>423.0</td>\n",
       "    </tr>\n",
       "    <tr>\n",
       "      <th>4</th>\n",
       "      <td>4</td>\n",
       "      <td>2010-01-01</td>\n",
       "      <td>Canada</td>\n",
       "      <td>Discount Stickers</td>\n",
       "      <td>Kerneler Dark Mode</td>\n",
       "      <td>491.0</td>\n",
       "    </tr>\n",
       "  </tbody>\n",
       "</table>\n",
       "</div>"
      ],
      "text/plain": [
       "   id        date country              store             product  num_sold\n",
       "0   0  2010-01-01  Canada  Discount Stickers   Holographic Goose       NaN\n",
       "1   1  2010-01-01  Canada  Discount Stickers              Kaggle     973.0\n",
       "2   2  2010-01-01  Canada  Discount Stickers        Kaggle Tiers     906.0\n",
       "3   3  2010-01-01  Canada  Discount Stickers            Kerneler     423.0\n",
       "4   4  2010-01-01  Canada  Discount Stickers  Kerneler Dark Mode     491.0"
      ]
     },
     "execution_count": 10,
     "metadata": {},
     "output_type": "execute_result"
    }
   ],
   "source": [
    "output_df = pd.read_csv('output.csv')\n",
    "output_df.head()"
   ]
  },
  {
   "cell_type": "markdown",
   "metadata": {},
   "source": [
    "## Approach 2 \n",
    "\n",
    "We can load our data in a more optimal way. Lets do that below"
   ]
  },
  {
   "cell_type": "code",
   "execution_count": null,
   "metadata": {},
   "outputs": [],
   "source": [
    "def transform_airbyte_data(input_file, output_file):\n",
    "    \"\"\"\n",
    "    Transform Airbyte raw data format back to original tabular format\n",
    "    \n",
    "    Parameters:\n",
    "    input_file (str): Path to the input file (CSV or JSON) from Airbyte\n",
    "    output_file (str): Path to save the transformed CSV file\n",
    "    \n",
    "    Returns:\n",
    "    pd.DataFrame: The transformed DataFrame\n",
    "    \"\"\"\n",
    "    file_ext = os.path.splitext(input_file)[1].lower()\n",
    "    \n",
    "    # Read the data based on file type\n",
    "    if file_ext == '.csv':\n",
    "        df = pd.read_csv(input_file)\n",
    "    elif file_ext == '.json':\n",
    "        df = pd.read_json(input_file, lines=True)  # Assuming JSONL format\n",
    "    else:\n",
    "        raise ValueError(f\"Unsupported file extension: {file_ext}. Use .csv or .json\")\n",
    "    \n",
    "    # Check if the data is in Airbyte format\n",
    "    airbyte_columns = [col for col in df.columns if col.startswith('_airbyte_')]\n",
    "    \n",
    "    if '_airbyte_data' in df.columns:\n",
    "        # If _airbyte_data is a string column, parse it to dictionaries\n",
    "        if df['_airbyte_data'].dtype == 'object' and isinstance(df['_airbyte_data'].iloc[0], str):\n",
    "            df['_airbyte_data'] = df['_airbyte_data'].apply(json.loads)\n",
    "        \n",
    "        # Extract the data from _airbyte_data column\n",
    "        extracted_data = pd.json_normalize(df['_airbyte_data'])\n",
    "        \n",
    "        # Convert numeric columns if needed\n",
    "        for col in extracted_data.columns:\n",
    "            if col in ['id', 'num_sold']:\n",
    "                try:\n",
    "                    extracted_data[col] = pd.to_numeric(extracted_data[col])\n",
    "                except:\n",
    "                    pass  # Keep as string if conversion fails\n",
    "                    \n",
    "        # Save the result\n",
    "        extracted_data.to_csv(output_file, index=False)\n",
    "        print(f\"Transformed data saved to {output_file}\")\n",
    "        \n",
    "        return extracted_data\n",
    "    else:\n",
    "        print(\"Data doesn't appear to be in Airbyte format. No transformation needed.\")\n",
    "        df.to_csv(output_file, index=False)\n",
    "        return df\n"
   ]
  },
  {
   "cell_type": "code",
   "execution_count": null,
   "metadata": {},
   "outputs": [
    {
     "name": "stdout",
     "output_type": "stream",
     "text": [
      "Transformed data saved to transformed_data.csv\n",
      "   id        date country              store             product  num_sold\n",
      "0   0  2010-01-01  Canada  Discount Stickers   Holographic Goose       NaN\n",
      "1   1  2010-01-01  Canada  Discount Stickers              Kaggle     973.0\n",
      "2   2  2010-01-01  Canada  Discount Stickers        Kaggle Tiers     906.0\n",
      "3   3  2010-01-01  Canada  Discount Stickers            Kerneler     423.0\n",
      "4   4  2010-01-01  Canada  Discount Stickers  Kerneler Dark Mode     491.0\n"
     ]
    }
   ],
   "source": [
    "# Example usage\n",
    "if __name__ == \"__main__\":\n",
    "    # Replace with your actual file paths\n",
    "    input_file = \"local_filename_ss.csv\"  # or .json\n",
    "    output_file = \"transformed_data.csv\"\n",
    "    \n",
    "    transformed_df = transform_airbyte_data(input_file, output_file)\n",
    "    print(transformed_df.head())"
   ]
  },
  {
   "cell_type": "code",
   "execution_count": null,
   "metadata": {},
   "outputs": [
    {
     "name": "stdout",
     "output_type": "stream",
     "text": [
      "LICENSE\t\tgradio_ui\t\t\t\tservice.py\n",
      "README.md\tload_save.py\t\t\t\tstreamlit_ui\n",
      "__pycache__\tlocal_filename_ss.csv\t\t\ttest.py\n",
      "airbyte.ipynb\toutput.csv\t\t\t\ttransformed_data.csv\n",
      "bentofile.yaml\trequirements.txt\n",
      "data\t\ts05e01-gbms-fastai-preprocessing.ipynb\n"
     ]
    }
   ],
   "source": [
    "!ls"
   ]
  },
  {
   "cell_type": "markdown",
   "metadata": {},
   "source": [
    "### Load data\n",
    "\n",
    "We only did ELT job for the training dataset for demonstration, for the test and sample submission file, we shall load them from the local files."
   ]
  },
  {
   "cell_type": "code",
   "execution_count": null,
   "metadata": {},
   "outputs": [
    {
     "data": {
      "text/plain": [
       "Path('.')"
      ]
     },
     "execution_count": 30,
     "metadata": {},
     "output_type": "execute_result"
    }
   ],
   "source": [
    "path = Path('')\n",
    "path"
   ]
  },
  {
   "cell_type": "code",
   "execution_count": null,
   "metadata": {},
   "outputs": [],
   "source": [
    "train_df = pd.read_csv('transformed_data.csv',index_col='id')\n",
    "test_df = pd.read_csv(path/'data/test.csv',index_col='id')\n",
    "sub_df = pd.read_csv(path/'data/sample_submission.csv')"
   ]
  },
  {
   "cell_type": "markdown",
   "metadata": {},
   "source": [
    "## Exploratory Data Analysis"
   ]
  },
  {
   "cell_type": "code",
   "execution_count": null,
   "metadata": {},
   "outputs": [
    {
     "data": {
      "text/plain": [
       "Index(['date', 'country', 'store', 'product', 'num_sold'], dtype='object')"
      ]
     },
     "execution_count": 23,
     "metadata": {},
     "output_type": "execute_result"
    }
   ],
   "source": [
    "train_df.columns"
   ]
  },
  {
   "cell_type": "code",
   "execution_count": null,
   "metadata": {},
   "outputs": [
    {
     "data": {
      "application/vnd.microsoft.datawrangler.viewer.v0+json": {
       "columns": [
        {
         "name": "id",
         "rawType": "int64",
         "type": "integer"
        },
        {
         "name": "date",
         "rawType": "object",
         "type": "string"
        },
        {
         "name": "country",
         "rawType": "object",
         "type": "string"
        },
        {
         "name": "store",
         "rawType": "object",
         "type": "string"
        },
        {
         "name": "product",
         "rawType": "object",
         "type": "string"
        },
        {
         "name": "num_sold",
         "rawType": "float64",
         "type": "float"
        }
       ],
       "conversionMethod": "pd.DataFrame",
       "ref": "25aed9e3-8091-4c35-a9dd-247b089866ea",
       "rows": [
        [
         "0",
         "2010-01-01",
         "Canada",
         "Discount Stickers",
         "Holographic Goose",
         null
        ],
        [
         "1",
         "2010-01-01",
         "Canada",
         "Discount Stickers",
         "Kaggle",
         "973.0"
        ],
        [
         "2",
         "2010-01-01",
         "Canada",
         "Discount Stickers",
         "Kaggle Tiers",
         "906.0"
        ],
        [
         "3",
         "2010-01-01",
         "Canada",
         "Discount Stickers",
         "Kerneler",
         "423.0"
        ],
        [
         "4",
         "2010-01-01",
         "Canada",
         "Discount Stickers",
         "Kerneler Dark Mode",
         "491.0"
        ],
        [
         "5",
         "2010-01-01",
         "Canada",
         "Stickers for Less",
         "Holographic Goose",
         "300.0"
        ],
        [
         "6",
         "2010-01-01",
         "Canada",
         "Stickers for Less",
         "Kaggle",
         "1837.0"
        ],
        [
         "7",
         "2010-01-01",
         "Canada",
         "Stickers for Less",
         "Kaggle Tiers",
         "1659.0"
        ],
        [
         "8",
         "2010-01-01",
         "Canada",
         "Stickers for Less",
         "Kerneler",
         "807.0"
        ],
        [
         "9",
         "2010-01-01",
         "Canada",
         "Stickers for Less",
         "Kerneler Dark Mode",
         "940.0"
        ],
        [
         "10",
         "2010-01-01",
         "Canada",
         "Premium Sticker Mart",
         "Holographic Goose",
         "375.0"
        ],
        [
         "11",
         "2010-01-01",
         "Canada",
         "Premium Sticker Mart",
         "Kaggle",
         "2212.0"
        ],
        [
         "12",
         "2010-01-01",
         "Canada",
         "Premium Sticker Mart",
         "Kaggle Tiers",
         "2013.0"
        ],
        [
         "13",
         "2010-01-01",
         "Canada",
         "Premium Sticker Mart",
         "Kerneler",
         "950.0"
        ],
        [
         "14",
         "2010-01-01",
         "Canada",
         "Premium Sticker Mart",
         "Kerneler Dark Mode",
         "1213.0"
        ],
        [
         "15",
         "2010-01-01",
         "Finland",
         "Discount Stickers",
         "Holographic Goose",
         "150.0"
        ],
        [
         "16",
         "2010-01-01",
         "Finland",
         "Discount Stickers",
         "Kaggle",
         "926.0"
        ],
        [
         "17",
         "2010-01-01",
         "Finland",
         "Discount Stickers",
         "Kaggle Tiers",
         "774.0"
        ],
        [
         "18",
         "2010-01-01",
         "Finland",
         "Discount Stickers",
         "Kerneler",
         "424.0"
        ],
        [
         "19",
         "2010-01-01",
         "Finland",
         "Discount Stickers",
         "Kerneler Dark Mode",
         "450.0"
        ],
        [
         "20",
         "2010-01-01",
         "Finland",
         "Stickers for Less",
         "Holographic Goose",
         "311.0"
        ],
        [
         "21",
         "2010-01-01",
         "Finland",
         "Stickers for Less",
         "Kaggle",
         "1948.0"
        ],
        [
         "22",
         "2010-01-01",
         "Finland",
         "Stickers for Less",
         "Kaggle Tiers",
         "1632.0"
        ],
        [
         "23",
         "2010-01-01",
         "Finland",
         "Stickers for Less",
         "Kerneler",
         "878.0"
        ],
        [
         "24",
         "2010-01-01",
         "Finland",
         "Stickers for Less",
         "Kerneler Dark Mode",
         "950.0"
        ],
        [
         "25",
         "2010-01-01",
         "Finland",
         "Premium Sticker Mart",
         "Holographic Goose",
         "362.0"
        ],
        [
         "26",
         "2010-01-01",
         "Finland",
         "Premium Sticker Mart",
         "Kaggle",
         "2304.0"
        ],
        [
         "27",
         "2010-01-01",
         "Finland",
         "Premium Sticker Mart",
         "Kaggle Tiers",
         "2070.0"
        ],
        [
         "28",
         "2010-01-01",
         "Finland",
         "Premium Sticker Mart",
         "Kerneler",
         "1134.0"
        ],
        [
         "29",
         "2010-01-01",
         "Finland",
         "Premium Sticker Mart",
         "Kerneler Dark Mode",
         "1047.0"
        ],
        [
         "30",
         "2010-01-01",
         "Italy",
         "Discount Stickers",
         "Holographic Goose",
         "110.0"
        ],
        [
         "31",
         "2010-01-01",
         "Italy",
         "Discount Stickers",
         "Kaggle",
         "681.0"
        ],
        [
         "32",
         "2010-01-01",
         "Italy",
         "Discount Stickers",
         "Kaggle Tiers",
         "627.0"
        ],
        [
         "33",
         "2010-01-01",
         "Italy",
         "Discount Stickers",
         "Kerneler",
         "340.0"
        ],
        [
         "34",
         "2010-01-01",
         "Italy",
         "Discount Stickers",
         "Kerneler Dark Mode",
         "406.0"
        ],
        [
         "35",
         "2010-01-01",
         "Italy",
         "Stickers for Less",
         "Holographic Goose",
         "228.0"
        ],
        [
         "36",
         "2010-01-01",
         "Italy",
         "Stickers for Less",
         "Kaggle",
         "1424.0"
        ],
        [
         "37",
         "2010-01-01",
         "Italy",
         "Stickers for Less",
         "Kaggle Tiers",
         "1281.0"
        ],
        [
         "38",
         "2010-01-01",
         "Italy",
         "Stickers for Less",
         "Kerneler",
         "637.0"
        ],
        [
         "39",
         "2010-01-01",
         "Italy",
         "Stickers for Less",
         "Kerneler Dark Mode",
         "778.0"
        ],
        [
         "40",
         "2010-01-01",
         "Italy",
         "Premium Sticker Mart",
         "Holographic Goose",
         "269.0"
        ],
        [
         "41",
         "2010-01-01",
         "Italy",
         "Premium Sticker Mart",
         "Kaggle",
         "1786.0"
        ],
        [
         "42",
         "2010-01-01",
         "Italy",
         "Premium Sticker Mart",
         "Kaggle Tiers",
         "1434.0"
        ],
        [
         "43",
         "2010-01-01",
         "Italy",
         "Premium Sticker Mart",
         "Kerneler",
         "783.0"
        ],
        [
         "44",
         "2010-01-01",
         "Italy",
         "Premium Sticker Mart",
         "Kerneler Dark Mode",
         "861.0"
        ],
        [
         "45",
         "2010-01-01",
         "Kenya",
         "Discount Stickers",
         "Holographic Goose",
         null
        ],
        [
         "46",
         "2010-01-01",
         "Kenya",
         "Discount Stickers",
         "Kaggle",
         "20.0"
        ],
        [
         "47",
         "2010-01-01",
         "Kenya",
         "Discount Stickers",
         "Kaggle Tiers",
         "16.0"
        ],
        [
         "48",
         "2010-01-01",
         "Kenya",
         "Discount Stickers",
         "Kerneler",
         "8.0"
        ],
        [
         "49",
         "2010-01-01",
         "Kenya",
         "Discount Stickers",
         "Kerneler Dark Mode",
         "9.0"
        ]
       ],
       "shape": {
        "columns": 5,
        "rows": 230130
       }
      },
      "text/html": [
       "<div>\n",
       "<style scoped>\n",
       "    .dataframe tbody tr th:only-of-type {\n",
       "        vertical-align: middle;\n",
       "    }\n",
       "\n",
       "    .dataframe tbody tr th {\n",
       "        vertical-align: top;\n",
       "    }\n",
       "\n",
       "    .dataframe thead th {\n",
       "        text-align: right;\n",
       "    }\n",
       "</style>\n",
       "<table border=\"1\" class=\"dataframe\">\n",
       "  <thead>\n",
       "    <tr style=\"text-align: right;\">\n",
       "      <th></th>\n",
       "      <th>date</th>\n",
       "      <th>country</th>\n",
       "      <th>store</th>\n",
       "      <th>product</th>\n",
       "      <th>num_sold</th>\n",
       "    </tr>\n",
       "    <tr>\n",
       "      <th>id</th>\n",
       "      <th></th>\n",
       "      <th></th>\n",
       "      <th></th>\n",
       "      <th></th>\n",
       "      <th></th>\n",
       "    </tr>\n",
       "  </thead>\n",
       "  <tbody>\n",
       "    <tr>\n",
       "      <th>0</th>\n",
       "      <td>2010-01-01</td>\n",
       "      <td>Canada</td>\n",
       "      <td>Discount Stickers</td>\n",
       "      <td>Holographic Goose</td>\n",
       "      <td>NaN</td>\n",
       "    </tr>\n",
       "    <tr>\n",
       "      <th>1</th>\n",
       "      <td>2010-01-01</td>\n",
       "      <td>Canada</td>\n",
       "      <td>Discount Stickers</td>\n",
       "      <td>Kaggle</td>\n",
       "      <td>973.0</td>\n",
       "    </tr>\n",
       "    <tr>\n",
       "      <th>2</th>\n",
       "      <td>2010-01-01</td>\n",
       "      <td>Canada</td>\n",
       "      <td>Discount Stickers</td>\n",
       "      <td>Kaggle Tiers</td>\n",
       "      <td>906.0</td>\n",
       "    </tr>\n",
       "    <tr>\n",
       "      <th>3</th>\n",
       "      <td>2010-01-01</td>\n",
       "      <td>Canada</td>\n",
       "      <td>Discount Stickers</td>\n",
       "      <td>Kerneler</td>\n",
       "      <td>423.0</td>\n",
       "    </tr>\n",
       "    <tr>\n",
       "      <th>4</th>\n",
       "      <td>2010-01-01</td>\n",
       "      <td>Canada</td>\n",
       "      <td>Discount Stickers</td>\n",
       "      <td>Kerneler Dark Mode</td>\n",
       "      <td>491.0</td>\n",
       "    </tr>\n",
       "    <tr>\n",
       "      <th>...</th>\n",
       "      <td>...</td>\n",
       "      <td>...</td>\n",
       "      <td>...</td>\n",
       "      <td>...</td>\n",
       "      <td>...</td>\n",
       "    </tr>\n",
       "    <tr>\n",
       "      <th>230125</th>\n",
       "      <td>2016-12-31</td>\n",
       "      <td>Singapore</td>\n",
       "      <td>Premium Sticker Mart</td>\n",
       "      <td>Holographic Goose</td>\n",
       "      <td>466.0</td>\n",
       "    </tr>\n",
       "    <tr>\n",
       "      <th>230126</th>\n",
       "      <td>2016-12-31</td>\n",
       "      <td>Singapore</td>\n",
       "      <td>Premium Sticker Mart</td>\n",
       "      <td>Kaggle</td>\n",
       "      <td>2907.0</td>\n",
       "    </tr>\n",
       "    <tr>\n",
       "      <th>230127</th>\n",
       "      <td>2016-12-31</td>\n",
       "      <td>Singapore</td>\n",
       "      <td>Premium Sticker Mart</td>\n",
       "      <td>Kaggle Tiers</td>\n",
       "      <td>2299.0</td>\n",
       "    </tr>\n",
       "    <tr>\n",
       "      <th>230128</th>\n",
       "      <td>2016-12-31</td>\n",
       "      <td>Singapore</td>\n",
       "      <td>Premium Sticker Mart</td>\n",
       "      <td>Kerneler</td>\n",
       "      <td>1242.0</td>\n",
       "    </tr>\n",
       "    <tr>\n",
       "      <th>230129</th>\n",
       "      <td>2016-12-31</td>\n",
       "      <td>Singapore</td>\n",
       "      <td>Premium Sticker Mart</td>\n",
       "      <td>Kerneler Dark Mode</td>\n",
       "      <td>1622.0</td>\n",
       "    </tr>\n",
       "  </tbody>\n",
       "</table>\n",
       "<p>230130 rows × 5 columns</p>\n",
       "</div>"
      ],
      "text/plain": [
       "              date    country                 store             product  \\\n",
       "id                                                                        \n",
       "0       2010-01-01     Canada     Discount Stickers   Holographic Goose   \n",
       "1       2010-01-01     Canada     Discount Stickers              Kaggle   \n",
       "2       2010-01-01     Canada     Discount Stickers        Kaggle Tiers   \n",
       "3       2010-01-01     Canada     Discount Stickers            Kerneler   \n",
       "4       2010-01-01     Canada     Discount Stickers  Kerneler Dark Mode   \n",
       "...            ...        ...                   ...                 ...   \n",
       "230125  2016-12-31  Singapore  Premium Sticker Mart   Holographic Goose   \n",
       "230126  2016-12-31  Singapore  Premium Sticker Mart              Kaggle   \n",
       "230127  2016-12-31  Singapore  Premium Sticker Mart        Kaggle Tiers   \n",
       "230128  2016-12-31  Singapore  Premium Sticker Mart            Kerneler   \n",
       "230129  2016-12-31  Singapore  Premium Sticker Mart  Kerneler Dark Mode   \n",
       "\n",
       "        num_sold  \n",
       "id                \n",
       "0            NaN  \n",
       "1          973.0  \n",
       "2          906.0  \n",
       "3          423.0  \n",
       "4          491.0  \n",
       "...          ...  \n",
       "230125     466.0  \n",
       "230126    2907.0  \n",
       "230127    2299.0  \n",
       "230128    1242.0  \n",
       "230129    1622.0  \n",
       "\n",
       "[230130 rows x 5 columns]"
      ]
     },
     "execution_count": 24,
     "metadata": {},
     "output_type": "execute_result"
    }
   ],
   "source": [
    "train_df"
   ]
  },
  {
   "cell_type": "code",
   "execution_count": null,
   "metadata": {},
   "outputs": [
    {
     "data": {
      "application/vnd.microsoft.datawrangler.viewer.v0+json": {
       "columns": [
        {
         "name": "id",
         "rawType": "int64",
         "type": "integer"
        },
        {
         "name": "date",
         "rawType": "object",
         "type": "string"
        },
        {
         "name": "country",
         "rawType": "object",
         "type": "string"
        },
        {
         "name": "store",
         "rawType": "object",
         "type": "string"
        },
        {
         "name": "product",
         "rawType": "object",
         "type": "string"
        }
       ],
       "conversionMethod": "pd.DataFrame",
       "ref": "2564f76f-81b5-4c95-b581-23d84aa7fe0b",
       "rows": [
        [
         "230130",
         "2017-01-01",
         "Canada",
         "Discount Stickers",
         "Holographic Goose"
        ],
        [
         "230131",
         "2017-01-01",
         "Canada",
         "Discount Stickers",
         "Kaggle"
        ],
        [
         "230132",
         "2017-01-01",
         "Canada",
         "Discount Stickers",
         "Kaggle Tiers"
        ],
        [
         "230133",
         "2017-01-01",
         "Canada",
         "Discount Stickers",
         "Kerneler"
        ],
        [
         "230134",
         "2017-01-01",
         "Canada",
         "Discount Stickers",
         "Kerneler Dark Mode"
        ],
        [
         "230135",
         "2017-01-01",
         "Canada",
         "Stickers for Less",
         "Holographic Goose"
        ],
        [
         "230136",
         "2017-01-01",
         "Canada",
         "Stickers for Less",
         "Kaggle"
        ],
        [
         "230137",
         "2017-01-01",
         "Canada",
         "Stickers for Less",
         "Kaggle Tiers"
        ],
        [
         "230138",
         "2017-01-01",
         "Canada",
         "Stickers for Less",
         "Kerneler"
        ],
        [
         "230139",
         "2017-01-01",
         "Canada",
         "Stickers for Less",
         "Kerneler Dark Mode"
        ],
        [
         "230140",
         "2017-01-01",
         "Canada",
         "Premium Sticker Mart",
         "Holographic Goose"
        ],
        [
         "230141",
         "2017-01-01",
         "Canada",
         "Premium Sticker Mart",
         "Kaggle"
        ],
        [
         "230142",
         "2017-01-01",
         "Canada",
         "Premium Sticker Mart",
         "Kaggle Tiers"
        ],
        [
         "230143",
         "2017-01-01",
         "Canada",
         "Premium Sticker Mart",
         "Kerneler"
        ],
        [
         "230144",
         "2017-01-01",
         "Canada",
         "Premium Sticker Mart",
         "Kerneler Dark Mode"
        ],
        [
         "230145",
         "2017-01-01",
         "Finland",
         "Discount Stickers",
         "Holographic Goose"
        ],
        [
         "230146",
         "2017-01-01",
         "Finland",
         "Discount Stickers",
         "Kaggle"
        ],
        [
         "230147",
         "2017-01-01",
         "Finland",
         "Discount Stickers",
         "Kaggle Tiers"
        ],
        [
         "230148",
         "2017-01-01",
         "Finland",
         "Discount Stickers",
         "Kerneler"
        ],
        [
         "230149",
         "2017-01-01",
         "Finland",
         "Discount Stickers",
         "Kerneler Dark Mode"
        ],
        [
         "230150",
         "2017-01-01",
         "Finland",
         "Stickers for Less",
         "Holographic Goose"
        ],
        [
         "230151",
         "2017-01-01",
         "Finland",
         "Stickers for Less",
         "Kaggle"
        ],
        [
         "230152",
         "2017-01-01",
         "Finland",
         "Stickers for Less",
         "Kaggle Tiers"
        ],
        [
         "230153",
         "2017-01-01",
         "Finland",
         "Stickers for Less",
         "Kerneler"
        ],
        [
         "230154",
         "2017-01-01",
         "Finland",
         "Stickers for Less",
         "Kerneler Dark Mode"
        ],
        [
         "230155",
         "2017-01-01",
         "Finland",
         "Premium Sticker Mart",
         "Holographic Goose"
        ],
        [
         "230156",
         "2017-01-01",
         "Finland",
         "Premium Sticker Mart",
         "Kaggle"
        ],
        [
         "230157",
         "2017-01-01",
         "Finland",
         "Premium Sticker Mart",
         "Kaggle Tiers"
        ],
        [
         "230158",
         "2017-01-01",
         "Finland",
         "Premium Sticker Mart",
         "Kerneler"
        ],
        [
         "230159",
         "2017-01-01",
         "Finland",
         "Premium Sticker Mart",
         "Kerneler Dark Mode"
        ],
        [
         "230160",
         "2017-01-01",
         "Italy",
         "Discount Stickers",
         "Holographic Goose"
        ],
        [
         "230161",
         "2017-01-01",
         "Italy",
         "Discount Stickers",
         "Kaggle"
        ],
        [
         "230162",
         "2017-01-01",
         "Italy",
         "Discount Stickers",
         "Kaggle Tiers"
        ],
        [
         "230163",
         "2017-01-01",
         "Italy",
         "Discount Stickers",
         "Kerneler"
        ],
        [
         "230164",
         "2017-01-01",
         "Italy",
         "Discount Stickers",
         "Kerneler Dark Mode"
        ],
        [
         "230165",
         "2017-01-01",
         "Italy",
         "Stickers for Less",
         "Holographic Goose"
        ],
        [
         "230166",
         "2017-01-01",
         "Italy",
         "Stickers for Less",
         "Kaggle"
        ],
        [
         "230167",
         "2017-01-01",
         "Italy",
         "Stickers for Less",
         "Kaggle Tiers"
        ],
        [
         "230168",
         "2017-01-01",
         "Italy",
         "Stickers for Less",
         "Kerneler"
        ],
        [
         "230169",
         "2017-01-01",
         "Italy",
         "Stickers for Less",
         "Kerneler Dark Mode"
        ],
        [
         "230170",
         "2017-01-01",
         "Italy",
         "Premium Sticker Mart",
         "Holographic Goose"
        ],
        [
         "230171",
         "2017-01-01",
         "Italy",
         "Premium Sticker Mart",
         "Kaggle"
        ],
        [
         "230172",
         "2017-01-01",
         "Italy",
         "Premium Sticker Mart",
         "Kaggle Tiers"
        ],
        [
         "230173",
         "2017-01-01",
         "Italy",
         "Premium Sticker Mart",
         "Kerneler"
        ],
        [
         "230174",
         "2017-01-01",
         "Italy",
         "Premium Sticker Mart",
         "Kerneler Dark Mode"
        ],
        [
         "230175",
         "2017-01-01",
         "Kenya",
         "Discount Stickers",
         "Holographic Goose"
        ],
        [
         "230176",
         "2017-01-01",
         "Kenya",
         "Discount Stickers",
         "Kaggle"
        ],
        [
         "230177",
         "2017-01-01",
         "Kenya",
         "Discount Stickers",
         "Kaggle Tiers"
        ],
        [
         "230178",
         "2017-01-01",
         "Kenya",
         "Discount Stickers",
         "Kerneler"
        ],
        [
         "230179",
         "2017-01-01",
         "Kenya",
         "Discount Stickers",
         "Kerneler Dark Mode"
        ]
       ],
       "shape": {
        "columns": 4,
        "rows": 98550
       }
      },
      "text/html": [
       "<div>\n",
       "<style scoped>\n",
       "    .dataframe tbody tr th:only-of-type {\n",
       "        vertical-align: middle;\n",
       "    }\n",
       "\n",
       "    .dataframe tbody tr th {\n",
       "        vertical-align: top;\n",
       "    }\n",
       "\n",
       "    .dataframe thead th {\n",
       "        text-align: right;\n",
       "    }\n",
       "</style>\n",
       "<table border=\"1\" class=\"dataframe\">\n",
       "  <thead>\n",
       "    <tr style=\"text-align: right;\">\n",
       "      <th></th>\n",
       "      <th>date</th>\n",
       "      <th>country</th>\n",
       "      <th>store</th>\n",
       "      <th>product</th>\n",
       "    </tr>\n",
       "    <tr>\n",
       "      <th>id</th>\n",
       "      <th></th>\n",
       "      <th></th>\n",
       "      <th></th>\n",
       "      <th></th>\n",
       "    </tr>\n",
       "  </thead>\n",
       "  <tbody>\n",
       "    <tr>\n",
       "      <th>230130</th>\n",
       "      <td>2017-01-01</td>\n",
       "      <td>Canada</td>\n",
       "      <td>Discount Stickers</td>\n",
       "      <td>Holographic Goose</td>\n",
       "    </tr>\n",
       "    <tr>\n",
       "      <th>230131</th>\n",
       "      <td>2017-01-01</td>\n",
       "      <td>Canada</td>\n",
       "      <td>Discount Stickers</td>\n",
       "      <td>Kaggle</td>\n",
       "    </tr>\n",
       "    <tr>\n",
       "      <th>230132</th>\n",
       "      <td>2017-01-01</td>\n",
       "      <td>Canada</td>\n",
       "      <td>Discount Stickers</td>\n",
       "      <td>Kaggle Tiers</td>\n",
       "    </tr>\n",
       "    <tr>\n",
       "      <th>230133</th>\n",
       "      <td>2017-01-01</td>\n",
       "      <td>Canada</td>\n",
       "      <td>Discount Stickers</td>\n",
       "      <td>Kerneler</td>\n",
       "    </tr>\n",
       "    <tr>\n",
       "      <th>230134</th>\n",
       "      <td>2017-01-01</td>\n",
       "      <td>Canada</td>\n",
       "      <td>Discount Stickers</td>\n",
       "      <td>Kerneler Dark Mode</td>\n",
       "    </tr>\n",
       "    <tr>\n",
       "      <th>...</th>\n",
       "      <td>...</td>\n",
       "      <td>...</td>\n",
       "      <td>...</td>\n",
       "      <td>...</td>\n",
       "    </tr>\n",
       "    <tr>\n",
       "      <th>328675</th>\n",
       "      <td>2019-12-31</td>\n",
       "      <td>Singapore</td>\n",
       "      <td>Premium Sticker Mart</td>\n",
       "      <td>Holographic Goose</td>\n",
       "    </tr>\n",
       "    <tr>\n",
       "      <th>328676</th>\n",
       "      <td>2019-12-31</td>\n",
       "      <td>Singapore</td>\n",
       "      <td>Premium Sticker Mart</td>\n",
       "      <td>Kaggle</td>\n",
       "    </tr>\n",
       "    <tr>\n",
       "      <th>328677</th>\n",
       "      <td>2019-12-31</td>\n",
       "      <td>Singapore</td>\n",
       "      <td>Premium Sticker Mart</td>\n",
       "      <td>Kaggle Tiers</td>\n",
       "    </tr>\n",
       "    <tr>\n",
       "      <th>328678</th>\n",
       "      <td>2019-12-31</td>\n",
       "      <td>Singapore</td>\n",
       "      <td>Premium Sticker Mart</td>\n",
       "      <td>Kerneler</td>\n",
       "    </tr>\n",
       "    <tr>\n",
       "      <th>328679</th>\n",
       "      <td>2019-12-31</td>\n",
       "      <td>Singapore</td>\n",
       "      <td>Premium Sticker Mart</td>\n",
       "      <td>Kerneler Dark Mode</td>\n",
       "    </tr>\n",
       "  </tbody>\n",
       "</table>\n",
       "<p>98550 rows × 4 columns</p>\n",
       "</div>"
      ],
      "text/plain": [
       "              date    country                 store             product\n",
       "id                                                                     \n",
       "230130  2017-01-01     Canada     Discount Stickers   Holographic Goose\n",
       "230131  2017-01-01     Canada     Discount Stickers              Kaggle\n",
       "230132  2017-01-01     Canada     Discount Stickers        Kaggle Tiers\n",
       "230133  2017-01-01     Canada     Discount Stickers            Kerneler\n",
       "230134  2017-01-01     Canada     Discount Stickers  Kerneler Dark Mode\n",
       "...            ...        ...                   ...                 ...\n",
       "328675  2019-12-31  Singapore  Premium Sticker Mart   Holographic Goose\n",
       "328676  2019-12-31  Singapore  Premium Sticker Mart              Kaggle\n",
       "328677  2019-12-31  Singapore  Premium Sticker Mart        Kaggle Tiers\n",
       "328678  2019-12-31  Singapore  Premium Sticker Mart            Kerneler\n",
       "328679  2019-12-31  Singapore  Premium Sticker Mart  Kerneler Dark Mode\n",
       "\n",
       "[98550 rows x 4 columns]"
      ]
     },
     "execution_count": 25,
     "metadata": {},
     "output_type": "execute_result"
    }
   ],
   "source": [
    "test_df"
   ]
  },
  {
   "cell_type": "code",
   "execution_count": null,
   "metadata": {},
   "outputs": [
    {
     "data": {
      "text/plain": [
       "((230130, 5), (98550, 4))"
      ]
     },
     "execution_count": 26,
     "metadata": {},
     "output_type": "execute_result"
    }
   ],
   "source": [
    "train_df.shape,test_df.shape"
   ]
  },
  {
   "cell_type": "markdown",
   "metadata": {},
   "source": [
    "#### Categorical Data"
   ]
  },
  {
   "cell_type": "code",
   "execution_count": null,
   "metadata": {},
   "outputs": [
    {
     "data": {
      "application/vnd.microsoft.datawrangler.viewer.v0+json": {
       "columns": [
        {
         "name": "index",
         "rawType": "object",
         "type": "string"
        },
        {
         "name": "count",
         "rawType": "object",
         "type": "unknown"
        },
        {
         "name": "unique",
         "rawType": "object",
         "type": "unknown"
        },
        {
         "name": "top",
         "rawType": "object",
         "type": "string"
        },
        {
         "name": "freq",
         "rawType": "object",
         "type": "unknown"
        }
       ],
       "conversionMethod": "pd.DataFrame",
       "ref": "27580cb1-0c4b-430d-9bcf-8c99bcdd83e4",
       "rows": [
        [
         "date",
         "230130",
         "2557",
         "2010-01-01",
         "90"
        ],
        [
         "country",
         "230130",
         "6",
         "Canada",
         "38355"
        ],
        [
         "store",
         "230130",
         "3",
         "Discount Stickers",
         "76710"
        ],
        [
         "product",
         "230130",
         "5",
         "Holographic Goose",
         "46026"
        ]
       ],
       "shape": {
        "columns": 4,
        "rows": 4
       }
      },
      "text/html": [
       "<div>\n",
       "<style scoped>\n",
       "    .dataframe tbody tr th:only-of-type {\n",
       "        vertical-align: middle;\n",
       "    }\n",
       "\n",
       "    .dataframe tbody tr th {\n",
       "        vertical-align: top;\n",
       "    }\n",
       "\n",
       "    .dataframe thead th {\n",
       "        text-align: right;\n",
       "    }\n",
       "</style>\n",
       "<table border=\"1\" class=\"dataframe\">\n",
       "  <thead>\n",
       "    <tr style=\"text-align: right;\">\n",
       "      <th></th>\n",
       "      <th>count</th>\n",
       "      <th>unique</th>\n",
       "      <th>top</th>\n",
       "      <th>freq</th>\n",
       "    </tr>\n",
       "  </thead>\n",
       "  <tbody>\n",
       "    <tr>\n",
       "      <th>date</th>\n",
       "      <td>230130</td>\n",
       "      <td>2557</td>\n",
       "      <td>2010-01-01</td>\n",
       "      <td>90</td>\n",
       "    </tr>\n",
       "    <tr>\n",
       "      <th>country</th>\n",
       "      <td>230130</td>\n",
       "      <td>6</td>\n",
       "      <td>Canada</td>\n",
       "      <td>38355</td>\n",
       "    </tr>\n",
       "    <tr>\n",
       "      <th>store</th>\n",
       "      <td>230130</td>\n",
       "      <td>3</td>\n",
       "      <td>Discount Stickers</td>\n",
       "      <td>76710</td>\n",
       "    </tr>\n",
       "    <tr>\n",
       "      <th>product</th>\n",
       "      <td>230130</td>\n",
       "      <td>5</td>\n",
       "      <td>Holographic Goose</td>\n",
       "      <td>46026</td>\n",
       "    </tr>\n",
       "  </tbody>\n",
       "</table>\n",
       "</div>"
      ],
      "text/plain": [
       "          count unique                top   freq\n",
       "date     230130   2557         2010-01-01     90\n",
       "country  230130      6             Canada  38355\n",
       "store    230130      3  Discount Stickers  76710\n",
       "product  230130      5  Holographic Goose  46026"
      ]
     },
     "execution_count": 27,
     "metadata": {},
     "output_type": "execute_result"
    }
   ],
   "source": [
    "train_df.describe(include=[object]).T"
   ]
  },
  {
   "cell_type": "code",
   "execution_count": null,
   "metadata": {},
   "outputs": [
    {
     "data": {
      "application/vnd.microsoft.datawrangler.viewer.v0+json": {
       "columns": [
        {
         "name": "index",
         "rawType": "object",
         "type": "string"
        },
        {
         "name": "count",
         "rawType": "float64",
         "type": "float"
        },
        {
         "name": "mean",
         "rawType": "float64",
         "type": "float"
        },
        {
         "name": "std",
         "rawType": "float64",
         "type": "float"
        },
        {
         "name": "min",
         "rawType": "float64",
         "type": "float"
        },
        {
         "name": "25%",
         "rawType": "float64",
         "type": "float"
        },
        {
         "name": "50%",
         "rawType": "float64",
         "type": "float"
        },
        {
         "name": "75%",
         "rawType": "float64",
         "type": "float"
        },
        {
         "name": "max",
         "rawType": "float64",
         "type": "float"
        }
       ],
       "conversionMethod": "pd.DataFrame",
       "ref": "5f9e2e16-c36a-4324-9adf-cfc124489fce",
       "rows": [
        [
         "num_sold",
         "221259.0",
         "752.527381937006",
         "690.16544498505",
         "5.0",
         "219.0",
         "605.0",
         "1114.0",
         "5939.0"
        ]
       ],
       "shape": {
        "columns": 8,
        "rows": 1
       }
      },
      "text/html": [
       "<div>\n",
       "<style scoped>\n",
       "    .dataframe tbody tr th:only-of-type {\n",
       "        vertical-align: middle;\n",
       "    }\n",
       "\n",
       "    .dataframe tbody tr th {\n",
       "        vertical-align: top;\n",
       "    }\n",
       "\n",
       "    .dataframe thead th {\n",
       "        text-align: right;\n",
       "    }\n",
       "</style>\n",
       "<table border=\"1\" class=\"dataframe\">\n",
       "  <thead>\n",
       "    <tr style=\"text-align: right;\">\n",
       "      <th></th>\n",
       "      <th>count</th>\n",
       "      <th>mean</th>\n",
       "      <th>std</th>\n",
       "      <th>min</th>\n",
       "      <th>25%</th>\n",
       "      <th>50%</th>\n",
       "      <th>75%</th>\n",
       "      <th>max</th>\n",
       "    </tr>\n",
       "  </thead>\n",
       "  <tbody>\n",
       "    <tr>\n",
       "      <th>num_sold</th>\n",
       "      <td>221259.0</td>\n",
       "      <td>752.527382</td>\n",
       "      <td>690.165445</td>\n",
       "      <td>5.0</td>\n",
       "      <td>219.0</td>\n",
       "      <td>605.0</td>\n",
       "      <td>1114.0</td>\n",
       "      <td>5939.0</td>\n",
       "    </tr>\n",
       "  </tbody>\n",
       "</table>\n",
       "</div>"
      ],
      "text/plain": [
       "             count        mean         std  min    25%    50%     75%     max\n",
       "num_sold  221259.0  752.527382  690.165445  5.0  219.0  605.0  1114.0  5939.0"
      ]
     },
     "execution_count": 28,
     "metadata": {},
     "output_type": "execute_result"
    }
   ],
   "source": [
    "train_df.describe().T"
   ]
  },
  {
   "cell_type": "markdown",
   "metadata": {},
   "source": [
    "#### Missing Values"
   ]
  },
  {
   "cell_type": "code",
   "execution_count": null,
   "metadata": {},
   "outputs": [
    {
     "name": "stdout",
     "output_type": "stream",
     "text": [
      "num_sold    8871\n",
      "date           0\n",
      "country        0\n",
      "store          0\n",
      "product        0\n",
      "dtype: int64\n"
     ]
    }
   ],
   "source": [
    "missing_values_count = train_df.isnull().sum()\n",
    "sorted_missing_values = missing_values_count.sort_values(ascending=False)\n",
    "print(sorted_missing_values)"
   ]
  },
  {
   "cell_type": "markdown",
   "metadata": {},
   "source": [
    "The training data seems to range from 1st Jan 2010 to 31st Dec 2016, while the test set ranges from 2017 to 2019.\n",
    "\n",
    "All the features except date seem to be categorical, i.e., there are 6 countries, 3 different types of stores, and 5 products.\n",
    "\n",
    "Only the target variable contains missing values. We shall handle these later on in the notebook. This is similar to the previous tabular playground series competition, which had missing values in the target.\n",
    "\n",
    "There is the same number of stores in the different countries."
   ]
  },
  {
   "cell_type": "markdown",
   "metadata": {},
   "source": [
    "#### Check for encoding"
   ]
  },
  {
   "cell_type": "code",
   "execution_count": null,
   "metadata": {},
   "outputs": [
    {
     "name": "stdout",
     "output_type": "stream",
     "text": [
      "<class 'pandas.core.frame.DataFrame'>\n",
      "Index: 230130 entries, 0 to 230129\n",
      "Data columns (total 5 columns):\n",
      " #   Column    Non-Null Count   Dtype  \n",
      "---  ------    --------------   -----  \n",
      " 0   date      230130 non-null  object \n",
      " 1   country   230130 non-null  object \n",
      " 2   store     230130 non-null  object \n",
      " 3   product   230130 non-null  object \n",
      " 4   num_sold  221259 non-null  float64\n",
      "dtypes: float64(1), object(4)\n",
      "memory usage: 10.5+ MB\n"
     ]
    }
   ],
   "source": [
    "train_df.info()"
   ]
  },
  {
   "cell_type": "markdown",
   "metadata": {},
   "source": [
    "#### Country"
   ]
  },
  {
   "cell_type": "code",
   "execution_count": null,
   "metadata": {},
   "outputs": [
    {
     "name": "stdout",
     "output_type": "stream",
     "text": [
      "['Canada' 'Finland' 'Italy' 'Kenya' 'Norway' 'Singapore']\n"
     ]
    }
   ],
   "source": [
    "counts = train_df['country'].unique()\n",
    "print(counts)"
   ]
  },
  {
   "cell_type": "code",
   "execution_count": null,
   "metadata": {},
   "outputs": [
    {
     "name": "stdout",
     "output_type": "stream",
     "text": [
      "country\n",
      "Canada       38355\n",
      "Finland      38355\n",
      "Italy        38355\n",
      "Kenya        38355\n",
      "Norway       38355\n",
      "Singapore    38355\n",
      "Name: count, dtype: int64\n"
     ]
    }
   ],
   "source": [
    "counts = train_df['country'].value_counts(dropna=False)\n",
    "print(counts)"
   ]
  },
  {
   "cell_type": "code",
   "execution_count": null,
   "metadata": {},
   "outputs": [
    {
     "data": {
      "text/plain": [
       "country\n",
       "Canada       0.166667\n",
       "Finland      0.166667\n",
       "Italy        0.166667\n",
       "Kenya        0.166667\n",
       "Norway       0.166667\n",
       "Singapore    0.166667\n",
       "Name: proportion, dtype: float64"
      ]
     },
     "execution_count": 34,
     "metadata": {},
     "output_type": "execute_result"
    }
   ],
   "source": [
    "train_df.country.value_counts(normalize=True)"
   ]
  },
  {
   "cell_type": "code",
   "execution_count": null,
   "metadata": {},
   "outputs": [
    {
     "data": {
      "image/png": "[encoded data removed]",
      "text/plain": [
       "<Figure size 2000x1500 with 1 Axes>"
      ]
     },
     "metadata": {},
     "output_type": "display_data"
    }
   ],
   "source": [
    "plt.figure(figsize=(20, 15))\n",
    "\n",
    "# Create the countplot\n",
    "ax = sns.countplot(x='country',edgecolor='black', data=train_df)\n",
    "\n",
    "plt.title('Distribution by country', fontsize=28)\n",
    "plt.grid(True, linestyle='--', alpha=0.7)\n",
    "plt.xlabel('Country', fontsize=28)\n",
    "plt.ylabel('Count', fontsize=28)\n",
    "plt.xticks(fontsize=21)\n",
    "plt.yticks(fontsize=21)\n",
    "\n",
    "# Get the current axis\n",
    "ax = plt.gca()\n",
    "\n",
    "# Add value annotations to each bar\n",
    "for i in ax.containers:\n",
    "    ax.bar_label(i, fontsize=21, padding=10)\n",
    "\n",
    "plt.tight_layout()\n",
    "plt.show()"
   ]
  },
  {
   "cell_type": "markdown",
   "metadata": {},
   "source": [
    "#### Sales by country"
   ]
  },
  {
   "cell_type": "code",
   "execution_count": null,
   "metadata": {},
   "outputs": [
    {
     "data": {
      "text/plain": [
       "<Axes: xlabel='country', ylabel='num_sold'>"
      ]
     },
     "execution_count": 36,
     "metadata": {},
     "output_type": "execute_result"
    },
    {
     "data": {
      "image/png": "[encoded data removed]",
      "text/plain": [
       "<Figure size 640x480 with 1 Axes>"
      ]
     },
     "metadata": {},
     "output_type": "display_data"
    }
   ],
   "source": [
    "sns.scatterplot(data=train_df, x='country', y='num_sold')"
   ]
  },
  {
   "cell_type": "code",
   "execution_count": null,
   "metadata": {},
   "outputs": [
    {
     "data": {
      "image/png": "[encoded data removed]",
      "text/plain": [
       "<Figure size 1200x800 with 1 Axes>"
      ]
     },
     "metadata": {},
     "output_type": "display_data"
    }
   ],
   "source": [
    "plt.figure(figsize=(12, 8))\n",
    "sns.barplot(x='country', y='num_sold', errorbar='sd', data=train_df)\n",
    "plt.title('Mean Sales per Country')\n",
    "plt.show()\n"
   ]
  },
  {
   "cell_type": "code",
   "execution_count": null,
   "metadata": {},
   "outputs": [
    {
     "data": {
      "image/png": "[encoded data removed]",
      "text/plain": [
       "<Figure size 1200x800 with 1 Axes>"
      ]
     },
     "metadata": {},
     "output_type": "display_data"
    }
   ],
   "source": [
    "plt.figure(figsize=(12, 8))\n",
    "sns.boxplot(x='country', y='num_sold', data=train_df)\n",
    "plt.title('Sales Distribution by Country')\n",
    "plt.show()"
   ]
  },
  {
   "attachments": {
    "image.png": {
     "image/png": "[encoded data removed]"
    }
   },
   "cell_type": "markdown",
   "metadata": {},
   "source": [
    "## Model serving and deployment using [BentoML](https://docs.bentoml.com/en/latest/index.html) and [Modal](https://modal.com/). \n",
    "\n",
    "BentoML is a service we can use to manage, serve and deploy machine learning models to an API. \n",
    "\n",
    "Modal is a serveless cloud platform that enables us to run and execute any python code in the cloud without having to manage infrastructure.Modal makes it easy to attach GPU'S with just one line of code and can serve our functions as web endpoints.\n",
    "\n",
    "I previously showed how to train, serve and deploy a machine learning model to a live API endpoint with bentoml and bentocloud [here](https://nbsanity.com/static/ac40bb062434c7446906d3eb8875e061/load.html). For this project, i will be using bentoml for model management i.e. model loading and saving while i shall be running my model training, serving and endpoint deployment using Modal.\n",
    "\n",
    "So in this project, we'll build an end-to-end solution for forecasting sticker sales across different stores and countries. We'll use:\n",
    "\n",
    "- **XGBoost**: For training our regression model\n",
    "- **FastAI**: For data preprocessing\n",
    "- **Modal**: For serverless compute and API hosting\n",
    "- **BentoML**: For model management\n",
    "\n",
    "The solution will allow us to:\n",
    "1. Upload training data to Modal's cloud storage\n",
    "2. Train a model in Modal's cloud environment\n",
    "3. Deploy a prediction API endpoint\n",
    "4. Make forecasts via API calls\n",
    "\n",
    "Let's get started!\n",
    "\n",
    "### Project Setup <a name=\"project-setup\"></a>\n",
    "\n",
    "First, we need to set up our environment. To do this, run ```modal setup``` via your terminal.\n",
    "\n",
    "This returns the below.\n",
    "\n",
    "![image.png](attachment:image.png)"
   ]
  },
  {
   "cell_type": "code",
   "execution_count": null,
   "metadata": {},
   "outputs": [],
   "source": [
    "# Initialize Modal (one-time setup)\n",
    "#!modal setup"
   ]
  },
  {
   "cell_type": "markdown",
   "metadata": {},
   "source": [
    "So, we can now create a project directory with the below structure:\n",
    "\n",
    "```\n",
    "retail_forecasting_modal/\n",
    "├── data/                 # Local directory for CSV files\n",
    "│   ├── train.csv\n",
    "│   └── test.csv\n",
    "├── modal_upload.py       # Data upload script\n",
    "├── modal_train.py        # Model training script\n",
    "├── modal_serve.py        # API serving script\n",
    "├── test_modal_api.py     # API testing script\n",
    "└── requirements.txt      # Project dependencies, not neccesary for modal though\n",
    "```\n"
   ]
  },
  {
   "cell_type": "markdown",
   "metadata": {},
   "source": [
    "\n",
    "## Data Upload <a name=\"data-management\"></a>\n"
   ]
  },
  {
   "cell_type": "code",
   "execution_count": 33,
   "metadata": {},
   "outputs": [],
   "source": [
    "import modal"
   ]
  },
  {
   "cell_type": "code",
   "execution_count": 34,
   "metadata": {},
   "outputs": [],
   "source": [
    "# Create an app for the data upload\n",
    "app = modal.App(\"sticker-data-upload\")"
   ]
  },
  {
   "cell_type": "markdown",
   "metadata": {},
   "source": [
    "This initializes a Modal application named \"sticker-data-upload\". Modal is a cloud platform that lets you run Python functions in the cloud. \n",
    "\n",
    "The App class is used to define a Modal application which is just a group of functions and classes that are deployed together."
   ]
  },
  {
   "cell_type": "code",
   "execution_count": 35,
   "metadata": {},
   "outputs": [],
   "source": [
    "# Create a volume to persist data\n",
    "volume = modal.Volume.from_name(\"sticker-data-volume\", create_if_missing=True)"
   ]
  },
  {
   "cell_type": "markdown",
   "metadata": {},
   "source": [
    "So we start by uploading our data to Modal using [volumes](https://modal.com/docs/guide/volumes). To quote the modal documentation\n",
    "\n",
    "> Modal Volumes provide a high-performance distributed file system for your Modal applications. They are designed for write-once, read-many I/O workloads, > like creating machine learning model weights and distributing them for inference.\n",
    "\n",
    "This will enable our training function that we run later to access the data it will need to train our machine learning model.\n",
    "\n",
    "NB: You can achieve the same data upload functionality using Modal [Images](https://modal.com/docs/guide/images) by using the image.add_local_dir and image.add_local_file image builder methods. This can be done by creating an image that has our data like below\n",
    "\n",
    "```\n",
    "sticker_data_image = (\n",
    "    modal.Image.debian_slim()\n",
    "    .pip_install([\"pandas\", \"numpy\", \"xgboost\", \"bentoml\"])\n",
    "    # Add your local data directory to the image\n",
    "    .add_local_dir(\"./data\", remote_path=\"/data\")\n",
    ")\n",
    "```\n",
    "\n",
    "For this example, I shall be uploading my data using Modal volumes as opposed to using images. \n",
    "\n",
    "This creates a persistent storage volume in Modal named \"sticker-data-volume\". The ```create_if_missing=True``` flag means it will create the volume if it doesn't already exist. Volumes in Modal are like shared disk space that can persist between function runs.\n",
    "\n",
    "Remember our modal app can consist of various functions and classes. To explicity register an object with the app, we use the ```@app.function()``` decorator.Below we define a function called ```upload_data``` to upload our data."
   ]
  },
  {
   "cell_type": "code",
   "execution_count": 36,
   "metadata": {},
   "outputs": [
    {
     "name": "stderr",
     "output_type": "stream",
     "text": [
      "/tmp/ipykernel_588051/3096769847.py:2: DeprecationError: 2025-02-03: Modal will stop implicitly adding local Python modules to the Image (\"automounting\") in a future update. The following modules need to be explicitly added for future compatibility:\n",
      "* _remote_module_non_scriptable\n",
      "\n",
      "e.g.:\n",
      "image_with_source = my_image.add_local_python_source(\"_remote_module_non_scriptable\")\n",
      "\n",
      "For more information, see https://modal.com/docs/guide/modal-1-0-migration\n",
      "  def upload_data(local_data_path):\n"
     ]
    }
   ],
   "source": [
    "@app.function(volumes={\"/data\": volume})\n",
    "def upload_data(local_data_path):\n",
    "    import shutil\n",
    "    import os\n",
    "    \n",
    "    # Ensure the destination directory exists\n",
    "    os.makedirs(\"/data\", exist_ok=True)\n",
    "    \n",
    "    # Copy all files from the local data directory to the volume\n",
    "    for file in Path(local_data_path).glob(\"*\"):\n",
    "        dest = f\"/data/{file.name}\"\n",
    "        if file.is_file():\n",
    "            shutil.copy(file, dest)\n",
    "            print(f\"Copied {file} to {dest}\")\n",
    "    \n",
    "    # List files to confirm upload\n",
    "    print(\"\\nFiles in Modal volume:\")\n",
    "    for file in Path(\"/data\").glob(\"*\"):\n",
    "        print(f\" - {file}\")\n"
   ]
  },
  {
   "cell_type": "markdown",
   "metadata": {},
   "source": [
    "Inside the function, We import the necessary modules and ensure the destination directory exists. The ```exist_ok=True``` means it won't raise an error if the directory already exists.\n",
    "\n",
    "I then loop through all files in the specified local directory, copy each file to the mounted volume at \"/data\", and print a confirmation message.\n",
    "After copying, this lists all files in the volume to confirm they were uploaded successfully.\n",
    "\n",
    "We then define a local entry point. "
   ]
  },
  {
   "cell_type": "code",
   "execution_count": 37,
   "metadata": {},
   "outputs": [],
   "source": [
    "@app.local_entrypoint()\n",
    "def main():\n",
    "    if len(sys.argv) > 1:\n",
    "        data_path = sys.argv[1]\n",
    "    else:\n",
    "        data_path = \"./data\"  # Default path\n",
    "    \n",
    "    print(f\"Uploading data from {data_path}\")\n",
    "    upload_data.remote(data_path)"
   ]
  },
  {
   "cell_type": "markdown",
   "metadata": {},
   "source": [
    "In essence, The ```@app.local_entrypoint()``` decorator tells Modal that the main() function can be invoked directly from the command line using a command like ```modal run modal_upload.py``` allowing users to execute the main() function locally to initiate the app's workflow.\n",
    "\n",
    "\n",
    "The ```@app.local_entrypoint()``` function acts as a local orchestrator, initiating the remote execution of ```upload_data``` to upload files from the specified data_path to a Modal volume. It parses command-line arguments to determine the data path, prints a local message, and then triggers the actual data uploading process.\n",
    "\n",
    "The ```@app.local_entrypoint()``` decorator ensures that the Modal App (app = modal.App(\"sticker-data-upload\")) is automatically created and managed when the main() function is invoked via modal run. There’s no need to explicitly call app.run().\n",
    "\n",
    "Run ```python modal_upload.py ./data``` via the command line to trigger the data upload."
   ]
  },
  {
   "cell_type": "code",
   "execution_count": 38,
   "metadata": {},
   "outputs": [
    {
     "name": "stdout",
     "output_type": "stream",
     "text": [
      "python: can't open file '/home/rubanza/work/retail_forecasting_model_deployment/modal_upload.py': [Errno 2] No such file or directory\n"
     ]
    }
   ],
   "source": [
    "!python modal_upload.py ./data"
   ]
  },
  {
   "cell_type": "markdown",
   "metadata": {},
   "source": [
    "This will:\n",
    "1. Create a persistent volume in Modal's cloud\n",
    "2. Upload your CSV files to this volume\n",
    "3. Make the data available for subsequent training and inference"
   ]
  },
  {
   "cell_type": "markdown",
   "metadata": {},
   "source": [
    "## Model Training <a name=\"model-training\"></a>\n",
    "\n",
    "Next, we'll create a script to train our forecasting model:"
   ]
  },
  {
   "cell_type": "code",
   "execution_count": 18,
   "metadata": {},
   "outputs": [
    {
     "ename": "NameError",
     "evalue": "name 'modal' is not defined",
     "output_type": "error",
     "traceback": [
      "\u001b[0;31m---------------------------------------------------------------------------\u001b[0m",
      "\u001b[0;31mNameError\u001b[0m                                 Traceback (most recent call last)",
      "Cell \u001b[0;32mIn[18], line 4\u001b[0m\n\u001b[1;32m      1\u001b[0m \u001b[38;5;66;03m# modal_train.py\u001b[39;00m\n\u001b[1;32m      2\u001b[0m \n\u001b[1;32m      3\u001b[0m \u001b[38;5;66;03m# Define Modal resources\u001b[39;00m\n\u001b[0;32m----> 4\u001b[0m app \u001b[38;5;241m=\u001b[39m \u001b[43mmodal\u001b[49m\u001b[38;5;241m.\u001b[39mApp(\u001b[38;5;124m\"\u001b[39m\u001b[38;5;124msticker-sales-forecast\u001b[39m\u001b[38;5;124m\"\u001b[39m)\n",
      "\u001b[0;31mNameError\u001b[0m: name 'modal' is not defined"
     ]
    }
   ],
   "source": [
    "# modal_train.py\n",
    "\n",
    "# Define Modal resources\n",
    "app = modal.App(\"sticker-sales-forecast\")"
   ]
  },
  {
   "cell_type": "markdown",
   "metadata": {},
   "source": [
    "We create a modal app called \"sticker-sales-forecast\" by running the above command"
   ]
  },
  {
   "cell_type": "code",
   "execution_count": 19,
   "metadata": {},
   "outputs": [
    {
     "ename": "NameError",
     "evalue": "name 'modal' is not defined",
     "output_type": "error",
     "traceback": [
      "\u001b[0;31m---------------------------------------------------------------------------\u001b[0m",
      "\u001b[0;31mNameError\u001b[0m                                 Traceback (most recent call last)",
      "Cell \u001b[0;32mIn[19], line 1\u001b[0m\n\u001b[0;32m----> 1\u001b[0m image \u001b[38;5;241m=\u001b[39m \u001b[43mmodal\u001b[49m\u001b[38;5;241m.\u001b[39mImage\u001b[38;5;241m.\u001b[39mdebian_slim()\u001b[38;5;241m.\u001b[39mpip_install([\n\u001b[1;32m      2\u001b[0m     \u001b[38;5;124m\"\u001b[39m\u001b[38;5;124mfastai\u001b[39m\u001b[38;5;124m\"\u001b[39m, \n\u001b[1;32m      3\u001b[0m     \u001b[38;5;124m\"\u001b[39m\u001b[38;5;124mxgboost\u001b[39m\u001b[38;5;124m\"\u001b[39m, \n\u001b[1;32m      4\u001b[0m     \u001b[38;5;124m\"\u001b[39m\u001b[38;5;124mbentoml\u001b[39m\u001b[38;5;124m\"\u001b[39m, \n\u001b[1;32m      5\u001b[0m     \u001b[38;5;124m\"\u001b[39m\u001b[38;5;124mscikit-learn\u001b[39m\u001b[38;5;124m\"\u001b[39m, \n\u001b[1;32m      6\u001b[0m     \u001b[38;5;124m\"\u001b[39m\u001b[38;5;124mpandas\u001b[39m\u001b[38;5;124m\"\u001b[39m, \n\u001b[1;32m      7\u001b[0m     \u001b[38;5;124m\"\u001b[39m\u001b[38;5;124mnumpy\u001b[39m\u001b[38;5;124m\"\u001b[39m, \n\u001b[1;32m      8\u001b[0m     \u001b[38;5;124m\"\u001b[39m\u001b[38;5;124mtorch\u001b[39m\u001b[38;5;124m\"\u001b[39m\n\u001b[1;32m      9\u001b[0m ])\n",
      "\u001b[0;31mNameError\u001b[0m: name 'modal' is not defined"
     ]
    }
   ],
   "source": [
    "image = modal.Image.debian_slim().pip_install([\n",
    "    \"fastai\", \n",
    "    \"xgboost\", \n",
    "    \"bentoml\", \n",
    "    \"scikit-learn\", \n",
    "    \"pandas\", \n",
    "    \"numpy\", \n",
    "    \"torch\"\n",
    "])"
   ]
  },
  {
   "cell_type": "markdown",
   "metadata": {},
   "source": [
    "We then define an image which is a snapshot of our container's filesystem state. We can easily any third party packages like ```torch```, ```pandas``` by passing all the packages we need to the ```pip_install``` method of an image as shown above."
   ]
  },
  {
   "cell_type": "code",
   "execution_count": null,
   "metadata": {},
   "outputs": [],
   "source": [
    "volume = modal.Volume.from_name(\"sticker-data-volume\")"
   ]
  },
  {
   "cell_type": "markdown",
   "metadata": {},
   "source": [
    "So above, we are calling and attaching an exisiting volume called ```sticker-data-volume``` which we defined above in our training function. This contains the data needed for our model training in the ```train_model``` function defined below.\n",
    "\n",
    "We define our ```@app.function``` decorator passing in our specified image and volume mounted at \"/data\"."
   ]
  },
  {
   "cell_type": "code",
   "execution_count": null,
   "metadata": {},
   "outputs": [],
   "source": [
    "@app.function(image=image, volumes={\"/data\": volume})\n",
    "def train_model():\n",
    "    # Set up paths\n",
    "    path = Path('/data/')\n",
    "    \n",
    "    # Check if data files exist\n",
    "    print(\"Files available in volume:\")\n",
    "    for file in path.glob(\"*\"):\n",
    "        print(f\" - {file}\")\n",
    "    \n",
    "    # Load data\n",
    "    print(\"Loading data...\")\n",
    "    train_df = pd.read_csv(path/'train.csv', index_col='id')\n",
    "    test_df = pd.read_csv(path/'test.csv', index_col='id')\n",
    "    \n",
    "    # Data preprocessing\n",
    "    print(\"Preprocessing data...\")\n",
    "    train_df = train_df.dropna(subset=['num_sold'])\n",
    "    train_df = add_datepart(train_df, 'date', drop=False)\n",
    "    test_df = add_datepart(test_df, 'date', drop=False)\n",
    "    \n",
    "    # Feature preparation\n",
    "    cont_names, cat_names = cont_cat_split(train_df, dep_var='num_sold')\n",
    "    splits = RandomSplitter(valid_pct=0.2)(range_of(train_df))\n",
    "    to = TabularPandas(train_df, procs=[Categorify, FillMissing, Normalize],\n",
    "                      cat_names=cat_names,\n",
    "                      cont_names=cont_names,\n",
    "                      y_names='num_sold',\n",
    "                      y_block=CategoryBlock(),\n",
    "                      splits=splits)\n",
    "    dls = to.dataloaders(bs=64)\n",
    "    \n",
    "    # Prepare training data\n",
    "    X_train, y_train = to.train.xs, to.train.ys.values.ravel()\n",
    "    X_test, y_test = to.valid.xs, to.valid.ys.values.ravel()\n",
    "    \n",
    "    # Train XGBoost model\n",
    "    print(\"Training XGBoost model...\")\n",
    "    xgb_model = xgb.XGBRegressor()\n",
    "    xgb_model = xgb_model.fit(X_train, y_train)\n",
    "    \n",
    "    # Save model with BentoML\n",
    "    print(\"Saving model with BentoML...\")\n",
    "    model_tag = bentoml.xgboost.save_model(\n",
    "        \"sticker_sales_v1\", \n",
    "        xgb_model,\n",
    "        custom_objects={\n",
    "            \"preprocessor\": {\n",
    "                \"cont_names\": cont_names,\n",
    "                \"cat_names\": cat_names\n",
    "            }\n",
    "        }\n",
    "    )\n",
    "    \n",
    "    print(f\"Model saved: {model_tag}\")\n",
    "    return str(model_tag)"
   ]
  },
  {
   "cell_type": "markdown",
   "metadata": {},
   "source": [
    "In our script above, after setting up the paths and loading the training and test data into their respective dataframes, ```train_df``` and ```test_df```, We define our preprocessing steps to be taken on our datasets. \n",
    "\n",
    "Our first preprocessing step is to use the [```add_datepart```](https://docs.fast.ai/tabular.core.html#add_datepart) helper function from [fast.ai](https://docs.fast.ai/) to add columns/features relevant to the date column in a dataframe if available. This is defined using ``` add_datepart (df, field_name, prefix=None, drop=True, time=False)```. \n",
    "\n",
    "For example, if we have a date column with a row that has '2019-12-04'. We can generate new columns such as Year, Month, Day, Dayofweek, Is_month_start, \tIs_quarter_end etc.\n",
    "\n",
    "Our next step is to do the below stated basic fastai tabular preprocessing. \n",
    "\n",
    "- First we define categorical and continous variables, I use the fastai [cont_cat_split](https://docs.fast.ai/tabular.core.html#cont_cat_split) function to separate my dataset variables into categorical and continous variables based of the cardinality of my column values.\n",
    "\n",
    "We take an argument max card whose default is 20.If the number of unique values is above 20 (max_card value) for a particular column, that column is considered continous and vice versa.\n",
    "\n",
    "- Split into training and validation set. The [RandomSplitter](https://docs.fast.ai/data.transforms.html#randomsplitter) function above separates the training set into a training and validation set based off the value of the argument valid_pct.\n",
    "\n",
    "- I use fastai's TabularPandas class to create a TabularPandas object that applies preprocessing steps to our data, creating a data frame wrapper that takes in different arguments and knows which columns are categorical and continuous. I also define the target variable, y_name, the type of target and problem we are dealing with, and the way to split our data which previously defined in splits above.\n",
    "\n",
    "I then define a list of preprocessing steps, Procs, to be taken on our data.\n",
    "\n",
    "Categorify deals with the categorical variables and converts each category into a list of indexable numerical integers, creating numerical input which is required by our model. Each category corresponds to a different number.\n",
    "\n",
    "FillMissing as its name suggests, fills in the missing values in columns with continuous values. This can be filled in with the median, mode of that column, or a constant, with the default being the median value for that particular column. As said above, FillMissing supports using the mode and a constant as strategies for dealing with missing values. We can do this by changing the FillMissing argument fill_strategy to mode or constant.\n",
    "\n",
    "Normalize puts the continuous variables between a standardized scale without losing important information by subtracting the mean and dividing by the standard deviation.\n",
    "\n",
    "- I then define a DataLoader which is an extension of PyTorch's DataLoaders class albeit with more functionality. This takes in our data above from the TabularPandas object and prepares it as input for our model passing it in batches which we defined by our our batch size set by the bs argument.\n",
    "\n",
    "The DataLoaders and TabularPandas Object allow us build data objects we can use for training without specifically changing the raw input data.\n",
    "\n",
    "The dataloader then acts as input for our models.\n",
    "\n",
    "- In order to use other libraries with fastai, I extract the x's and y's from my TabularPandas object which i used to preprocess the data.I can now directly use the training and validation set values i extracted above as direct input for decision tress and gradient boosting models.\n",
    "\n",
    "An instance of XGBRegressor is then created with default parameters, and a model is trained by calling .fit() with the training features (X_train) and target values (y_train). The model is finally serialized and saved to the bentoML model store. "
   ]
  },
  {
   "cell_type": "code",
   "execution_count": 20,
   "metadata": {},
   "outputs": [
    {
     "ename": "NameError",
     "evalue": "name 'app' is not defined",
     "output_type": "error",
     "traceback": [
      "\u001b[0;31m---------------------------------------------------------------------------\u001b[0m",
      "\u001b[0;31mNameError\u001b[0m                                 Traceback (most recent call last)",
      "Cell \u001b[0;32mIn[20], line 1\u001b[0m\n\u001b[0;32m----> 1\u001b[0m \u001b[38;5;129m@app\u001b[39m\u001b[38;5;241m.\u001b[39mlocal_entrypoint()\n\u001b[1;32m      2\u001b[0m \u001b[38;5;28;01mdef\u001b[39;00m \u001b[38;5;21mmain\u001b[39m():\n\u001b[1;32m      3\u001b[0m     \u001b[38;5;66;03m# Train the model remotely\u001b[39;00m\n\u001b[1;32m      4\u001b[0m     \u001b[38;5;28mprint\u001b[39m(\u001b[38;5;124m\"\u001b[39m\u001b[38;5;124mStarting model training on Modal...\u001b[39m\u001b[38;5;124m\"\u001b[39m)\n\u001b[1;32m      5\u001b[0m     model_tag \u001b[38;5;241m=\u001b[39m train_model\u001b[38;5;241m.\u001b[39mremote()\n",
      "\u001b[0;31mNameError\u001b[0m: name 'app' is not defined"
     ]
    }
   ],
   "source": [
    "@app.local_entrypoint()\n",
    "def main():\n",
    "    # Train the model remotely\n",
    "    print(\"Starting model training on Modal...\")\n",
    "    model_tag = train_model.remote()\n",
    "    print(f\"Model training completed. Model tag: {model_tag}\")"
   ]
  },
  {
   "cell_type": "markdown",
   "metadata": {},
   "source": [
    "#### Entry Point\n",
    "The ```@app.local_entrypoint()``` decorator declared below makes this function the entry point when you run the script locally. ```train_model.remote()``` executes the training function in Modal's cloud\n",
    "\n",
    "Run ```python modal_train.py``` via the command line to trigger the data upload."
   ]
  },
  {
   "cell_type": "code",
   "execution_count": 21,
   "metadata": {},
   "outputs": [],
   "source": [
    "#!python modal_train.py"
   ]
  },
  {
   "cell_type": "markdown",
   "metadata": {},
   "source": [
    "\n",
    "At this point, we will have\n",
    "\n",
    "1. Loaded data from the Modal volume\n",
    "2. Preprocessed the data using FastAI\n",
    "3. Trained an XGBoost regression model\n",
    "4. Saved the model using BentoML within Modal's environment\n",
    "\n",
    "## API Deployment <a name=\"api-deployment\"></a>\n",
    "\n",
    "Now, let's create a script to deploy our model as an API:"
   ]
  },
  {
   "cell_type": "code",
   "execution_count": 22,
   "metadata": {},
   "outputs": [
    {
     "ename": "NameError",
     "evalue": "name 'modal' is not defined",
     "output_type": "error",
     "traceback": [
      "\u001b[0;31m---------------------------------------------------------------------------\u001b[0m",
      "\u001b[0;31mNameError\u001b[0m                                 Traceback (most recent call last)",
      "Cell \u001b[0;32mIn[22], line 2\u001b[0m\n\u001b[1;32m      1\u001b[0m \u001b[38;5;66;03m# Create app definition\u001b[39;00m\n\u001b[0;32m----> 2\u001b[0m app \u001b[38;5;241m=\u001b[39m \u001b[43mmodal\u001b[49m\u001b[38;5;241m.\u001b[39mApp(\u001b[38;5;124m\"\u001b[39m\u001b[38;5;124msticker-sales-api\u001b[39m\u001b[38;5;124m\"\u001b[39m)\n",
      "\u001b[0;31mNameError\u001b[0m: name 'modal' is not defined"
     ]
    }
   ],
   "source": [
    "# Create app definition\n",
    "app = modal.App(\"sticker-sales-api\")"
   ]
  },
  {
   "cell_type": "markdown",
   "metadata": {},
   "source": [
    "Just like before, We create a Modal App called \"sticker-sales-api\" which acts as the container for all the functions that will be deployed."
   ]
  },
  {
   "cell_type": "code",
   "execution_count": null,
   "metadata": {},
   "outputs": [],
   "source": [
    "\n",
    "# Define image with SPECIFIC VERSIONS to ensure compatibility\n",
    "image = (modal.Image.debian_slim()\n",
    "         .pip_install(\"pydantic==1.10.8\")         # Pin to a specific compatible version\n",
    "         .pip_install(\"fastapi==0.95.2\")          # Pin to a version that works with this pydantic\n",
    "         .pip_install(\"uvicorn==0.22.0\")          # For FastAPI server\n",
    "         .pip_install([                           # Other dependencies\n",
    "             \"bentoml\",\n",
    "             \"xgboost\",\n",
    "             \"scikit-learn\",\n",
    "             \"pandas\",\n",
    "             \"numpy\",\n",
    "         ]))"
   ]
  },
  {
   "cell_type": "code",
   "execution_count": null,
   "metadata": {},
   "outputs": [],
   "source": [
    "# Create a separate image for fastai to avoid conflicts\n",
    "fastai_image = (modal.Image.debian_slim()\n",
    "                .pip_install([\"fastai\", \"torch\"])\n",
    "                .pip_install(\"pydantic==1.10.8\")  # Same pydantic version\n",
    "                .pip_install(\"fastapi==0.95.2\"))  # Same fastapi version\n"
   ]
  },
  {
   "cell_type": "markdown",
   "metadata": {},
   "source": [
    "We then go ahead and define two separate container images.\n",
    "\n",
    "The main image includes dependencies for the API (FastAPI, pydantic, uvicorn) plus modal-related packages (BentoML, XGBoost, scikit-learn).\n",
    "A separate fastai_image is created to avoid dependency conflicts, as FastAI has specific requirements for torch and other packages."
   ]
  },
  {
   "cell_type": "code",
   "execution_count": 23,
   "metadata": {},
   "outputs": [
    {
     "ename": "NameError",
     "evalue": "name 'model_volume' is not defined",
     "output_type": "error",
     "traceback": [
      "\u001b[0;31m---------------------------------------------------------------------------\u001b[0m",
      "\u001b[0;31mNameError\u001b[0m                                 Traceback (most recent call last)",
      "Cell \u001b[0;32mIn[23], line 1\u001b[0m\n\u001b[0;32m----> 1\u001b[0m \u001b[43mmodel_volume\u001b[49m\n",
      "\u001b[0;31mNameError\u001b[0m: name 'model_volume' is not defined"
     ]
    }
   ],
   "source": [
    "model_volume"
   ]
  },
  {
   "cell_type": "code",
   "execution_count": null,
   "metadata": {},
   "outputs": [],
   "source": [
    "# Create volume to store model\n",
    "model_volume = modal.Volume.from_name(\"sticker-model-volume\", create_if_missing=True)"
   ]
  },
  {
   "cell_type": "markdown",
   "metadata": {},
   "source": [
    "Once again just like before, we call and attach an exisiting volume called ```sticker-data-volume```. Since i am running this in the same script from before, the volume should already be initialized."
   ]
  },
  {
   "cell_type": "code",
   "execution_count": null,
   "metadata": {},
   "outputs": [],
   "source": [
    "# Simple health endpoint that doesn't need FastAI\n",
    "@app.function(image=image)\n",
    "@modal.fastapi_endpoint(method=\"GET\")\n",
    "def health():\n",
    "    return {\"status\": \"healthy\", \"service\": \"sticker-sales-api\"}"
   ]
  },
  {
   "cell_type": "markdown",
   "metadata": {},
   "source": [
    "We define a health endpoint to provide a simple way to check if our API service is alive and functioning correctly. We can use this to verify our service is available without needing to test the full prediction functionality.\n",
    "\n",
    "I now write a prediction function ```predict``` which\n",
    "\n",
    "- Takes input data as a dictionary\n",
    "- Converts it to a pandas DataFrame\n",
    "- Applies date feature engineering using FastAI's add_datepart\n",
    "- Loads the XGBoost model saved by BentoML\n",
    "- Makes a prediction and returns the result as JSON"
   ]
  },
  {
   "cell_type": "code",
   "execution_count": null,
   "metadata": {},
   "outputs": [],
   "source": [
    "# Prediction function - using the fastai image\n",
    "@app.function(image=fastai_image, volumes={\"/models\": model_volume})\n",
    "def predict(input_data: dict):\n",
    "    from fastai.tabular.all import add_datepart\n",
    "    import bentoml\n",
    "    \n",
    "    # Process input data\n",
    "    df = pd.DataFrame([input_data])\n",
    "    df = add_datepart(df, 'date', drop=False)\n",
    "    \n",
    "    # Load model and predict\n",
    "    try:\n",
    "        model = bentoml.xgboost.load_model(\"sticker_sales_v1:latest\")\n",
    "        prediction = model.predict(df)\n",
    "        return {\"success\": True, \"prediction\": prediction.tolist()}\n",
    "    except Exception as e:\n",
    "        return {\"success\": False, \"error\": str(e)}\n"
   ]
  },
  {
   "cell_type": "markdown",
   "metadata": {},
   "source": [
    "We then write a function that creates a POST endpoint that accepts input data and calls the prediction function."
   ]
  },
  {
   "cell_type": "code",
   "execution_count": null,
   "metadata": {},
   "outputs": [],
   "source": [
    "# API endpoint that uses the prediction function\n",
    "@app.function(image=image)\n",
    "@modal.fastapi_endpoint(method=\"POST\")\n",
    "def predict_api(input_data: dict):\n",
    "    result = predict.call(input_data)\n",
    "    return result"
   ]
  },
  {
   "cell_type": "markdown",
   "metadata": {},
   "source": [
    "```@app.function(image=image)``` specifies that this API handler should run in the main image (without FastAI), since it's only acting as a pass-through to the actual prediction function.\n",
    "\n",
    "```@modal.fastapi_endpoint(method=\"POST\")``` creates an HTTP POST endpoint using FastAPI. This is what external clients will call with their data.\n",
    "\n",
    "```def predict_api(input_data: dict)``` creates a function that accepts a JSON payload (automatically parsed to a Python dictionary).\n",
    "\n",
    "```result = predict.call(input_data)``` is where this endpoint calls the separate prediction function. \n",
    "\n",
    "The ```.call()``` method invokes the other Modal function (potentially in a different container with the FastAI image) with the user's input data.\n",
    "\n",
    "\n",
    "Finally, ```return result``` sends back whatever response the prediction function returned. We can now run ```modal deploy modal_serve.py``` to deploy our service."
   ]
  },
  {
   "cell_type": "markdown",
   "metadata": {},
   "source": [
    "This will:\n",
    "1. Create a persistent API endpoint in Modal's cloud\n",
    "\n",
    "2. Set up two HTTP endpoints:\n",
    "   - GET /health: For checking if the service is running\n",
    "   - POST /predict_api: For making sales predictions\n"
   ]
  },
  {
   "cell_type": "markdown",
   "metadata": {},
   "source": [
    "## Testing the API <a name=\"testing-the-api\"></a>\n",
    "\n",
    "Let's create a script to test our deployed API:"
   ]
  },
  {
   "cell_type": "code",
   "execution_count": 24,
   "metadata": {},
   "outputs": [
    {
     "name": "stdout",
     "output_type": "stream",
     "text": [
      "=== Modal API Test ===\n",
      "\n",
      "🔍 Testing health endpoint...\n",
      "✅ Health check successful!\n",
      "Response: {'status': 'healthy', 'service': 'sticker-sales-api'}\n",
      "\n",
      "🔍 Testing prediction endpoint...\n",
      "❌ Prediction failed with status code: 500\n",
      "Response: Internal Server Error\n",
      "\n",
      "=== Test Complete ===\n"
     ]
    }
   ],
   "source": [
    "# test_modal_api.py\n",
    "import requests\n",
    "import json\n",
    "import sys\n",
    "\n",
    "# Your Modal API URLs (replace with your actual endpoints)\n",
    "HEALTH_URL = \"https://flexible-functions-ai--sticker-sales-api-health.modal.run\"\n",
    "PREDICT_URL = \"https://flexible-functions-ai--sticker-sales-api-predict-api.modal.run\"\n",
    "\n",
    "def test_health():\n",
    "    \"\"\"Test the health endpoint\"\"\"\n",
    "    print(\"\\n🔍 Testing health endpoint...\")\n",
    "    try:\n",
    "        response = requests.get(HEALTH_URL)\n",
    "        if response.status_code == 200:\n",
    "            print(\"✅ Health check successful!\")\n",
    "            print(f\"Response: {response.json()}\")\n",
    "        else:\n",
    "            print(f\"❌ Health check failed with status code: {response.status_code}\")\n",
    "            print(f\"Response: {response.text}\")\n",
    "    except Exception as e:\n",
    "        print(f\"❌ Error connecting to health endpoint: {e}\")\n",
    "\n",
    "def test_prediction():\n",
    "    \"\"\"Test the prediction endpoint\"\"\"\n",
    "    print(\"\\n🔍 Testing prediction endpoint...\")\n",
    "    \n",
    "    # Sample test data - adjust based on your model's expected input\n",
    "    test_data = {\n",
    "        \"date\": \"2023-01-15\",\n",
    "        \"country\": \"US\",\n",
    "        \"store\": \"Store_001\",\n",
    "        \"product\": \"Sticker_A\"\n",
    "    }\n",
    "    \n",
    "    try:\n",
    "        response = requests.post(\n",
    "            PREDICT_URL,\n",
    "            json=test_data,\n",
    "            headers={\"Content-Type\": \"application/json\"}\n",
    "        )\n",
    "        \n",
    "        if response.status_code == 200:\n",
    "            print(\"✅ Prediction successful!\")\n",
    "            print(f\"Input: {json.dumps(test_data, indent=2)}\")\n",
    "            print(f\"Prediction: {json.dumps(response.json(), indent=2)}\")\n",
    "        else:\n",
    "            print(f\"❌ Prediction failed with status code: {response.status_code}\")\n",
    "            print(f\"Response: {response.text}\")\n",
    "    except Exception as e:\n",
    "        print(f\"❌ Error connecting to prediction endpoint: {e}\")\n",
    "\n",
    "if __name__ == \"__main__\":\n",
    "    print(\"=== Modal API Test ===\")\n",
    "    test_health()\n",
    "    test_prediction()\n",
    "    print(\"\\n=== Test Complete ===\")\n"
   ]
  },
  {
   "cell_type": "markdown",
   "metadata": {},
   "source": [
    "We can now run ```python test_modal_api.py``` to test our API.\n",
    "\n",
    "This will:\n",
    "1. Test the health endpoint to verify the service is running\n",
    "2. Test the prediction endpoint with sample data\n",
    "3. Display the results"
   ]
  },
  {
   "cell_type": "markdown",
   "metadata": {},
   "source": [
    "## User Interface with streamlit\n",
    "\n",
    "We then build an user interface to visualize our predictions. For this, we shall be using [streamlit](https://streamlit.io/), a library that allows us to build quick interactive web apps with python."
   ]
  },
  {
   "cell_type": "code",
   "execution_count": 25,
   "metadata": {},
   "outputs": [
    {
     "name": "stderr",
     "output_type": "stream",
     "text": [
      "2025-04-23 07:24:41.505 Thread 'MainThread': missing ScriptRunContext! This warning can be ignored when running in bare mode.\n",
      "2025-04-23 07:24:41.506 Thread 'MainThread': missing ScriptRunContext! This warning can be ignored when running in bare mode.\n",
      "2025-04-23 07:24:41.508 Thread 'MainThread': missing ScriptRunContext! This warning can be ignored when running in bare mode.\n",
      "2025-04-23 07:24:41.510 Thread 'MainThread': missing ScriptRunContext! This warning can be ignored when running in bare mode.\n",
      "2025-04-23 07:24:41.511 Thread 'MainThread': missing ScriptRunContext! This warning can be ignored when running in bare mode.\n",
      "2025-04-23 07:24:41.513 Thread 'MainThread': missing ScriptRunContext! This warning can be ignored when running in bare mode.\n",
      "2025-04-23 07:24:41.514 Thread 'MainThread': missing ScriptRunContext! This warning can be ignored when running in bare mode.\n",
      "2025-04-23 07:24:41.515 Thread 'MainThread': missing ScriptRunContext! This warning can be ignored when running in bare mode.\n",
      "2025-04-23 07:24:41.517 Thread 'MainThread': missing ScriptRunContext! This warning can be ignored when running in bare mode.\n",
      "2025-04-23 07:24:41.518 Thread 'MainThread': missing ScriptRunContext! This warning can be ignored when running in bare mode.\n"
     ]
    }
   ],
   "source": [
    "# Import required libraries\n",
    "import streamlit as st\n",
    "import pandas as pd\n",
    "import requests\n",
    "import json\n",
    "import plotly.express as px\n",
    "from datetime import datetime\n",
    "\n",
    "def load_and_predict_data(csv_path):\n",
    "    \"\"\"\n",
    "    Sends the test CSV to the BentoML API endpoint and gets predictions\n",
    "    \"\"\"\n",
    "    # Making a POST request to the BentoML predict_csv endpoint\n",
    "    files = {'csv': open(csv_path, 'rb')}\n",
    "    response = requests.post(\n",
    "        #\"http://localhost:3000/predict_csv\",\n",
    "        #\"https://sticker-sales-predictor-63072676.mt-guc1.bentoml.ai/predict_csv\",\n",
    "        \"https://flexible-functions-ai--sticker-sales-api-predict-api.modal.run/\",\n",
    "        files=files\n",
    "    )\n",
    "    predictions = response.json()\n",
    "   \n",
    "    # Load the original test data\n",
    "    test_df = pd.read_csv(csv_path)\n",
    "   \n",
    "    # Add predictions to the dataframe\n",
    "    test_df['predicted_sales'] = predictions\n",
    "   \n",
    "    # Convert date column to datetime\n",
    "    test_df['date'] = pd.to_datetime(test_df['date'])\n",
    "   \n",
    "    return test_df\n",
    "\n",
    "def create_dashboard():\n",
    "    \"\"\"\n",
    "    Creates the Streamlit dashboard with enhanced filters, KPI cards, and visualizations\n",
    "    \"\"\"\n",
    "    st.title(\"Sales Prediction Dashboard\")\n",
    "    \n",
    "    # Add custom CSS for dark theme cards\n",
    "    st.markdown(\"\"\"\n",
    "        <style>\n",
    "        .metric-card {\n",
    "            background-color: #2C3333;\n",
    "            padding: 20px;\n",
    "            border-radius: 10px;\n",
    "            margin: 10px 0;\n",
    "        }\n",
    "        .metric-label {\n",
    "            color: #718096;\n",
    "            font-size: 0.875rem;\n",
    "        }\n",
    "        .metric-value {\n",
    "            color: white;\n",
    "            font-size: 1.5rem;\n",
    "            font-weight: bold;\n",
    "        }\n",
    "        .trend-positive {\n",
    "            color: #48BB78;\n",
    "        }\n",
    "        .trend-negative {\n",
    "            color: #F56565;\n",
    "        }\n",
    "        </style>\n",
    "    \"\"\", unsafe_allow_html=True)\n",
    "    \n",
    "    # File uploader for the test CSV\n",
    "    uploaded_file = st.file_uploader(\"Upload test CSV file\", type=['csv'])\n",
    "    \n",
    "    if uploaded_file is not None:\n",
    "        # Save the uploaded file temporarily\n",
    "        with open('temp_test.csv', 'wb') as f:\n",
    "            f.write(uploaded_file.getvalue())\n",
    "        \n",
    "        # Load data and get predictions\n",
    "        df = load_and_predict_data('temp_test.csv')\n",
    "        \n",
    "        # Convert date column to datetime if not already\n",
    "        df['date'] = pd.to_datetime(df['date'])\n",
    "        \n",
    "        # Creating filters in a sidebar\n",
    "        st.sidebar.header(\"Filters\")\n",
    "        \n",
    "        # Time period filter\n",
    "        time_periods = {\n",
    "            'All Time': None,\n",
    "            'Last Month': 30,\n",
    "            'Last 3 Months': 90,\n",
    "            'Last Year': 365\n",
    "        }\n",
    "        selected_period = st.sidebar.selectbox('Select Time Period', list(time_periods.keys()))\n",
    "        \n",
    "        # Country filter\n",
    "        countries = ['All'] + sorted(df['country'].unique().tolist())\n",
    "        selected_country = st.sidebar.selectbox('Select Country', countries)\n",
    "        \n",
    "        # Store filter\n",
    "        stores = ['All'] + sorted(df['store'].unique().tolist())\n",
    "        selected_store = st.sidebar.selectbox('Select Store', stores)\n",
    "        \n",
    "        # Product filter\n",
    "        products = ['All'] + sorted(df['product'].unique().tolist())\n",
    "        selected_product = st.sidebar.selectbox('Select Product', products)\n",
    "        \n",
    "        # Apply filters\n",
    "        filtered_df = df.copy()\n",
    "        \n",
    "        # Apply time filter\n",
    "        if time_periods[selected_period]:\n",
    "            max_date = filtered_df['date'].max()\n",
    "            cutoff_date = max_date - pd.Timedelta(days=time_periods[selected_period])\n",
    "            filtered_df = filtered_df[filtered_df['date'] >= cutoff_date]\n",
    "        \n",
    "        if selected_country != 'All':\n",
    "            filtered_df = filtered_df[filtered_df['country'] == selected_country]\n",
    "        if selected_store != 'All':\n",
    "            filtered_df = filtered_df[filtered_df['store'] == selected_store]\n",
    "        if selected_product != 'All':\n",
    "            filtered_df = filtered_df[filtered_df['product'] == selected_product]\n",
    "        \n",
    "        # Calculate metrics for KPI cards\n",
    "        total_sales = filtered_df['predicted_sales'].sum()\n",
    "        avg_daily_sales = filtered_df.groupby('date')['predicted_sales'].sum().mean()\n",
    "        \n",
    "        # Calculate period-over-period changes\n",
    "        if time_periods[selected_period]:\n",
    "            previous_period = filtered_df['date'].min() - pd.Timedelta(days=time_periods[selected_period])\n",
    "            previous_df = df[df['date'] >= previous_period]\n",
    "            previous_df = previous_df[previous_df['date'] < filtered_df['date'].min()]\n",
    "            \n",
    "            prev_total_sales = previous_df['predicted_sales'].sum()\n",
    "            sales_change = ((total_sales - prev_total_sales) / prev_total_sales * 100 \n",
    "                          if prev_total_sales != 0 else 0)\n",
    "        else:\n",
    "            sales_change = 0\n",
    "            \n",
    "        # Create KPI cards using columns\n",
    "        col1, col2, col3, col4 = st.columns(4)\n",
    "        \n",
    "        with col1:\n",
    "            st.markdown(f\"\"\"\n",
    "                <div class=\"metric-card\">\n",
    "                    <div class=\"metric-label\">Total Predicted Sales</div>\n",
    "                    <div class=\"metric-value\">${total_sales:,.0f}</div>\n",
    "                    <div class=\"{'trend-positive' if sales_change >= 0 else 'trend-negative'}\">\n",
    "                        {sales_change:+.1f}% vs previous period\n",
    "                    </div>\n",
    "                </div>\n",
    "            \"\"\", unsafe_allow_html=True)\n",
    "            \n",
    "        with col2:\n",
    "            st.markdown(f\"\"\"\n",
    "                <div class=\"metric-card\">\n",
    "                    <div class=\"metric-label\">Average Daily Sales</div>\n",
    "                    <div class=\"metric-value\">${avg_daily_sales:,.0f}</div>\n",
    "                </div>\n",
    "            \"\"\", unsafe_allow_html=True)\n",
    "            \n",
    "        with col3:\n",
    "            top_store = (filtered_df.groupby('store')['predicted_sales']\n",
    "                        .sum().sort_values(ascending=False).index[0])\n",
    "            store_sales = (filtered_df.groupby('store')['predicted_sales']\n",
    "                         .sum().sort_values(ascending=False).iloc[0])\n",
    "            \n",
    "            st.markdown(f\"\"\"\n",
    "                <div class=\"metric-card\">\n",
    "                    <div class=\"metric-label\">Top Performing Store</div>\n",
    "                    <div class=\"metric-value\">{top_store}</div>\n",
    "                    <div class=\"metric-label\">${store_sales:,.0f} in sales</div>\n",
    "                </div>\n",
    "            \"\"\", unsafe_allow_html=True)\n",
    "            \n",
    "        with col4:\n",
    "            top_product = (filtered_df.groupby('product')['predicted_sales']\n",
    "                          .sum().sort_values(ascending=False).index[0])\n",
    "            product_sales = (filtered_df.groupby('product')['predicted_sales']\n",
    "                           .sum().sort_values(ascending=False).iloc[0])\n",
    "            \n",
    "            st.markdown(f\"\"\"\n",
    "                <div class=\"metric-card\">\n",
    "                    <div class=\"metric-label\">Best Selling Product</div>\n",
    "                    <div class=\"metric-value\">{top_product}</div>\n",
    "                    <div class=\"metric-label\">${product_sales:,.0f} in sales</div>\n",
    "                </div>\n",
    "            \"\"\", unsafe_allow_html=True)\n",
    "        \n",
    "        # Group by date and calculate daily total predicted sales\n",
    "        daily_sales = filtered_df.groupby('date')['predicted_sales'].sum().reset_index()\n",
    "        \n",
    "        # Create the line chart using Plotly with dark theme\n",
    "        fig = px.line(\n",
    "            daily_sales,\n",
    "            x='date',\n",
    "            y='predicted_sales',\n",
    "            title='Predicted Daily Sales Over Time'\n",
    "        )\n",
    "        \n",
    "        # Update layout for dark theme\n",
    "        fig.update_layout(\n",
    "            template=\"plotly_dark\",\n",
    "            plot_bgcolor='rgba(0,0,0,0)',\n",
    "            paper_bgcolor='rgba(0,0,0,0)',\n",
    "            xaxis_title=\"Date\",\n",
    "            yaxis_title=\"Predicted Sales\",\n",
    "            hovermode='x unified',\n",
    "            showlegend=True,\n",
    "            legend=dict(\n",
    "                orientation=\"h\",\n",
    "                yanchor=\"bottom\",\n",
    "                y=1.02,\n",
    "                xanchor=\"right\",\n",
    "                x=1\n",
    "            )\n",
    "        )\n",
    "        \n",
    "        # Add trend line\n",
    "        fig.add_scatter(\n",
    "            x=daily_sales['date'],\n",
    "            y=daily_sales['predicted_sales'].rolling(7).mean(),\n",
    "            name='7-day trend',\n",
    "            line=dict(dash='dash', color='#48BB78'),\n",
    "            visible='legendonly'\n",
    "        )\n",
    "        \n",
    "        # Display the plot\n",
    "        st.plotly_chart(fig, use_container_width=True)\n",
    "        \n",
    "        # Display detailed data view\n",
    "        st.subheader(\"Detailed Data View\")\n",
    "        st.dataframe(\n",
    "            filtered_df.sort_values('date'),\n",
    "            hide_index=True\n",
    "        )\n",
    "\n",
    "if __name__ == \"__main__\":\n",
    "    # Set page configuration at the very beginning\n",
    "    st.set_page_config(\n",
    "        page_title=\"Sales Prediction Dashboard\",\n",
    "        page_icon=\"📊\",\n",
    "        layout=\"wide\",\n",
    "        initial_sidebar_state=\"expanded\"\n",
    "    )\n",
    "    create_dashboard()"
   ]
  },
  {
   "cell_type": "markdown",
   "metadata": {},
   "source": [
    "## Conclusion <a name=\"conclusion\"></a>\n",
    "In this project, we've built an end-to-end solution for sticker sales forecasting:\n",
    "\n",
    "- Data Management: Using Modal volumes\n",
    "- Model Training: Leveraging Modal's cloud compute\n",
    "- API Deployment: Creating serverless endpoints with Modal\n",
    "- Model Management: Using BentoML's versioning capabilities\n",
    "\n",
    "The architecture we've created offers several benefits:\n",
    "\n",
    "- Scalability: Automatically handles varying workloads\n",
    "- Cost Efficiency: Pay only for what you use\n",
    "- Simplicity: No infrastructure management\n",
    "- Reproducibility: Version-controlled models and containerized environments\n",
    "\n",
    "This approach can be adapted for many different machine learning use cases beyond sticker sales forecasting.\n",
    "Next Steps\n",
    "\n",
    "- Add model monitoring, tracking \n",
    "- Incoporate the use of a feature store\n",
    "- Implement A/B testing for different model versions\n",
    "- Set up scheduled retraining\n",
    "- Create a frontend for visualizing predictions"
   ]
  },
  {
   "cell_type": "markdown",
   "metadata": {},
   "source": [
    "\n"
   ]
  }
 ],
 "metadata": {
  "kernelspec": {
   "display_name": "Python 3",
   "language": "python",
   "name": "python3"
  },
  "language_info": {
   "codemirror_mode": {
    "name": "ipython",
    "version": 3
   },
   "file_extension": ".py",
   "mimetype": "text/x-python",
   "name": "python",
   "nbconvert_exporter": "python",
   "pygments_lexer": "ipython3",
   "version": "3.10.12"
  }
 },
 "nbformat": 4,
 "nbformat_minor": 2
}
