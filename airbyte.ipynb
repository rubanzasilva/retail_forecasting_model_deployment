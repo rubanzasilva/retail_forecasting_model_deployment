{
 "cells": [
  {
   "cell_type": "code",
   "execution_count": 2,
   "metadata": {},
   "outputs": [
    {
     "name": "stdout",
     "output_type": "stream",
     "text": [
      "Defaulting to user installation because normal site-packages is not writeable\n",
      "Collecting boto3\n",
      "  Downloading boto3-1.37.13-py3-none-any.whl (139 kB)\n",
      "\u001b[2K     \u001b[90m━━━━━━━━━━━━━━━━━━━━━━━━━━━━━━━━━━━━━\u001b[0m \u001b[32m139.6/139.6 KB\u001b[0m \u001b[31m662.0 kB/s\u001b[0m eta \u001b[36m0:00:00\u001b[0ma \u001b[36m0:00:01\u001b[0m\n",
      "\u001b[?25hCollecting s3transfer<0.12.0,>=0.11.0\n",
      "  Downloading s3transfer-0.11.4-py3-none-any.whl (84 kB)\n",
      "\u001b[2K     \u001b[90m━━━━━━━━━━━━━━━━━━━━━━━━━━━━━━━━━━━━━━━\u001b[0m \u001b[32m84.4/84.4 KB\u001b[0m \u001b[31m847.2 kB/s\u001b[0m eta \u001b[36m0:00:00\u001b[0m \u001b[36m0:00:01\u001b[0m\n",
      "\u001b[?25hCollecting jmespath<2.0.0,>=0.7.1\n",
      "  Using cached jmespath-1.0.1-py3-none-any.whl (20 kB)\n",
      "Collecting botocore<1.38.0,>=1.37.13\n",
      "  Downloading botocore-1.37.13-py3-none-any.whl (13.4 MB)\n",
      "\u001b[2K     \u001b[90m━━━━━━━━━━━━━━━━━━━━━━━━━━━━━━━━━━━━━━━━\u001b[0m \u001b[32m13.4/13.4 MB\u001b[0m \u001b[31m1.0 MB/s\u001b[0m eta \u001b[36m0:00:00\u001b[0m00:01\u001b[0m00:01\u001b[0m\n",
      "\u001b[?25hRequirement already satisfied: python-dateutil<3.0.0,>=2.1 in /home/rubanza/.local/lib/python3.10/site-packages (from botocore<1.38.0,>=1.37.13->boto3) (2.9.0.post0)\n",
      "Requirement already satisfied: urllib3!=2.2.0,<3,>=1.25.4 in /home/rubanza/.local/lib/python3.10/site-packages (from botocore<1.38.0,>=1.37.13->boto3) (2.3.0)\n",
      "Requirement already satisfied: six>=1.5 in /usr/lib/python3/dist-packages (from python-dateutil<3.0.0,>=2.1->botocore<1.38.0,>=1.37.13->boto3) (1.16.0)\n",
      "Installing collected packages: jmespath, botocore, s3transfer, boto3\n",
      "Successfully installed boto3-1.37.13 botocore-1.37.13 jmespath-1.0.1 s3transfer-0.11.4\n"
     ]
    }
   ],
   "source": [
    "!pip install boto3"
   ]
  },
  {
   "cell_type": "code",
   "execution_count": null,
   "metadata": {},
   "outputs": [],
   "source": [
    "import boto3\n",
    "import pandas as pd\n",
    "import io\n",
    "import getpass\n",
    "\n",
    "#| include: false\n",
    "#| code-fold: true\n",
    "#| output: false\n",
    "#| code-summary: \"AWS Authentication\"\n",
    "\n",
    "# Get AWS credentials securely through interactive input\n",
    "aws_access_key = input(\"Enter your AWS access key: \")\n",
    "aws_secret_key = getpass.getpass(\"Enter your AWS secret key: \")\n",
    "\n",
    "# Create S3 client with user-provided credentials\n",
    "s3_client = boto3.client(\n",
    "    's3',\n",
    "    aws_access_key_id=aws_access_key,\n",
    "    aws_secret_access_key=aws_secret_key\n",
    ")\n",
    "\n",
    "# Now you can use s3_client as before\n",
    "# For example:\n",
    "# response = s3_client.get_object(Bucket='your-bucket', Key='your-file.csv')\n",
    "# df = pd.read_csv(io.BytesIO(response['Body'].read()))\n",
    "# Method 1: Download file to local and then read\n",
    "s3_client.download_file('flexible-functions', 'sticker-sales/train.csv/ss_train.csv', 'local_filename_ss.csv')\n",
    "df = pd.read_csv('local_filename_ss.csv')"
   ]
  },
  {
   "cell_type": "code",
   "execution_count": null,
   "metadata": {},
   "outputs": [],
   "source": [
    "# Method 1: Download file to local and then read\n",
    "s3_client.download_file('flexible-functions', 'sticker-sales/train.csv/ss_train.csv', 'local_filename_ss.csv')\n",
    "df = pd.read_csv('local_filename_ss.csv')"
   ]
  },
  {
   "cell_type": "code",
   "execution_count": 4,
   "metadata": {},
   "outputs": [
    {
     "name": "stdout",
     "output_type": "stream",
     "text": [
      "LICENSE\t\tdata\t\t       s05e01-gbms-fastai-preprocessing.ipynb\n",
      "README.md\tgradio_ui\t       service.py\n",
      "__pycache__\tload_save.py\t       streamlit_ui\n",
      "airbyte.ipynb\tlocal_filename_ss.csv  test.py\n",
      "bentofile.yaml\trequirements.txt\n"
     ]
    }
   ],
   "source": [
    "!ls"
   ]
  },
  {
   "cell_type": "code",
   "execution_count": 5,
   "metadata": {},
   "outputs": [],
   "source": [
    "train_df = pd.read_csv('local_filename_ss.csv')"
   ]
  },
  {
   "cell_type": "code",
   "execution_count": 6,
   "metadata": {},
   "outputs": [
    {
     "data": {
      "application/vnd.microsoft.datawrangler.viewer.v0+json": {
       "columns": [
        {
         "name": "index",
         "rawType": "int64",
         "type": "integer"
        },
        {
         "name": "_airbyte_raw_id",
         "rawType": "object",
         "type": "string"
        },
        {
         "name": "_airbyte_extracted_at",
         "rawType": "int64",
         "type": "integer"
        },
        {
         "name": "_airbyte_meta",
         "rawType": "object",
         "type": "string"
        },
        {
         "name": "_airbyte_generation_id",
         "rawType": "int64",
         "type": "integer"
        },
        {
         "name": "_airbyte_data",
         "rawType": "object",
         "type": "string"
        }
       ],
       "conversionMethod": "pd.DataFrame",
       "ref": "61248722-b1a2-4dff-ac0a-2c958062c8cc",
       "rows": [
        [
         "0",
         "6d6c8062-482a-4b5a-aaa6-dea1c916be45",
         "1742174334284",
         "{\"sync_id\":30952774,\"changes\":[]}",
         "1",
         "{\"id\":\"0\",\"date\":\"2010-01-01\",\"country\":\"Canada\",\"store\":\"Discount Stickers\",\"product\":\"Holographic Goose\"}"
        ],
        [
         "1",
         "8d798e53-1322-4db0-a88b-e4eeb7357bb4",
         "1742174334284",
         "{\"sync_id\":30952774,\"changes\":[]}",
         "1",
         "{\"id\":\"1\",\"date\":\"2010-01-01\",\"country\":\"Canada\",\"store\":\"Discount Stickers\",\"product\":\"Kaggle\",\"num_sold\":\"973\"}"
        ],
        [
         "2",
         "33e1611d-353c-4de3-bc18-4ba1dc512679",
         "1742174334284",
         "{\"sync_id\":30952774,\"changes\":[]}",
         "1",
         "{\"id\":\"2\",\"date\":\"2010-01-01\",\"country\":\"Canada\",\"store\":\"Discount Stickers\",\"product\":\"Kaggle Tiers\",\"num_sold\":\"906\"}"
        ],
        [
         "3",
         "240d36b1-a1c8-4c3f-8d9d-63a65f7312e8",
         "1742174334284",
         "{\"sync_id\":30952774,\"changes\":[]}",
         "1",
         "{\"id\":\"3\",\"date\":\"2010-01-01\",\"country\":\"Canada\",\"store\":\"Discount Stickers\",\"product\":\"Kerneler\",\"num_sold\":\"423\"}"
        ],
        [
         "4",
         "6587ddb0-75ca-42cb-8b32-e884e31421e0",
         "1742174334284",
         "{\"sync_id\":30952774,\"changes\":[]}",
         "1",
         "{\"id\":\"4\",\"date\":\"2010-01-01\",\"country\":\"Canada\",\"store\":\"Discount Stickers\",\"product\":\"Kerneler Dark Mode\",\"num_sold\":\"491\"}"
        ],
        [
         "5",
         "93fd50fc-15a8-425a-ab77-3cc4958f1005",
         "1742174334285",
         "{\"sync_id\":30952774,\"changes\":[]}",
         "1",
         "{\"id\":\"5\",\"date\":\"2010-01-01\",\"country\":\"Canada\",\"store\":\"Stickers for Less\",\"product\":\"Holographic Goose\",\"num_sold\":\"300\"}"
        ],
        [
         "6",
         "bf1b2bfc-b943-4380-977d-76a2c56db886",
         "1742174334285",
         "{\"sync_id\":30952774,\"changes\":[]}",
         "1",
         "{\"id\":\"6\",\"date\":\"2010-01-01\",\"country\":\"Canada\",\"store\":\"Stickers for Less\",\"product\":\"Kaggle\",\"num_sold\":\"1837\"}"
        ],
        [
         "7",
         "b0515785-7d9b-4b2a-893d-ff8f31a57abf",
         "1742174334285",
         "{\"sync_id\":30952774,\"changes\":[]}",
         "1",
         "{\"id\":\"7\",\"date\":\"2010-01-01\",\"country\":\"Canada\",\"store\":\"Stickers for Less\",\"product\":\"Kaggle Tiers\",\"num_sold\":\"1659\"}"
        ],
        [
         "8",
         "d6d1733f-fd39-475a-ab86-e46a2231dad1",
         "1742174334285",
         "{\"sync_id\":30952774,\"changes\":[]}",
         "1",
         "{\"id\":\"8\",\"date\":\"2010-01-01\",\"country\":\"Canada\",\"store\":\"Stickers for Less\",\"product\":\"Kerneler\",\"num_sold\":\"807\"}"
        ],
        [
         "9",
         "9a483c13-7ed1-4144-b988-2ac9a0ae5a4c",
         "1742174334285",
         "{\"sync_id\":30952774,\"changes\":[]}",
         "1",
         "{\"id\":\"9\",\"date\":\"2010-01-01\",\"country\":\"Canada\",\"store\":\"Stickers for Less\",\"product\":\"Kerneler Dark Mode\",\"num_sold\":\"940\"}"
        ],
        [
         "10",
         "f95fb862-0749-41b8-a726-2af3b4002d4a",
         "1742174334285",
         "{\"sync_id\":30952774,\"changes\":[]}",
         "1",
         "{\"id\":\"10\",\"date\":\"2010-01-01\",\"country\":\"Canada\",\"store\":\"Premium Sticker Mart\",\"product\":\"Holographic Goose\",\"num_sold\":\"375\"}"
        ],
        [
         "11",
         "2dcb2b9f-27a4-45dc-ac62-25505fc4dd2d",
         "1742174334285",
         "{\"sync_id\":30952774,\"changes\":[]}",
         "1",
         "{\"id\":\"11\",\"date\":\"2010-01-01\",\"country\":\"Canada\",\"store\":\"Premium Sticker Mart\",\"product\":\"Kaggle\",\"num_sold\":\"2212\"}"
        ],
        [
         "12",
         "b3fc7760-681c-4f6e-9919-f9d94d4e539e",
         "1742174334285",
         "{\"sync_id\":30952774,\"changes\":[]}",
         "1",
         "{\"id\":\"12\",\"date\":\"2010-01-01\",\"country\":\"Canada\",\"store\":\"Premium Sticker Mart\",\"product\":\"Kaggle Tiers\",\"num_sold\":\"2013\"}"
        ],
        [
         "13",
         "6d32e3a6-04ae-4635-807d-049f65b48f9a",
         "1742174334285",
         "{\"sync_id\":30952774,\"changes\":[]}",
         "1",
         "{\"id\":\"13\",\"date\":\"2010-01-01\",\"country\":\"Canada\",\"store\":\"Premium Sticker Mart\",\"product\":\"Kerneler\",\"num_sold\":\"950\"}"
        ],
        [
         "14",
         "0a7fd14c-a661-4794-8d9d-f4b5e0f9a6fa",
         "1742174334285",
         "{\"sync_id\":30952774,\"changes\":[]}",
         "1",
         "{\"id\":\"14\",\"date\":\"2010-01-01\",\"country\":\"Canada\",\"store\":\"Premium Sticker Mart\",\"product\":\"Kerneler Dark Mode\",\"num_sold\":\"1213\"}"
        ],
        [
         "15",
         "a063eb6a-e64a-4964-bd34-45e311589077",
         "1742174334285",
         "{\"sync_id\":30952774,\"changes\":[]}",
         "1",
         "{\"id\":\"15\",\"date\":\"2010-01-01\",\"country\":\"Finland\",\"store\":\"Discount Stickers\",\"product\":\"Holographic Goose\",\"num_sold\":\"150\"}"
        ],
        [
         "16",
         "e89669c4-d9c4-4a6e-8690-80f223e4967b",
         "1742174334285",
         "{\"sync_id\":30952774,\"changes\":[]}",
         "1",
         "{\"id\":\"16\",\"date\":\"2010-01-01\",\"country\":\"Finland\",\"store\":\"Discount Stickers\",\"product\":\"Kaggle\",\"num_sold\":\"926\"}"
        ],
        [
         "17",
         "d703e843-3809-4fbd-9dcd-80da89acbc59",
         "1742174334285",
         "{\"sync_id\":30952774,\"changes\":[]}",
         "1",
         "{\"id\":\"17\",\"date\":\"2010-01-01\",\"country\":\"Finland\",\"store\":\"Discount Stickers\",\"product\":\"Kaggle Tiers\",\"num_sold\":\"774\"}"
        ],
        [
         "18",
         "80296b92-4137-48f9-8dd2-2fde74a10ea0",
         "1742174334285",
         "{\"sync_id\":30952774,\"changes\":[]}",
         "1",
         "{\"id\":\"18\",\"date\":\"2010-01-01\",\"country\":\"Finland\",\"store\":\"Discount Stickers\",\"product\":\"Kerneler\",\"num_sold\":\"424\"}"
        ],
        [
         "19",
         "bc9e54cb-dab6-4dc4-9478-79357b1aa45e",
         "1742174334285",
         "{\"sync_id\":30952774,\"changes\":[]}",
         "1",
         "{\"id\":\"19\",\"date\":\"2010-01-01\",\"country\":\"Finland\",\"store\":\"Discount Stickers\",\"product\":\"Kerneler Dark Mode\",\"num_sold\":\"450\"}"
        ],
        [
         "20",
         "ec32e4d3-da94-4dd8-8b34-ff5bc8e2e05e",
         "1742174334291",
         "{\"sync_id\":30952774,\"changes\":[]}",
         "1",
         "{\"id\":\"20\",\"date\":\"2010-01-01\",\"country\":\"Finland\",\"store\":\"Stickers for Less\",\"product\":\"Holographic Goose\",\"num_sold\":\"311\"}"
        ],
        [
         "21",
         "3dcddf2a-3c5c-4a97-a99a-50c62de11f02",
         "1742174334291",
         "{\"sync_id\":30952774,\"changes\":[]}",
         "1",
         "{\"id\":\"21\",\"date\":\"2010-01-01\",\"country\":\"Finland\",\"store\":\"Stickers for Less\",\"product\":\"Kaggle\",\"num_sold\":\"1948\"}"
        ],
        [
         "22",
         "c00f7af9-fca7-4c48-b9c5-9eec5bccfcf5",
         "1742174334291",
         "{\"sync_id\":30952774,\"changes\":[]}",
         "1",
         "{\"id\":\"22\",\"date\":\"2010-01-01\",\"country\":\"Finland\",\"store\":\"Stickers for Less\",\"product\":\"Kaggle Tiers\",\"num_sold\":\"1632\"}"
        ],
        [
         "23",
         "7f8910de-b15d-49e3-81a5-63e2e945be28",
         "1742174334291",
         "{\"sync_id\":30952774,\"changes\":[]}",
         "1",
         "{\"id\":\"23\",\"date\":\"2010-01-01\",\"country\":\"Finland\",\"store\":\"Stickers for Less\",\"product\":\"Kerneler\",\"num_sold\":\"878\"}"
        ],
        [
         "24",
         "19e03638-34fd-493b-8ba5-00c4c4175533",
         "1742174334291",
         "{\"sync_id\":30952774,\"changes\":[]}",
         "1",
         "{\"id\":\"24\",\"date\":\"2010-01-01\",\"country\":\"Finland\",\"store\":\"Stickers for Less\",\"product\":\"Kerneler Dark Mode\",\"num_sold\":\"950\"}"
        ],
        [
         "25",
         "ab9b5333-f7df-4c51-b4aa-663fc89a8492",
         "1742174334291",
         "{\"sync_id\":30952774,\"changes\":[]}",
         "1",
         "{\"id\":\"25\",\"date\":\"2010-01-01\",\"country\":\"Finland\",\"store\":\"Premium Sticker Mart\",\"product\":\"Holographic Goose\",\"num_sold\":\"362\"}"
        ],
        [
         "26",
         "2a14414d-a900-4392-b116-842db9bd4af0",
         "1742174334291",
         "{\"sync_id\":30952774,\"changes\":[]}",
         "1",
         "{\"id\":\"26\",\"date\":\"2010-01-01\",\"country\":\"Finland\",\"store\":\"Premium Sticker Mart\",\"product\":\"Kaggle\",\"num_sold\":\"2304\"}"
        ],
        [
         "27",
         "0f5db46d-8a68-4e9b-aa69-633f80688294",
         "1742174334291",
         "{\"sync_id\":30952774,\"changes\":[]}",
         "1",
         "{\"id\":\"27\",\"date\":\"2010-01-01\",\"country\":\"Finland\",\"store\":\"Premium Sticker Mart\",\"product\":\"Kaggle Tiers\",\"num_sold\":\"2070\"}"
        ],
        [
         "28",
         "752e0465-b92a-4285-b621-df616fceace2",
         "1742174334291",
         "{\"sync_id\":30952774,\"changes\":[]}",
         "1",
         "{\"id\":\"28\",\"date\":\"2010-01-01\",\"country\":\"Finland\",\"store\":\"Premium Sticker Mart\",\"product\":\"Kerneler\",\"num_sold\":\"1134\"}"
        ],
        [
         "29",
         "5b13e255-5a06-4283-93b0-5b3ebb78a588",
         "1742174334291",
         "{\"sync_id\":30952774,\"changes\":[]}",
         "1",
         "{\"id\":\"29\",\"date\":\"2010-01-01\",\"country\":\"Finland\",\"store\":\"Premium Sticker Mart\",\"product\":\"Kerneler Dark Mode\",\"num_sold\":\"1047\"}"
        ],
        [
         "30",
         "64d28d23-14b3-4a2c-8bf0-03f0f818edb6",
         "1742174334291",
         "{\"sync_id\":30952774,\"changes\":[]}",
         "1",
         "{\"id\":\"30\",\"date\":\"2010-01-01\",\"country\":\"Italy\",\"store\":\"Discount Stickers\",\"product\":\"Holographic Goose\",\"num_sold\":\"110\"}"
        ],
        [
         "31",
         "8ee8d6db-0e4d-471f-9555-6f753a3ea0e0",
         "1742174334291",
         "{\"sync_id\":30952774,\"changes\":[]}",
         "1",
         "{\"id\":\"31\",\"date\":\"2010-01-01\",\"country\":\"Italy\",\"store\":\"Discount Stickers\",\"product\":\"Kaggle\",\"num_sold\":\"681\"}"
        ],
        [
         "32",
         "de616219-b3af-4b29-979a-4d13d612a458",
         "1742174334291",
         "{\"sync_id\":30952774,\"changes\":[]}",
         "1",
         "{\"id\":\"32\",\"date\":\"2010-01-01\",\"country\":\"Italy\",\"store\":\"Discount Stickers\",\"product\":\"Kaggle Tiers\",\"num_sold\":\"627\"}"
        ],
        [
         "33",
         "aa5c0a68-a74c-482c-8af3-8072de069cb7",
         "1742174334291",
         "{\"sync_id\":30952774,\"changes\":[]}",
         "1",
         "{\"id\":\"33\",\"date\":\"2010-01-01\",\"country\":\"Italy\",\"store\":\"Discount Stickers\",\"product\":\"Kerneler\",\"num_sold\":\"340\"}"
        ],
        [
         "34",
         "d52c3e52-1e53-4b0b-bb30-56f358238240",
         "1742174334291",
         "{\"sync_id\":30952774,\"changes\":[]}",
         "1",
         "{\"id\":\"34\",\"date\":\"2010-01-01\",\"country\":\"Italy\",\"store\":\"Discount Stickers\",\"product\":\"Kerneler Dark Mode\",\"num_sold\":\"406\"}"
        ],
        [
         "35",
         "75debe92-a2ba-4b2d-8a46-f5d3eb4536c0",
         "1742174334292",
         "{\"sync_id\":30952774,\"changes\":[]}",
         "1",
         "{\"id\":\"35\",\"date\":\"2010-01-01\",\"country\":\"Italy\",\"store\":\"Stickers for Less\",\"product\":\"Holographic Goose\",\"num_sold\":\"228\"}"
        ],
        [
         "36",
         "8834d945-37ee-419a-bd18-98a8eab9d60e",
         "1742174334292",
         "{\"sync_id\":30952774,\"changes\":[]}",
         "1",
         "{\"id\":\"36\",\"date\":\"2010-01-01\",\"country\":\"Italy\",\"store\":\"Stickers for Less\",\"product\":\"Kaggle\",\"num_sold\":\"1424\"}"
        ],
        [
         "37",
         "1cfbcc4b-0422-4055-87ee-75525b2335a2",
         "1742174334292",
         "{\"sync_id\":30952774,\"changes\":[]}",
         "1",
         "{\"id\":\"37\",\"date\":\"2010-01-01\",\"country\":\"Italy\",\"store\":\"Stickers for Less\",\"product\":\"Kaggle Tiers\",\"num_sold\":\"1281\"}"
        ],
        [
         "38",
         "574c6e98-2de1-4553-afd1-b1062895a36a",
         "1742174334292",
         "{\"sync_id\":30952774,\"changes\":[]}",
         "1",
         "{\"id\":\"38\",\"date\":\"2010-01-01\",\"country\":\"Italy\",\"store\":\"Stickers for Less\",\"product\":\"Kerneler\",\"num_sold\":\"637\"}"
        ],
        [
         "39",
         "d805405e-3599-497b-9fed-3ff59a6cb07a",
         "1742174334292",
         "{\"sync_id\":30952774,\"changes\":[]}",
         "1",
         "{\"id\":\"39\",\"date\":\"2010-01-01\",\"country\":\"Italy\",\"store\":\"Stickers for Less\",\"product\":\"Kerneler Dark Mode\",\"num_sold\":\"778\"}"
        ],
        [
         "40",
         "82503653-6b53-4f07-80f2-00a57346a702",
         "1742174334297",
         "{\"sync_id\":30952774,\"changes\":[]}",
         "1",
         "{\"id\":\"40\",\"date\":\"2010-01-01\",\"country\":\"Italy\",\"store\":\"Premium Sticker Mart\",\"product\":\"Holographic Goose\",\"num_sold\":\"269\"}"
        ],
        [
         "41",
         "f00b489e-b237-477e-a79c-43e09b64cfd6",
         "1742174334297",
         "{\"sync_id\":30952774,\"changes\":[]}",
         "1",
         "{\"id\":\"41\",\"date\":\"2010-01-01\",\"country\":\"Italy\",\"store\":\"Premium Sticker Mart\",\"product\":\"Kaggle\",\"num_sold\":\"1786\"}"
        ],
        [
         "42",
         "d18b7b56-f870-43e5-9216-57ff08877a5d",
         "1742174334297",
         "{\"sync_id\":30952774,\"changes\":[]}",
         "1",
         "{\"id\":\"42\",\"date\":\"2010-01-01\",\"country\":\"Italy\",\"store\":\"Premium Sticker Mart\",\"product\":\"Kaggle Tiers\",\"num_sold\":\"1434\"}"
        ],
        [
         "43",
         "693cbed2-8b03-4e4e-abdb-acfba900a207",
         "1742174334297",
         "{\"sync_id\":30952774,\"changes\":[]}",
         "1",
         "{\"id\":\"43\",\"date\":\"2010-01-01\",\"country\":\"Italy\",\"store\":\"Premium Sticker Mart\",\"product\":\"Kerneler\",\"num_sold\":\"783\"}"
        ],
        [
         "44",
         "e70e2a98-0965-4103-a04e-29a458537d09",
         "1742174334298",
         "{\"sync_id\":30952774,\"changes\":[]}",
         "1",
         "{\"id\":\"44\",\"date\":\"2010-01-01\",\"country\":\"Italy\",\"store\":\"Premium Sticker Mart\",\"product\":\"Kerneler Dark Mode\",\"num_sold\":\"861\"}"
        ],
        [
         "45",
         "864b7caa-647c-4644-b44b-c3a9dd0f5ebf",
         "1742174334298",
         "{\"sync_id\":30952774,\"changes\":[]}",
         "1",
         "{\"id\":\"45\",\"date\":\"2010-01-01\",\"country\":\"Kenya\",\"store\":\"Discount Stickers\",\"product\":\"Holographic Goose\"}"
        ],
        [
         "46",
         "aeb5c4cf-42c2-4424-b6ae-7b0030bdb797",
         "1742174334298",
         "{\"sync_id\":30952774,\"changes\":[]}",
         "1",
         "{\"id\":\"46\",\"date\":\"2010-01-01\",\"country\":\"Kenya\",\"store\":\"Discount Stickers\",\"product\":\"Kaggle\",\"num_sold\":\"20\"}"
        ],
        [
         "47",
         "4462f387-2a28-4bd0-99a8-858ff6c4feb9",
         "1742174334298",
         "{\"sync_id\":30952774,\"changes\":[]}",
         "1",
         "{\"id\":\"47\",\"date\":\"2010-01-01\",\"country\":\"Kenya\",\"store\":\"Discount Stickers\",\"product\":\"Kaggle Tiers\",\"num_sold\":\"16\"}"
        ],
        [
         "48",
         "1bbb89b5-b369-4b5a-9734-ca9a9de3cb35",
         "1742174334298",
         "{\"sync_id\":30952774,\"changes\":[]}",
         "1",
         "{\"id\":\"48\",\"date\":\"2010-01-01\",\"country\":\"Kenya\",\"store\":\"Discount Stickers\",\"product\":\"Kerneler\",\"num_sold\":\"8\"}"
        ],
        [
         "49",
         "f3fe23c5-9a45-4d8e-bc0e-9467b2e5b82e",
         "1742174334298",
         "{\"sync_id\":30952774,\"changes\":[]}",
         "1",
         "{\"id\":\"49\",\"date\":\"2010-01-01\",\"country\":\"Kenya\",\"store\":\"Discount Stickers\",\"product\":\"Kerneler Dark Mode\",\"num_sold\":\"9\"}"
        ]
       ],
       "shape": {
        "columns": 5,
        "rows": 230130
       }
      },
      "text/html": [
       "<div>\n",
       "<style scoped>\n",
       "    .dataframe tbody tr th:only-of-type {\n",
       "        vertical-align: middle;\n",
       "    }\n",
       "\n",
       "    .dataframe tbody tr th {\n",
       "        vertical-align: top;\n",
       "    }\n",
       "\n",
       "    .dataframe thead th {\n",
       "        text-align: right;\n",
       "    }\n",
       "</style>\n",
       "<table border=\"1\" class=\"dataframe\">\n",
       "  <thead>\n",
       "    <tr style=\"text-align: right;\">\n",
       "      <th></th>\n",
       "      <th>_airbyte_raw_id</th>\n",
       "      <th>_airbyte_extracted_at</th>\n",
       "      <th>_airbyte_meta</th>\n",
       "      <th>_airbyte_generation_id</th>\n",
       "      <th>_airbyte_data</th>\n",
       "    </tr>\n",
       "  </thead>\n",
       "  <tbody>\n",
       "    <tr>\n",
       "      <th>0</th>\n",
       "      <td>6d6c8062-482a-4b5a-aaa6-dea1c916be45</td>\n",
       "      <td>1742174334284</td>\n",
       "      <td>{\"sync_id\":30952774,\"changes\":[]}</td>\n",
       "      <td>1</td>\n",
       "      <td>{\"id\":\"0\",\"date\":\"2010-01-01\",\"country\":\"Canad...</td>\n",
       "    </tr>\n",
       "    <tr>\n",
       "      <th>1</th>\n",
       "      <td>8d798e53-1322-4db0-a88b-e4eeb7357bb4</td>\n",
       "      <td>1742174334284</td>\n",
       "      <td>{\"sync_id\":30952774,\"changes\":[]}</td>\n",
       "      <td>1</td>\n",
       "      <td>{\"id\":\"1\",\"date\":\"2010-01-01\",\"country\":\"Canad...</td>\n",
       "    </tr>\n",
       "    <tr>\n",
       "      <th>2</th>\n",
       "      <td>33e1611d-353c-4de3-bc18-4ba1dc512679</td>\n",
       "      <td>1742174334284</td>\n",
       "      <td>{\"sync_id\":30952774,\"changes\":[]}</td>\n",
       "      <td>1</td>\n",
       "      <td>{\"id\":\"2\",\"date\":\"2010-01-01\",\"country\":\"Canad...</td>\n",
       "    </tr>\n",
       "    <tr>\n",
       "      <th>3</th>\n",
       "      <td>240d36b1-a1c8-4c3f-8d9d-63a65f7312e8</td>\n",
       "      <td>1742174334284</td>\n",
       "      <td>{\"sync_id\":30952774,\"changes\":[]}</td>\n",
       "      <td>1</td>\n",
       "      <td>{\"id\":\"3\",\"date\":\"2010-01-01\",\"country\":\"Canad...</td>\n",
       "    </tr>\n",
       "    <tr>\n",
       "      <th>4</th>\n",
       "      <td>6587ddb0-75ca-42cb-8b32-e884e31421e0</td>\n",
       "      <td>1742174334284</td>\n",
       "      <td>{\"sync_id\":30952774,\"changes\":[]}</td>\n",
       "      <td>1</td>\n",
       "      <td>{\"id\":\"4\",\"date\":\"2010-01-01\",\"country\":\"Canad...</td>\n",
       "    </tr>\n",
       "    <tr>\n",
       "      <th>...</th>\n",
       "      <td>...</td>\n",
       "      <td>...</td>\n",
       "      <td>...</td>\n",
       "      <td>...</td>\n",
       "      <td>...</td>\n",
       "    </tr>\n",
       "    <tr>\n",
       "      <th>230125</th>\n",
       "      <td>c7c85a06-c777-475f-b224-8a99bd983e8d</td>\n",
       "      <td>1742174354680</td>\n",
       "      <td>{\"sync_id\":30952774,\"changes\":[]}</td>\n",
       "      <td>1</td>\n",
       "      <td>{\"id\":\"230125\",\"date\":\"2016-12-31\",\"country\":\"...</td>\n",
       "    </tr>\n",
       "    <tr>\n",
       "      <th>230126</th>\n",
       "      <td>af6cbb79-e2a6-45c4-badf-59f069dd3c0a</td>\n",
       "      <td>1742174354680</td>\n",
       "      <td>{\"sync_id\":30952774,\"changes\":[]}</td>\n",
       "      <td>1</td>\n",
       "      <td>{\"id\":\"230126\",\"date\":\"2016-12-31\",\"country\":\"...</td>\n",
       "    </tr>\n",
       "    <tr>\n",
       "      <th>230127</th>\n",
       "      <td>9e5a4a1e-a624-40ae-b588-4420f9bcd02a</td>\n",
       "      <td>1742174354680</td>\n",
       "      <td>{\"sync_id\":30952774,\"changes\":[]}</td>\n",
       "      <td>1</td>\n",
       "      <td>{\"id\":\"230127\",\"date\":\"2016-12-31\",\"country\":\"...</td>\n",
       "    </tr>\n",
       "    <tr>\n",
       "      <th>230128</th>\n",
       "      <td>c9688c3f-5feb-47fb-996f-03df6ecfb7e6</td>\n",
       "      <td>1742174354680</td>\n",
       "      <td>{\"sync_id\":30952774,\"changes\":[]}</td>\n",
       "      <td>1</td>\n",
       "      <td>{\"id\":\"230128\",\"date\":\"2016-12-31\",\"country\":\"...</td>\n",
       "    </tr>\n",
       "    <tr>\n",
       "      <th>230129</th>\n",
       "      <td>2221a4a6-3930-4d3b-b75c-94d575df9185</td>\n",
       "      <td>1742174354680</td>\n",
       "      <td>{\"sync_id\":30952774,\"changes\":[]}</td>\n",
       "      <td>1</td>\n",
       "      <td>{\"id\":\"230129\",\"date\":\"2016-12-31\",\"country\":\"...</td>\n",
       "    </tr>\n",
       "  </tbody>\n",
       "</table>\n",
       "<p>230130 rows × 5 columns</p>\n",
       "</div>"
      ],
      "text/plain": [
       "                             _airbyte_raw_id  _airbyte_extracted_at  \\\n",
       "0       6d6c8062-482a-4b5a-aaa6-dea1c916be45          1742174334284   \n",
       "1       8d798e53-1322-4db0-a88b-e4eeb7357bb4          1742174334284   \n",
       "2       33e1611d-353c-4de3-bc18-4ba1dc512679          1742174334284   \n",
       "3       240d36b1-a1c8-4c3f-8d9d-63a65f7312e8          1742174334284   \n",
       "4       6587ddb0-75ca-42cb-8b32-e884e31421e0          1742174334284   \n",
       "...                                      ...                    ...   \n",
       "230125  c7c85a06-c777-475f-b224-8a99bd983e8d          1742174354680   \n",
       "230126  af6cbb79-e2a6-45c4-badf-59f069dd3c0a          1742174354680   \n",
       "230127  9e5a4a1e-a624-40ae-b588-4420f9bcd02a          1742174354680   \n",
       "230128  c9688c3f-5feb-47fb-996f-03df6ecfb7e6          1742174354680   \n",
       "230129  2221a4a6-3930-4d3b-b75c-94d575df9185          1742174354680   \n",
       "\n",
       "                            _airbyte_meta  _airbyte_generation_id  \\\n",
       "0       {\"sync_id\":30952774,\"changes\":[]}                       1   \n",
       "1       {\"sync_id\":30952774,\"changes\":[]}                       1   \n",
       "2       {\"sync_id\":30952774,\"changes\":[]}                       1   \n",
       "3       {\"sync_id\":30952774,\"changes\":[]}                       1   \n",
       "4       {\"sync_id\":30952774,\"changes\":[]}                       1   \n",
       "...                                   ...                     ...   \n",
       "230125  {\"sync_id\":30952774,\"changes\":[]}                       1   \n",
       "230126  {\"sync_id\":30952774,\"changes\":[]}                       1   \n",
       "230127  {\"sync_id\":30952774,\"changes\":[]}                       1   \n",
       "230128  {\"sync_id\":30952774,\"changes\":[]}                       1   \n",
       "230129  {\"sync_id\":30952774,\"changes\":[]}                       1   \n",
       "\n",
       "                                            _airbyte_data  \n",
       "0       {\"id\":\"0\",\"date\":\"2010-01-01\",\"country\":\"Canad...  \n",
       "1       {\"id\":\"1\",\"date\":\"2010-01-01\",\"country\":\"Canad...  \n",
       "2       {\"id\":\"2\",\"date\":\"2010-01-01\",\"country\":\"Canad...  \n",
       "3       {\"id\":\"3\",\"date\":\"2010-01-01\",\"country\":\"Canad...  \n",
       "4       {\"id\":\"4\",\"date\":\"2010-01-01\",\"country\":\"Canad...  \n",
       "...                                                   ...  \n",
       "230125  {\"id\":\"230125\",\"date\":\"2016-12-31\",\"country\":\"...  \n",
       "230126  {\"id\":\"230126\",\"date\":\"2016-12-31\",\"country\":\"...  \n",
       "230127  {\"id\":\"230127\",\"date\":\"2016-12-31\",\"country\":\"...  \n",
       "230128  {\"id\":\"230128\",\"date\":\"2016-12-31\",\"country\":\"...  \n",
       "230129  {\"id\":\"230129\",\"date\":\"2016-12-31\",\"country\":\"...  \n",
       "\n",
       "[230130 rows x 5 columns]"
      ]
     },
     "execution_count": 6,
     "metadata": {},
     "output_type": "execute_result"
    }
   ],
   "source": [
    "train_df"
   ]
  },
  {
   "cell_type": "code",
   "execution_count": null,
   "metadata": {},
   "outputs": [],
   "source": []
  }
 ],
 "metadata": {
  "kernelspec": {
   "display_name": "Python 3",
   "language": "python",
   "name": "python3"
  },
  "language_info": {
   "codemirror_mode": {
    "name": "ipython",
    "version": 3
   },
   "file_extension": ".py",
   "mimetype": "text/x-python",
   "name": "python",
   "nbconvert_exporter": "python",
   "pygments_lexer": "ipython3",
   "version": "3.10.12"
  }
 },
 "nbformat": 4,
 "nbformat_minor": 2
}
